{
 "cells": [
  {
   "cell_type": "code",
   "execution_count": null,
   "metadata": {
    "collapsed": true
   },
   "outputs": [],
   "source": [
    "from sklearn.metrics import classification_report, confusion_matrix, accuracy_score\n",
    "from sklearn.preprocessing import StandardScaler\n",
    "from sklearn.naive_bayes import GaussianNB\n",
    "from sklearn.ensemble import RandomForestClassifier\n",
    "from sklearn.linear_model import LogisticRegression\n",
    "from sklearn.model_selection import cross_val_predict\n",
    "from sklearn.model_selection import StratifiedKFold\n",
    "from sklearn.model_selection import cross_val_score\n",
    "from sklearn.preprocessing import LabelEncoder"
   ]
  },
  {
   "cell_type": "code",
   "execution_count": null,
   "outputs": [],
   "source": [
    "encoder = LabelEncoder()\n",
    "accelerometer['texte'] = encoder.fit_transform(accelerometer['text'])\n",
    "# to know which code belong to which label\n",
    "display(accelerometer['texte'].value_counts())"
   ],
   "metadata": {
    "collapsed": false
   }
  },
  {
   "cell_type": "code",
   "execution_count": null,
   "outputs": [],
   "source": [
    "accelerometer.dtypes\n",
    "withoutTS = accelerometer.drop(['time', 'text', 'seconds_elapsed_y', 'seconds_elapsed_x'], axis=1)\n",
    "withoutTS"
   ],
   "metadata": {
    "collapsed": false
   }
  },
  {
   "cell_type": "code",
   "execution_count": null,
   "outputs": [],
   "source": [
    "withoutLabelDF = withoutTS.iloc[:, :-1]\n",
    "withoutLabelDF"
   ],
   "metadata": {
    "collapsed": false
   }
  },
  {
   "cell_type": "code",
   "execution_count": null,
   "outputs": [],
   "source": [],
   "metadata": {
    "collapsed": false
   }
  },
  {
   "cell_type": "code",
   "execution_count": null,
   "outputs": [],
   "source": [
    "def evaluate(window_size, overlap, feature_sets):\n",
    "    segments = withoutLabelDF.rolling(window=window_size, center=True, min_periods=window_size).agg(feature_sets)\n",
    "    segments.columns = ['-'.join(tup).rstrip('-') for tup in segments.columns.values]\n",
    "    segments = pd.concat([withoutTS.iloc[:, -1], segments], axis=1)\n",
    "    segments = segments.dropna()\n",
    "    # segments = segments[::(int)(window_size * overlap)]\n",
    "    percentage = (int)((window_size)-(window_size * overlap))\n",
    "    segments = segments[::percentage]\n",
    "    features_df = segments\n",
    "    display(features_df)\n",
    "    # selecting the data and the labels which is the last column\n",
    "    X = features_df.iloc[:, 1:].values\n",
    "    y = features_df.iloc[:, :1].values\n",
    "    #standardization\n",
    "    sc = StandardScaler()\n",
    "    X = sc.fit_transform(X)\n",
    "    #create GNB model\n",
    "    # classifier = GaussianNB()\n",
    "\n",
    "    #Create a Gaussian Classifier\n",
    "    classifier=RandomForestClassifier(n_estimators=100)\n",
    "    #Train the model using the training sets y_pred=clf.predict(X_test)\n",
    "    classifier.fit(X,y)\n",
    "    # y_pred=clf.predict(X_test)\n",
    "\n",
    "    kfold = StratifiedKFold(n_splits=10)\n",
    "    # pass your model and KFold object to cross_val_score\n",
    "    cv_score = cross_val_score(classifier, X, y.ravel(), cv=kfold)\n",
    "    # Model performance\n",
    "    print(\"Accuracy: {:.2f} %\".format(cv_score.mean() * 100))\n",
    "    print(\"Standard Deviation: {:.2f} %\".format(cv_score.std() * 100))\n",
    "    # y_pred = cross_val_predict(classifier, X, y.ravel(), cv=10)\n",
    "    # report = classification_report(y, y_pred, target_names=target_names, digits=4, output_dict=True)\n",
    "    # df = pd.DataFrame(report).transpose()\n",
    "    # # df.to_csv('C:\\\\Users\\Amer\\Desktop\\dddd.csv')\n",
    "    # output_filepath = \"C:\\\\Users\\Amer\\Desktop\\ \"\n",
    "    # df.to_csv(output_filepath + \"WS \" + str(window_size) + \" OL \" + str(overlap) + \" FS \" + str(feature_sets) + \".csv\")"
   ],
   "metadata": {
    "collapsed": false
   }
  },
  {
   "cell_type": "code",
   "execution_count": null,
   "outputs": [],
   "source": [
    "evaluate(50, 0.5, ['min', 'max', 'sum', 'mean', 'std'])"
   ],
   "metadata": {
    "collapsed": false
   }
  },
  {
   "cell_type": "code",
   "execution_count": null,
   "outputs": [],
   "source": [],
   "metadata": {
    "collapsed": false
   }
  }
 ],
 "metadata": {
  "kernelspec": {
   "display_name": "Python 3",
   "language": "python",
   "name": "python3"
  },
  "language_info": {
   "codemirror_mode": {
    "name": "ipython",
    "version": 2
   },
   "file_extension": ".py",
   "mimetype": "text/x-python",
   "name": "python",
   "nbconvert_exporter": "python",
   "pygments_lexer": "ipython2",
   "version": "2.7.6"
  }
 },
 "nbformat": 4,
 "nbformat_minor": 0
}
