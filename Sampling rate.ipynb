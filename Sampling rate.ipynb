{
 "cells": [
  {
   "cell_type": "code",
   "execution_count": 1,
   "outputs": [],
   "source": [
    "import pandas as pd\n",
    "import numpy as np"
   ],
   "metadata": {
    "collapsed": false
   }
  },
  {
   "cell_type": "markdown",
   "source": [
    "## Diagnosing Sampling Rates"
   ],
   "metadata": {
    "collapsed": false
   }
  },
  {
   "cell_type": "code",
   "execution_count": 10,
   "outputs": [
    {
     "data": {
      "text/plain": "2.849468546139821"
     },
     "execution_count": 10,
     "metadata": {},
     "output_type": "execute_result"
    }
   ],
   "source": [
    "df = pd.read_csv('./Data/input/5/Microphone.csv')\n",
    "consecutive_deltas = df['seconds_elapsed'].diff()\n",
    "avg_sampling_rate = 1 / np.mean(consecutive_deltas)\n",
    "shortest_gap = np.min(consecutive_deltas)\n",
    "maximum_gap = np.max(consecutive_deltas)\n",
    "total_num_of_samples = len(df.index)\n",
    "avg_sampling_rate"
   ],
   "metadata": {
    "collapsed": false
   }
  },
  {
   "cell_type": "code",
   "execution_count": 10,
   "outputs": [
    {
     "data": {
      "text/plain": "0.15182585725252543"
     },
     "execution_count": 10,
     "metadata": {},
     "output_type": "execute_result"
    }
   ],
   "source": [
    "df = pd.read_csv('./Data/input/amer2/Light.csv')\n",
    "consecutive_deltas = df['seconds_elapsed'].diff()\n",
    "avg_sampling_rate = 1 / np.mean(consecutive_deltas)\n",
    "shortest_gap = np.min(consecutive_deltas)\n",
    "maximum_gap = np.max(consecutive_deltas)\n",
    "total_num_of_samples = len(df.index)\n",
    "avg_sampling_rate"
   ],
   "metadata": {
    "collapsed": false
   }
  },
  {
   "cell_type": "markdown",
   "source": [
    "## To resample your data, for example, to minute periods:"
   ],
   "metadata": {
    "collapsed": false
   }
  },
  {
   "cell_type": "code",
   "execution_count": 13,
   "outputs": [
    {
     "data": {
      "text/plain": "                                    time  seconds_elapsed         z         y  \\\ntime                                                                            \n2023-01-24 16:08:00  1674576519992192000        20.094192 -0.000551 -0.006010   \n2023-01-24 16:09:00  1674576570002398720        70.104399 -0.007723  0.000144   \n2023-01-24 16:10:00  1674576630003599872       130.105600 -0.023728 -0.007646   \n2023-01-24 16:11:00  1674576690004231936       190.106232 -0.237226 -0.033144   \n2023-01-24 16:12:00  1674576750004185088       250.106185 -0.170460  0.055023   \n2023-01-24 16:13:00  1674576810001483776       310.103484 -0.052931  0.034648   \n2023-01-24 16:14:00  1674576870000955904       370.102956 -0.005235  0.008630   \n2023-01-24 16:15:00  1674576930003732224       430.105732 -0.010395  0.002322   \n2023-01-24 16:16:00  1674576990000285952       490.102286 -0.299657 -0.169588   \n2023-01-24 16:17:00  1674577049997395968       550.099396 -0.135304 -0.146934   \n2023-01-24 16:18:00  1674577109999884800       610.101885 -0.021400 -0.030809   \n2023-01-24 16:19:00  1674577170002828288       670.104828  0.022627 -0.029132   \n2023-01-24 16:20:00  1674577224771986688       724.873987  0.017002 -0.018494   \n\n                            x  \ntime                           \n2023-01-24 16:08:00  0.048990  \n2023-01-24 16:09:00  0.018529  \n2023-01-24 16:10:00  0.016645  \n2023-01-24 16:11:00  0.229378  \n2023-01-24 16:12:00  0.178802  \n2023-01-24 16:13:00  0.044335  \n2023-01-24 16:14:00 -0.004470  \n2023-01-24 16:15:00 -0.004355  \n2023-01-24 16:16:00 -0.018846  \n2023-01-24 16:17:00 -0.086825  \n2023-01-24 16:18:00 -0.038302  \n2023-01-24 16:19:00 -0.031965  \n2023-01-24 16:20:00 -0.027063  ",
      "text/html": "<div>\n<style scoped>\n    .dataframe tbody tr th:only-of-type {\n        vertical-align: middle;\n    }\n\n    .dataframe tbody tr th {\n        vertical-align: top;\n    }\n\n    .dataframe thead th {\n        text-align: right;\n    }\n</style>\n<table border=\"1\" class=\"dataframe\">\n  <thead>\n    <tr style=\"text-align: right;\">\n      <th></th>\n      <th>time</th>\n      <th>seconds_elapsed</th>\n      <th>z</th>\n      <th>y</th>\n      <th>x</th>\n    </tr>\n    <tr>\n      <th>time</th>\n      <th></th>\n      <th></th>\n      <th></th>\n      <th></th>\n      <th></th>\n    </tr>\n  </thead>\n  <tbody>\n    <tr>\n      <th>2023-01-24 16:08:00</th>\n      <td>1674576519992192000</td>\n      <td>20.094192</td>\n      <td>-0.000551</td>\n      <td>-0.006010</td>\n      <td>0.048990</td>\n    </tr>\n    <tr>\n      <th>2023-01-24 16:09:00</th>\n      <td>1674576570002398720</td>\n      <td>70.104399</td>\n      <td>-0.007723</td>\n      <td>0.000144</td>\n      <td>0.018529</td>\n    </tr>\n    <tr>\n      <th>2023-01-24 16:10:00</th>\n      <td>1674576630003599872</td>\n      <td>130.105600</td>\n      <td>-0.023728</td>\n      <td>-0.007646</td>\n      <td>0.016645</td>\n    </tr>\n    <tr>\n      <th>2023-01-24 16:11:00</th>\n      <td>1674576690004231936</td>\n      <td>190.106232</td>\n      <td>-0.237226</td>\n      <td>-0.033144</td>\n      <td>0.229378</td>\n    </tr>\n    <tr>\n      <th>2023-01-24 16:12:00</th>\n      <td>1674576750004185088</td>\n      <td>250.106185</td>\n      <td>-0.170460</td>\n      <td>0.055023</td>\n      <td>0.178802</td>\n    </tr>\n    <tr>\n      <th>2023-01-24 16:13:00</th>\n      <td>1674576810001483776</td>\n      <td>310.103484</td>\n      <td>-0.052931</td>\n      <td>0.034648</td>\n      <td>0.044335</td>\n    </tr>\n    <tr>\n      <th>2023-01-24 16:14:00</th>\n      <td>1674576870000955904</td>\n      <td>370.102956</td>\n      <td>-0.005235</td>\n      <td>0.008630</td>\n      <td>-0.004470</td>\n    </tr>\n    <tr>\n      <th>2023-01-24 16:15:00</th>\n      <td>1674576930003732224</td>\n      <td>430.105732</td>\n      <td>-0.010395</td>\n      <td>0.002322</td>\n      <td>-0.004355</td>\n    </tr>\n    <tr>\n      <th>2023-01-24 16:16:00</th>\n      <td>1674576990000285952</td>\n      <td>490.102286</td>\n      <td>-0.299657</td>\n      <td>-0.169588</td>\n      <td>-0.018846</td>\n    </tr>\n    <tr>\n      <th>2023-01-24 16:17:00</th>\n      <td>1674577049997395968</td>\n      <td>550.099396</td>\n      <td>-0.135304</td>\n      <td>-0.146934</td>\n      <td>-0.086825</td>\n    </tr>\n    <tr>\n      <th>2023-01-24 16:18:00</th>\n      <td>1674577109999884800</td>\n      <td>610.101885</td>\n      <td>-0.021400</td>\n      <td>-0.030809</td>\n      <td>-0.038302</td>\n    </tr>\n    <tr>\n      <th>2023-01-24 16:19:00</th>\n      <td>1674577170002828288</td>\n      <td>670.104828</td>\n      <td>0.022627</td>\n      <td>-0.029132</td>\n      <td>-0.031965</td>\n    </tr>\n    <tr>\n      <th>2023-01-24 16:20:00</th>\n      <td>1674577224771986688</td>\n      <td>724.873987</td>\n      <td>0.017002</td>\n      <td>-0.018494</td>\n      <td>-0.027063</td>\n    </tr>\n  </tbody>\n</table>\n</div>"
     },
     "execution_count": 13,
     "metadata": {},
     "output_type": "execute_result"
    }
   ],
   "source": [
    "df = pd.read_csv('./Data/input/amer2/Accelerometer.csv')\n",
    "df.index = pd.to_datetime(df['time'], unit = 'ns')\n",
    "df.resample('1T').median()\n",
    "df = df.resample('1T').median()"
   ],
   "metadata": {
    "collapsed": false
   }
  },
  {
   "cell_type": "code",
   "execution_count": 14,
   "outputs": [
    {
     "data": {
      "text/plain": "100.7888354593751"
     },
     "execution_count": 14,
     "metadata": {},
     "output_type": "execute_result"
    }
   ],
   "source": [
    "consecutive_deltas = df['seconds_elapsed'].diff()\n",
    "avg_sampling_rate = 1 / np.mean(consecutive_deltas)\n",
    "shortest_gap = np.min(consecutive_deltas)\n",
    "maximum_gap = np.max(consecutive_deltas)\n",
    "total_num_of_samples = len(df.index)\n",
    "avg_sampling_rate"
   ],
   "metadata": {
    "collapsed": false
   }
  },
  {
   "cell_type": "code",
   "execution_count": null,
   "outputs": [],
   "source": [],
   "metadata": {
    "collapsed": false
   }
  }
 ],
 "metadata": {
  "kernelspec": {
   "display_name": "Python 3",
   "language": "python",
   "name": "python3"
  },
  "language_info": {
   "codemirror_mode": {
    "name": "ipython",
    "version": 2
   },
   "file_extension": ".py",
   "mimetype": "text/x-python",
   "name": "python",
   "nbconvert_exporter": "python",
   "pygments_lexer": "ipython2",
   "version": "2.7.6"
  }
 },
 "nbformat": 4,
 "nbformat_minor": 0
}
