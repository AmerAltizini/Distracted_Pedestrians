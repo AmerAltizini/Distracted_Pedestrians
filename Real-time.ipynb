{
 "cells": [
  {
   "cell_type": "code",
   "execution_count": 9,
   "outputs": [],
   "source": [
    "import dash\n",
    "from dash.dependencies import Output, Input\n",
    "from dash import dcc, html, dcc\n",
    "from datetime import datetime\n",
    "import json\n",
    "import plotly.graph_objs as go\n",
    "from collections import deque\n",
    "from flask import Flask, request"
   ],
   "metadata": {
    "collapsed": false
   }
  },
  {
   "cell_type": "markdown",
   "source": [
    "Run this Python script and visit http://localhost:8000/ on your computer. Then you have to enter the correct Push URL in Sensor Logger on your phone under the settings page. To find out the localhost of the device you are running the websever on, you can, for example, do something like this in Python."
   ],
   "metadata": {
    "collapsed": false
   }
  },
  {
   "cell_type": "code",
   "execution_count": 10,
   "outputs": [
    {
     "name": "stdout",
     "output_type": "stream",
     "text": [
      "10.30.35.253\n"
     ]
    }
   ],
   "source": [
    "import socket\n",
    "hostname = socket.gethostname()\n",
    "print(socket.gethostbyname(hostname))"
   ],
   "metadata": {
    "collapsed": false
   }
  },
  {
   "cell_type": "markdown",
   "source": [
    "For example, if it returns 192.168.1.168, then you want to enter http://192.168.1.168:8000/data in Sensor Logger. Use the \"Tap to Test Pushing\" button to test whether Sensor Logger can properly reach the endpoint. If you get a 200 response, then you are good to go! Start a recording as usual, and you should begin to see data being streamed in:"
   ],
   "metadata": {
    "collapsed": false
   }
  },
  {
   "cell_type": "code",
   "execution_count": null,
   "outputs": [],
   "source": [
    "server = Flask(__name__)\n",
    "app = dash.Dash(__name__, server=server)\n",
    "\n",
    "MAX_DATA_POINTS = 1000\n",
    "UPDATE_FREQ_MS = 100\n",
    "\n",
    "time = deque(maxlen=MAX_DATA_POINTS)\n",
    "accel_x = deque(maxlen=MAX_DATA_POINTS)\n",
    "accel_y = deque(maxlen=MAX_DATA_POINTS)\n",
    "accel_z = deque(maxlen=MAX_DATA_POINTS)\n",
    "\n",
    "app.layout = html.Div(\n",
    "\t[\n",
    "\t\tdcc.Markdown(\n",
    "\t\t\tchildren=\"\"\"\n",
    "\t\t\t# Live Sensor Readings\n",
    "\t\t\tStreamed from Sensor Logger: tszheichoi.com/sensorlogger\n",
    "\t\t\"\"\"\n",
    "\t\t),\n",
    "\t\tdcc.Graph(id=\"live_graph\"),\n",
    "\t\tdcc.Interval(id=\"counter\", interval=UPDATE_FREQ_MS),\n",
    "\t]\n",
    ")\n",
    "\n",
    "\n",
    "@app.callback(Output(\"live_graph\", \"figure\"), Input(\"counter\", \"n_intervals\"))\n",
    "def update_graph(_counter):\n",
    "\tdata = [\n",
    "\t\tgo.Scatter(x=list(time), y=list(d), name=name)\n",
    "\t\tfor d, name in zip([accel_x, accel_y, accel_z], [\"X\", \"Y\", \"Z\"])\n",
    "\t]\n",
    "\n",
    "\tgraph = {\n",
    "\t\t\"data\": data,\n",
    "\t\t\"layout\": go.Layout(\n",
    "\t\t\t{\n",
    "\t\t\t\t\"xaxis\": {\"type\": \"date\"},\n",
    "\t\t\t\t\"yaxis\": {\"title\": \"Acceleration ms<sup>-2</sup>\"},\n",
    "\t\t\t}\n",
    "\t\t),\n",
    "\t}\n",
    "\tif (\n",
    "\t\tlen(time) > 0\n",
    "\t):  #  cannot adjust plot ranges until there is at least one data point\n",
    "\t\tgraph[\"layout\"][\"xaxis\"][\"range\"] = [min(time), max(time)]\n",
    "\t\tgraph[\"layout\"][\"yaxis\"][\"range\"] = [\n",
    "\t\t\tmin(accel_x + accel_y + accel_z),\n",
    "\t\t\tmax(accel_x + accel_y + accel_z),\n",
    "\t\t]\n",
    "\n",
    "\treturn graph\n",
    "\n",
    "\n",
    "@server.route(\"/data\", methods=[\"POST\"])\n",
    "def data():  # listens to the data streamed from the sensor logger\n",
    "\tif str(request.method) == \"POST\":\n",
    "\t\tprint(f'received data: {request.data}')\n",
    "\t\tdata = json.loads(request.data)\n",
    "\t\tfor d in data['payload']:\n",
    "\t\t\tif (\n",
    "\t\t\t\td.get(\"name\", None) == \"accelerometer\"\n",
    "\t\t\t):  #  modify to access different sensors\n",
    "\t\t\t\tts = datetime.fromtimestamp(d[\"time\"] / 1000000000)\n",
    "\t\t\t\tif len(time) == 0 or ts > time[-1]:\n",
    "\t\t\t\t\ttime.append(ts)\n",
    "\t\t\t\t\t# modify the following based on which sensor is accessed, log the raw json for guidance\n",
    "\t\t\t\t\taccel_x.append(d[\"values\"][\"x\"])\n",
    "\t\t\t\t\taccel_y.append(d[\"values\"][\"y\"])\n",
    "\t\t\t\t\taccel_z.append(d[\"values\"][\"z\"])\n",
    "\treturn \"success\"\n",
    "\n",
    "\n",
    "if __name__ == \"__main__\":\n",
    "\tapp.run_server(port=8000, host=\"0.0.0.0\")"
   ],
   "metadata": {
    "collapsed": false,
    "pycharm": {
     "is_executing": true
    }
   }
  },
  {
   "cell_type": "code",
   "execution_count": 11,
   "outputs": [],
   "source": [
    "# logs sensorlogger input to log.js\n",
    "# run as:\n",
    "# flask run --host=0.0.0.0 --port=<portnumber>\n",
    "\n",
    "# in sensorlogger, configure HTTP push as:\n",
    "# http://<thisip>:<portnumber>/sensorlogger\n",
    "\n",
    "from datetime import datetime\n",
    "import json\n",
    "\n",
    "from flask import Flask, request\n",
    "\n",
    "app = Flask(__name__)\n",
    "\n",
    "fd = open(\"log.js\", \"w\")\n",
    "\n",
    "\n",
    "\n",
    "@app.route(\"/sensorlogger\", methods=[\"POST\"])\n",
    "def data():  # listens to the data streamed from the sensor logger\n",
    "    if str(request.method) == \"POST\":\n",
    "        print(f'received data: {request.data}')\n",
    "        data = json.loads(request.data)\n",
    "        fd.write(json.dumps(data, indent=4))\n",
    "        fd.write(\"\\n\\n\")\n",
    "    return \"success\""
   ],
   "metadata": {
    "collapsed": false
   }
  },
  {
   "cell_type": "code",
   "execution_count": null,
   "outputs": [],
   "source": [
    "export INFLUXDB_TOKEN=5SNGsMtpQEPCFMSduETRGq6strEi4a9FBZYhQ0EOI6Q4OKhcIDqdDkQ7dEqNdgo_AeyDISEd924MmoomFo9HiA=="
   ],
   "metadata": {
    "collapsed": false
   }
  },
  {
   "cell_type": "code",
   "execution_count": 9,
   "outputs": [],
   "source": [
    "import influxdb_client, os, time\n",
    "from influxdb_client import InfluxDBClient, Point, WritePrecision\n",
    "from influxdb_client.client.write_api import SYNCHRONOUS\n",
    "\n",
    "token = os.environ.get(\"INFLUXDB_TOKEN\")\n",
    "org = \"amer.altizini@gmail.com\"\n",
    "url = \"https://europe-west1-1.gcp.cloud2.influxdata.com\"\n",
    "\n",
    "client = influxdb_client.InfluxDBClient(url=url, token=token, org=org)\n",
    "\n",
    "bucket=\"Amer\""
   ],
   "metadata": {
    "collapsed": false
   }
  },
  {
   "cell_type": "code",
   "execution_count": 10,
   "outputs": [
    {
     "ename": "ApiException",
     "evalue": "(401)\nReason: Unauthorized\nHTTP response headers: HTTPHeaderDict({'Date': 'Wed, 14 Dec 2022 09:45:59 GMT', 'Content-Type': 'application/json; charset=utf-8', 'Content-Length': '55', 'Connection': 'keep-alive', 'trace-id': '67ca25d31f3ecc06', 'trace-sampled': 'false', 'x-platform-error-code': 'unauthorized', 'Strict-Transport-Security': 'max-age=15724800; includeSubDomains', 'X-Influxdb-Request-ID': 'ee4fe1a91c74dd78c1894e5cd951a6fa', 'X-Influxdb-Build': 'Cloud'})\nHTTP response body: {\"code\":\"unauthorized\",\"message\":\"unauthorized access\"}\n",
     "output_type": "error",
     "traceback": [
      "\u001B[1;31m---------------------------------------------------------------------------\u001B[0m",
      "\u001B[1;31mApiException\u001B[0m                              Traceback (most recent call last)",
      "\u001B[1;32m<ipython-input-10-d007b005ddc0>\u001B[0m in \u001B[0;36m<module>\u001B[1;34m\u001B[0m\n\u001B[0;32m      7\u001B[0m     \u001B[1;33m.\u001B[0m\u001B[0mfield\u001B[0m\u001B[1;33m(\u001B[0m\u001B[1;34m\"field1\"\u001B[0m\u001B[1;33m,\u001B[0m \u001B[0mvalue\u001B[0m\u001B[1;33m)\u001B[0m\u001B[1;33m\u001B[0m\u001B[1;33m\u001B[0m\u001B[0m\n\u001B[0;32m      8\u001B[0m   )\n\u001B[1;32m----> 9\u001B[1;33m   \u001B[0mwrite_api\u001B[0m\u001B[1;33m.\u001B[0m\u001B[0mwrite\u001B[0m\u001B[1;33m(\u001B[0m\u001B[0mbucket\u001B[0m\u001B[1;33m=\u001B[0m\u001B[0mbucket\u001B[0m\u001B[1;33m,\u001B[0m \u001B[0morg\u001B[0m\u001B[1;33m=\u001B[0m\u001B[1;34m\"amer.altizini@gmail.com\"\u001B[0m\u001B[1;33m,\u001B[0m \u001B[0mrecord\u001B[0m\u001B[1;33m=\u001B[0m\u001B[0mpoint\u001B[0m\u001B[1;33m)\u001B[0m\u001B[1;33m\u001B[0m\u001B[1;33m\u001B[0m\u001B[0m\n\u001B[0m\u001B[0;32m     10\u001B[0m   \u001B[0mtime\u001B[0m\u001B[1;33m.\u001B[0m\u001B[0msleep\u001B[0m\u001B[1;33m(\u001B[0m\u001B[1;36m1\u001B[0m\u001B[1;33m)\u001B[0m \u001B[1;31m# separate points by 1 second\u001B[0m\u001B[1;33m\u001B[0m\u001B[1;33m\u001B[0m\u001B[0m\n",
      "\u001B[1;32mC:\\ProgramData\\Anaconda3\\lib\\site-packages\\influxdb_client\\client\\write_api.py\u001B[0m in \u001B[0;36mwrite\u001B[1;34m(self, bucket, org, record, write_precision, **kwargs)\u001B[0m\n\u001B[0;32m    372\u001B[0m             \u001B[1;32mreturn\u001B[0m \u001B[0mself\u001B[0m\u001B[1;33m.\u001B[0m\u001B[0m_post_write\u001B[0m\u001B[1;33m(\u001B[0m\u001B[0m_async_req\u001B[0m\u001B[1;33m,\u001B[0m \u001B[0mbucket\u001B[0m\u001B[1;33m,\u001B[0m \u001B[0morg\u001B[0m\u001B[1;33m,\u001B[0m \u001B[0mfinal_string\u001B[0m\u001B[1;33m,\u001B[0m \u001B[0mpayload\u001B[0m\u001B[1;33m[\u001B[0m\u001B[1;36m0\u001B[0m\u001B[1;33m]\u001B[0m\u001B[1;33m)\u001B[0m\u001B[1;33m\u001B[0m\u001B[1;33m\u001B[0m\u001B[0m\n\u001B[0;32m    373\u001B[0m \u001B[1;33m\u001B[0m\u001B[0m\n\u001B[1;32m--> 374\u001B[1;33m         \u001B[0mresults\u001B[0m \u001B[1;33m=\u001B[0m \u001B[0mlist\u001B[0m\u001B[1;33m(\u001B[0m\u001B[0mmap\u001B[0m\u001B[1;33m(\u001B[0m\u001B[0mwrite_payload\u001B[0m\u001B[1;33m,\u001B[0m \u001B[0mpayloads\u001B[0m\u001B[1;33m.\u001B[0m\u001B[0mitems\u001B[0m\u001B[1;33m(\u001B[0m\u001B[1;33m)\u001B[0m\u001B[1;33m)\u001B[0m\u001B[1;33m)\u001B[0m\u001B[1;33m\u001B[0m\u001B[1;33m\u001B[0m\u001B[0m\n\u001B[0m\u001B[0;32m    375\u001B[0m         \u001B[1;32mif\u001B[0m \u001B[1;32mnot\u001B[0m \u001B[0m_async_req\u001B[0m\u001B[1;33m:\u001B[0m\u001B[1;33m\u001B[0m\u001B[1;33m\u001B[0m\u001B[0m\n\u001B[0;32m    376\u001B[0m             \u001B[1;32mreturn\u001B[0m \u001B[1;32mNone\u001B[0m\u001B[1;33m\u001B[0m\u001B[1;33m\u001B[0m\u001B[0m\n",
      "\u001B[1;32mC:\\ProgramData\\Anaconda3\\lib\\site-packages\\influxdb_client\\client\\write_api.py\u001B[0m in \u001B[0;36mwrite_payload\u001B[1;34m(payload)\u001B[0m\n\u001B[0;32m    370\u001B[0m         \u001B[1;32mdef\u001B[0m \u001B[0mwrite_payload\u001B[0m\u001B[1;33m(\u001B[0m\u001B[0mpayload\u001B[0m\u001B[1;33m)\u001B[0m\u001B[1;33m:\u001B[0m\u001B[1;33m\u001B[0m\u001B[1;33m\u001B[0m\u001B[0m\n\u001B[0;32m    371\u001B[0m             \u001B[0mfinal_string\u001B[0m \u001B[1;33m=\u001B[0m \u001B[1;34mb'\\n'\u001B[0m\u001B[1;33m.\u001B[0m\u001B[0mjoin\u001B[0m\u001B[1;33m(\u001B[0m\u001B[0mpayload\u001B[0m\u001B[1;33m[\u001B[0m\u001B[1;36m1\u001B[0m\u001B[1;33m]\u001B[0m\u001B[1;33m)\u001B[0m\u001B[1;33m\u001B[0m\u001B[1;33m\u001B[0m\u001B[0m\n\u001B[1;32m--> 372\u001B[1;33m             \u001B[1;32mreturn\u001B[0m \u001B[0mself\u001B[0m\u001B[1;33m.\u001B[0m\u001B[0m_post_write\u001B[0m\u001B[1;33m(\u001B[0m\u001B[0m_async_req\u001B[0m\u001B[1;33m,\u001B[0m \u001B[0mbucket\u001B[0m\u001B[1;33m,\u001B[0m \u001B[0morg\u001B[0m\u001B[1;33m,\u001B[0m \u001B[0mfinal_string\u001B[0m\u001B[1;33m,\u001B[0m \u001B[0mpayload\u001B[0m\u001B[1;33m[\u001B[0m\u001B[1;36m0\u001B[0m\u001B[1;33m]\u001B[0m\u001B[1;33m)\u001B[0m\u001B[1;33m\u001B[0m\u001B[1;33m\u001B[0m\u001B[0m\n\u001B[0m\u001B[0;32m    373\u001B[0m \u001B[1;33m\u001B[0m\u001B[0m\n\u001B[0;32m    374\u001B[0m         \u001B[0mresults\u001B[0m \u001B[1;33m=\u001B[0m \u001B[0mlist\u001B[0m\u001B[1;33m(\u001B[0m\u001B[0mmap\u001B[0m\u001B[1;33m(\u001B[0m\u001B[0mwrite_payload\u001B[0m\u001B[1;33m,\u001B[0m \u001B[0mpayloads\u001B[0m\u001B[1;33m.\u001B[0m\u001B[0mitems\u001B[0m\u001B[1;33m(\u001B[0m\u001B[1;33m)\u001B[0m\u001B[1;33m)\u001B[0m\u001B[1;33m)\u001B[0m\u001B[1;33m\u001B[0m\u001B[1;33m\u001B[0m\u001B[0m\n",
      "\u001B[1;32mC:\\ProgramData\\Anaconda3\\lib\\site-packages\\influxdb_client\\client\\write_api.py\u001B[0m in \u001B[0;36m_post_write\u001B[1;34m(self, _async_req, bucket, org, body, precision, **kwargs)\u001B[0m\n\u001B[0;32m    481\u001B[0m     \u001B[1;32mdef\u001B[0m \u001B[0m_post_write\u001B[0m\u001B[1;33m(\u001B[0m\u001B[0mself\u001B[0m\u001B[1;33m,\u001B[0m \u001B[0m_async_req\u001B[0m\u001B[1;33m,\u001B[0m \u001B[0mbucket\u001B[0m\u001B[1;33m,\u001B[0m \u001B[0morg\u001B[0m\u001B[1;33m,\u001B[0m \u001B[0mbody\u001B[0m\u001B[1;33m,\u001B[0m \u001B[0mprecision\u001B[0m\u001B[1;33m,\u001B[0m \u001B[1;33m**\u001B[0m\u001B[0mkwargs\u001B[0m\u001B[1;33m)\u001B[0m\u001B[1;33m:\u001B[0m\u001B[1;33m\u001B[0m\u001B[1;33m\u001B[0m\u001B[0m\n\u001B[0;32m    482\u001B[0m \u001B[1;33m\u001B[0m\u001B[0m\n\u001B[1;32m--> 483\u001B[1;33m         return self._write_service.post_write(org=org, bucket=bucket, body=body, precision=precision,\n\u001B[0m\u001B[0;32m    484\u001B[0m                                               \u001B[0masync_req\u001B[0m\u001B[1;33m=\u001B[0m\u001B[0m_async_req\u001B[0m\u001B[1;33m,\u001B[0m \u001B[0mcontent_encoding\u001B[0m\u001B[1;33m=\u001B[0m\u001B[1;34m\"identity\"\u001B[0m\u001B[1;33m,\u001B[0m\u001B[1;33m\u001B[0m\u001B[1;33m\u001B[0m\u001B[0m\n\u001B[0;32m    485\u001B[0m                                               \u001B[0mcontent_type\u001B[0m\u001B[1;33m=\u001B[0m\u001B[1;34m\"text/plain; charset=utf-8\"\u001B[0m\u001B[1;33m,\u001B[0m\u001B[1;33m\u001B[0m\u001B[1;33m\u001B[0m\u001B[0m\n",
      "\u001B[1;32mC:\\ProgramData\\Anaconda3\\lib\\site-packages\\influxdb_client\\service\\write_service.py\u001B[0m in \u001B[0;36mpost_write\u001B[1;34m(self, org, bucket, body, **kwargs)\u001B[0m\n\u001B[0;32m     58\u001B[0m             \u001B[1;32mreturn\u001B[0m \u001B[0mself\u001B[0m\u001B[1;33m.\u001B[0m\u001B[0mpost_write_with_http_info\u001B[0m\u001B[1;33m(\u001B[0m\u001B[0morg\u001B[0m\u001B[1;33m,\u001B[0m \u001B[0mbucket\u001B[0m\u001B[1;33m,\u001B[0m \u001B[0mbody\u001B[0m\u001B[1;33m,\u001B[0m \u001B[1;33m**\u001B[0m\u001B[0mkwargs\u001B[0m\u001B[1;33m)\u001B[0m  \u001B[1;31m# noqa: E501\u001B[0m\u001B[1;33m\u001B[0m\u001B[1;33m\u001B[0m\u001B[0m\n\u001B[0;32m     59\u001B[0m         \u001B[1;32melse\u001B[0m\u001B[1;33m:\u001B[0m\u001B[1;33m\u001B[0m\u001B[1;33m\u001B[0m\u001B[0m\n\u001B[1;32m---> 60\u001B[1;33m             \u001B[1;33m(\u001B[0m\u001B[0mdata\u001B[0m\u001B[1;33m)\u001B[0m \u001B[1;33m=\u001B[0m \u001B[0mself\u001B[0m\u001B[1;33m.\u001B[0m\u001B[0mpost_write_with_http_info\u001B[0m\u001B[1;33m(\u001B[0m\u001B[0morg\u001B[0m\u001B[1;33m,\u001B[0m \u001B[0mbucket\u001B[0m\u001B[1;33m,\u001B[0m \u001B[0mbody\u001B[0m\u001B[1;33m,\u001B[0m \u001B[1;33m**\u001B[0m\u001B[0mkwargs\u001B[0m\u001B[1;33m)\u001B[0m  \u001B[1;31m# noqa: E501\u001B[0m\u001B[1;33m\u001B[0m\u001B[1;33m\u001B[0m\u001B[0m\n\u001B[0m\u001B[0;32m     61\u001B[0m             \u001B[1;32mreturn\u001B[0m \u001B[0mdata\u001B[0m\u001B[1;33m\u001B[0m\u001B[1;33m\u001B[0m\u001B[0m\n\u001B[0;32m     62\u001B[0m \u001B[1;33m\u001B[0m\u001B[0m\n",
      "\u001B[1;32mC:\\ProgramData\\Anaconda3\\lib\\site-packages\\influxdb_client\\service\\write_service.py\u001B[0m in \u001B[0;36mpost_write_with_http_info\u001B[1;34m(self, org, bucket, body, **kwargs)\u001B[0m\n\u001B[0;32m     88\u001B[0m             \u001B[0mself\u001B[0m\u001B[1;33m.\u001B[0m\u001B[0m_post_write_prepare\u001B[0m\u001B[1;33m(\u001B[0m\u001B[0morg\u001B[0m\u001B[1;33m,\u001B[0m \u001B[0mbucket\u001B[0m\u001B[1;33m,\u001B[0m \u001B[0mbody\u001B[0m\u001B[1;33m,\u001B[0m \u001B[1;33m**\u001B[0m\u001B[0mkwargs\u001B[0m\u001B[1;33m)\u001B[0m\u001B[1;33m\u001B[0m\u001B[1;33m\u001B[0m\u001B[0m\n\u001B[0;32m     89\u001B[0m \u001B[1;33m\u001B[0m\u001B[0m\n\u001B[1;32m---> 90\u001B[1;33m         return self.api_client.call_api(\n\u001B[0m\u001B[0;32m     91\u001B[0m             \u001B[1;34m'/api/v2/write'\u001B[0m\u001B[1;33m,\u001B[0m \u001B[1;34m'POST'\u001B[0m\u001B[1;33m,\u001B[0m\u001B[1;33m\u001B[0m\u001B[1;33m\u001B[0m\u001B[0m\n\u001B[0;32m     92\u001B[0m             \u001B[0mpath_params\u001B[0m\u001B[1;33m,\u001B[0m\u001B[1;33m\u001B[0m\u001B[1;33m\u001B[0m\u001B[0m\n",
      "\u001B[1;32mC:\\ProgramData\\Anaconda3\\lib\\site-packages\\influxdb_client\\_sync\\api_client.py\u001B[0m in \u001B[0;36mcall_api\u001B[1;34m(self, resource_path, method, path_params, query_params, header_params, body, post_params, files, response_type, auth_settings, async_req, _return_http_data_only, collection_formats, _preload_content, _request_timeout, urlopen_kw)\u001B[0m\n\u001B[0;32m    341\u001B[0m         \"\"\"\n\u001B[0;32m    342\u001B[0m         \u001B[1;32mif\u001B[0m \u001B[1;32mnot\u001B[0m \u001B[0masync_req\u001B[0m\u001B[1;33m:\u001B[0m\u001B[1;33m\u001B[0m\u001B[1;33m\u001B[0m\u001B[0m\n\u001B[1;32m--> 343\u001B[1;33m             return self.__call_api(resource_path, method,\n\u001B[0m\u001B[0;32m    344\u001B[0m                                    \u001B[0mpath_params\u001B[0m\u001B[1;33m,\u001B[0m \u001B[0mquery_params\u001B[0m\u001B[1;33m,\u001B[0m \u001B[0mheader_params\u001B[0m\u001B[1;33m,\u001B[0m\u001B[1;33m\u001B[0m\u001B[1;33m\u001B[0m\u001B[0m\n\u001B[0;32m    345\u001B[0m                                    \u001B[0mbody\u001B[0m\u001B[1;33m,\u001B[0m \u001B[0mpost_params\u001B[0m\u001B[1;33m,\u001B[0m \u001B[0mfiles\u001B[0m\u001B[1;33m,\u001B[0m\u001B[1;33m\u001B[0m\u001B[1;33m\u001B[0m\u001B[0m\n",
      "\u001B[1;32mC:\\ProgramData\\Anaconda3\\lib\\site-packages\\influxdb_client\\_sync\\api_client.py\u001B[0m in \u001B[0;36m__call_api\u001B[1;34m(self, resource_path, method, path_params, query_params, header_params, body, post_params, files, response_type, auth_settings, _return_http_data_only, collection_formats, _preload_content, _request_timeout, urlopen_kw)\u001B[0m\n\u001B[0;32m    171\u001B[0m \u001B[1;33m\u001B[0m\u001B[0m\n\u001B[0;32m    172\u001B[0m         \u001B[1;31m# perform request and return response\u001B[0m\u001B[1;33m\u001B[0m\u001B[1;33m\u001B[0m\u001B[1;33m\u001B[0m\u001B[0m\n\u001B[1;32m--> 173\u001B[1;33m         response_data = self.request(\n\u001B[0m\u001B[0;32m    174\u001B[0m             \u001B[0mmethod\u001B[0m\u001B[1;33m,\u001B[0m \u001B[0murl\u001B[0m\u001B[1;33m,\u001B[0m \u001B[0mquery_params\u001B[0m\u001B[1;33m=\u001B[0m\u001B[0mquery_params\u001B[0m\u001B[1;33m,\u001B[0m \u001B[0mheaders\u001B[0m\u001B[1;33m=\u001B[0m\u001B[0mheader_params\u001B[0m\u001B[1;33m,\u001B[0m\u001B[1;33m\u001B[0m\u001B[1;33m\u001B[0m\u001B[0m\n\u001B[0;32m    175\u001B[0m             \u001B[0mpost_params\u001B[0m\u001B[1;33m=\u001B[0m\u001B[0mpost_params\u001B[0m\u001B[1;33m,\u001B[0m \u001B[0mbody\u001B[0m\u001B[1;33m=\u001B[0m\u001B[0mbody\u001B[0m\u001B[1;33m,\u001B[0m\u001B[1;33m\u001B[0m\u001B[1;33m\u001B[0m\u001B[0m\n",
      "\u001B[1;32mC:\\ProgramData\\Anaconda3\\lib\\site-packages\\influxdb_client\\_sync\\api_client.py\u001B[0m in \u001B[0;36mrequest\u001B[1;34m(self, method, url, query_params, headers, post_params, body, _preload_content, _request_timeout, **urlopen_kw)\u001B[0m\n\u001B[0;32m    386\u001B[0m                                             **urlopen_kw)\n\u001B[0;32m    387\u001B[0m         \u001B[1;32melif\u001B[0m \u001B[0mmethod\u001B[0m \u001B[1;33m==\u001B[0m \u001B[1;34m\"POST\"\u001B[0m\u001B[1;33m:\u001B[0m\u001B[1;33m\u001B[0m\u001B[1;33m\u001B[0m\u001B[0m\n\u001B[1;32m--> 388\u001B[1;33m             return self.rest_client.POST(url,\n\u001B[0m\u001B[0;32m    389\u001B[0m                                          \u001B[0mquery_params\u001B[0m\u001B[1;33m=\u001B[0m\u001B[0mquery_params\u001B[0m\u001B[1;33m,\u001B[0m\u001B[1;33m\u001B[0m\u001B[1;33m\u001B[0m\u001B[0m\n\u001B[0;32m    390\u001B[0m                                          \u001B[0mheaders\u001B[0m\u001B[1;33m=\u001B[0m\u001B[0mheaders\u001B[0m\u001B[1;33m,\u001B[0m\u001B[1;33m\u001B[0m\u001B[1;33m\u001B[0m\u001B[0m\n",
      "\u001B[1;32mC:\\ProgramData\\Anaconda3\\lib\\site-packages\\influxdb_client\\_sync\\rest.py\u001B[0m in \u001B[0;36mPOST\u001B[1;34m(self, url, headers, query_params, post_params, body, _preload_content, _request_timeout, **urlopen_kw)\u001B[0m\n\u001B[0;32m    309\u001B[0m              body=None, _preload_content=True, _request_timeout=None, **urlopen_kw):\n\u001B[0;32m    310\u001B[0m         \u001B[1;34m\"\"\"Perform POST HTTP request.\"\"\"\u001B[0m\u001B[1;33m\u001B[0m\u001B[1;33m\u001B[0m\u001B[0m\n\u001B[1;32m--> 311\u001B[1;33m         return self.request(\"POST\", url,\n\u001B[0m\u001B[0;32m    312\u001B[0m                             \u001B[0mheaders\u001B[0m\u001B[1;33m=\u001B[0m\u001B[0mheaders\u001B[0m\u001B[1;33m,\u001B[0m\u001B[1;33m\u001B[0m\u001B[1;33m\u001B[0m\u001B[0m\n\u001B[0;32m    313\u001B[0m                             \u001B[0mquery_params\u001B[0m\u001B[1;33m=\u001B[0m\u001B[0mquery_params\u001B[0m\u001B[1;33m,\u001B[0m\u001B[1;33m\u001B[0m\u001B[1;33m\u001B[0m\u001B[0m\n",
      "\u001B[1;32mC:\\ProgramData\\Anaconda3\\lib\\site-packages\\influxdb_client\\_sync\\rest.py\u001B[0m in \u001B[0;36mrequest\u001B[1;34m(self, method, url, query_params, headers, body, post_params, _preload_content, _request_timeout, **urlopen_kw)\u001B[0m\n\u001B[0;32m    259\u001B[0m \u001B[1;33m\u001B[0m\u001B[0m\n\u001B[0;32m    260\u001B[0m         \u001B[1;32mif\u001B[0m \u001B[1;32mnot\u001B[0m \u001B[1;36m200\u001B[0m \u001B[1;33m<=\u001B[0m \u001B[0mr\u001B[0m\u001B[1;33m.\u001B[0m\u001B[0mstatus\u001B[0m \u001B[1;33m<=\u001B[0m \u001B[1;36m299\u001B[0m\u001B[1;33m:\u001B[0m\u001B[1;33m\u001B[0m\u001B[1;33m\u001B[0m\u001B[0m\n\u001B[1;32m--> 261\u001B[1;33m             \u001B[1;32mraise\u001B[0m \u001B[0mApiException\u001B[0m\u001B[1;33m(\u001B[0m\u001B[0mhttp_resp\u001B[0m\u001B[1;33m=\u001B[0m\u001B[0mr\u001B[0m\u001B[1;33m)\u001B[0m\u001B[1;33m\u001B[0m\u001B[1;33m\u001B[0m\u001B[0m\n\u001B[0m\u001B[0;32m    262\u001B[0m \u001B[1;33m\u001B[0m\u001B[0m\n\u001B[0;32m    263\u001B[0m         \u001B[1;32mreturn\u001B[0m \u001B[0mr\u001B[0m\u001B[1;33m\u001B[0m\u001B[1;33m\u001B[0m\u001B[0m\n",
      "\u001B[1;31mApiException\u001B[0m: (401)\nReason: Unauthorized\nHTTP response headers: HTTPHeaderDict({'Date': 'Wed, 14 Dec 2022 09:45:59 GMT', 'Content-Type': 'application/json; charset=utf-8', 'Content-Length': '55', 'Connection': 'keep-alive', 'trace-id': '67ca25d31f3ecc06', 'trace-sampled': 'false', 'x-platform-error-code': 'unauthorized', 'Strict-Transport-Security': 'max-age=15724800; includeSubDomains', 'X-Influxdb-Request-ID': 'ee4fe1a91c74dd78c1894e5cd951a6fa', 'X-Influxdb-Build': 'Cloud'})\nHTTP response body: {\"code\":\"unauthorized\",\"message\":\"unauthorized access\"}\n"
     ]
    }
   ],
   "source": [
    "write_api = client.write_api(write_options=SYNCHRONOUS)\n",
    "\n",
    "for value in range(5):\n",
    "  point = (\n",
    "    Point(\"measurement1\")\n",
    "    .tag(\"tagname1\", \"tagvalue1\")\n",
    "    .field(\"field1\", value)\n",
    "  )\n",
    "  write_api.write(bucket=bucket, org=\"amer.altizini@gmail.com\", record=point)\n",
    "  time.sleep(1) # separate points by 1 second"
   ],
   "metadata": {
    "collapsed": false
   }
  },
  {
   "cell_type": "code",
   "execution_count": 18,
   "outputs": [
    {
     "ename": "ApiException",
     "evalue": "(401)\nReason: Unauthorized\nHTTP response headers: HTTPHeaderDict({'Date': 'Wed, 07 Dec 2022 15:50:32 GMT', 'Content-Type': 'application/json; charset=utf-8', 'Content-Length': '55', 'Connection': 'keep-alive', 'trace-id': '705bc4d2d803dd40', 'trace-sampled': 'false', 'x-platform-error-code': 'unauthorized', 'Strict-Transport-Security': 'max-age=15724800; includeSubDomains', 'X-Influxdb-Request-ID': '5b3d7be590590baac9919011799df770', 'X-Influxdb-Build': 'Cloud'})\nHTTP response body: {\"code\":\"unauthorized\",\"message\":\"unauthorized access\"}\n",
     "output_type": "error",
     "traceback": [
      "\u001B[1;31m---------------------------------------------------------------------------\u001B[0m",
      "\u001B[1;31mApiException\u001B[0m                              Traceback (most recent call last)",
      "\u001B[1;32m<ipython-input-18-254664b9fa3a>\u001B[0m in \u001B[0;36m<module>\u001B[1;34m\u001B[0m\n\u001B[0;32m      9\u001B[0m     \u001B[1;33m.\u001B[0m\u001B[0mfield\u001B[0m\u001B[1;33m(\u001B[0m\u001B[1;34m\"field1\"\u001B[0m\u001B[1;33m,\u001B[0m \u001B[0mvalue\u001B[0m\u001B[1;33m)\u001B[0m\u001B[1;33m\u001B[0m\u001B[1;33m\u001B[0m\u001B[0m\n\u001B[0;32m     10\u001B[0m   )\n\u001B[1;32m---> 11\u001B[1;33m   \u001B[0mwrite_api\u001B[0m\u001B[1;33m.\u001B[0m\u001B[0mwrite\u001B[0m\u001B[1;33m(\u001B[0m\u001B[0mbucket\u001B[0m\u001B[1;33m=\u001B[0m\u001B[0mbucket\u001B[0m\u001B[1;33m,\u001B[0m \u001B[0morg\u001B[0m\u001B[1;33m=\u001B[0m\u001B[1;34m\"amer.altizini@gmail.com\"\u001B[0m\u001B[1;33m,\u001B[0m \u001B[0mrecord\u001B[0m\u001B[1;33m=\u001B[0m\u001B[0mpoint\u001B[0m\u001B[1;33m)\u001B[0m\u001B[1;33m\u001B[0m\u001B[1;33m\u001B[0m\u001B[0m\n\u001B[0m\u001B[0;32m     12\u001B[0m   \u001B[0mtime\u001B[0m\u001B[1;33m.\u001B[0m\u001B[0msleep\u001B[0m\u001B[1;33m(\u001B[0m\u001B[1;36m1\u001B[0m\u001B[1;33m)\u001B[0m \u001B[1;31m# separate points by 1 second\u001B[0m\u001B[1;33m\u001B[0m\u001B[1;33m\u001B[0m\u001B[0m\n",
      "\u001B[1;32mC:\\ProgramData\\Anaconda3\\lib\\site-packages\\influxdb_client\\client\\write_api.py\u001B[0m in \u001B[0;36mwrite\u001B[1;34m(self, bucket, org, record, write_precision, **kwargs)\u001B[0m\n\u001B[0;32m    372\u001B[0m             \u001B[1;32mreturn\u001B[0m \u001B[0mself\u001B[0m\u001B[1;33m.\u001B[0m\u001B[0m_post_write\u001B[0m\u001B[1;33m(\u001B[0m\u001B[0m_async_req\u001B[0m\u001B[1;33m,\u001B[0m \u001B[0mbucket\u001B[0m\u001B[1;33m,\u001B[0m \u001B[0morg\u001B[0m\u001B[1;33m,\u001B[0m \u001B[0mfinal_string\u001B[0m\u001B[1;33m,\u001B[0m \u001B[0mpayload\u001B[0m\u001B[1;33m[\u001B[0m\u001B[1;36m0\u001B[0m\u001B[1;33m]\u001B[0m\u001B[1;33m)\u001B[0m\u001B[1;33m\u001B[0m\u001B[1;33m\u001B[0m\u001B[0m\n\u001B[0;32m    373\u001B[0m \u001B[1;33m\u001B[0m\u001B[0m\n\u001B[1;32m--> 374\u001B[1;33m         \u001B[0mresults\u001B[0m \u001B[1;33m=\u001B[0m \u001B[0mlist\u001B[0m\u001B[1;33m(\u001B[0m\u001B[0mmap\u001B[0m\u001B[1;33m(\u001B[0m\u001B[0mwrite_payload\u001B[0m\u001B[1;33m,\u001B[0m \u001B[0mpayloads\u001B[0m\u001B[1;33m.\u001B[0m\u001B[0mitems\u001B[0m\u001B[1;33m(\u001B[0m\u001B[1;33m)\u001B[0m\u001B[1;33m)\u001B[0m\u001B[1;33m)\u001B[0m\u001B[1;33m\u001B[0m\u001B[1;33m\u001B[0m\u001B[0m\n\u001B[0m\u001B[0;32m    375\u001B[0m         \u001B[1;32mif\u001B[0m \u001B[1;32mnot\u001B[0m \u001B[0m_async_req\u001B[0m\u001B[1;33m:\u001B[0m\u001B[1;33m\u001B[0m\u001B[1;33m\u001B[0m\u001B[0m\n\u001B[0;32m    376\u001B[0m             \u001B[1;32mreturn\u001B[0m \u001B[1;32mNone\u001B[0m\u001B[1;33m\u001B[0m\u001B[1;33m\u001B[0m\u001B[0m\n",
      "\u001B[1;32mC:\\ProgramData\\Anaconda3\\lib\\site-packages\\influxdb_client\\client\\write_api.py\u001B[0m in \u001B[0;36mwrite_payload\u001B[1;34m(payload)\u001B[0m\n\u001B[0;32m    370\u001B[0m         \u001B[1;32mdef\u001B[0m \u001B[0mwrite_payload\u001B[0m\u001B[1;33m(\u001B[0m\u001B[0mpayload\u001B[0m\u001B[1;33m)\u001B[0m\u001B[1;33m:\u001B[0m\u001B[1;33m\u001B[0m\u001B[1;33m\u001B[0m\u001B[0m\n\u001B[0;32m    371\u001B[0m             \u001B[0mfinal_string\u001B[0m \u001B[1;33m=\u001B[0m \u001B[1;34mb'\\n'\u001B[0m\u001B[1;33m.\u001B[0m\u001B[0mjoin\u001B[0m\u001B[1;33m(\u001B[0m\u001B[0mpayload\u001B[0m\u001B[1;33m[\u001B[0m\u001B[1;36m1\u001B[0m\u001B[1;33m]\u001B[0m\u001B[1;33m)\u001B[0m\u001B[1;33m\u001B[0m\u001B[1;33m\u001B[0m\u001B[0m\n\u001B[1;32m--> 372\u001B[1;33m             \u001B[1;32mreturn\u001B[0m \u001B[0mself\u001B[0m\u001B[1;33m.\u001B[0m\u001B[0m_post_write\u001B[0m\u001B[1;33m(\u001B[0m\u001B[0m_async_req\u001B[0m\u001B[1;33m,\u001B[0m \u001B[0mbucket\u001B[0m\u001B[1;33m,\u001B[0m \u001B[0morg\u001B[0m\u001B[1;33m,\u001B[0m \u001B[0mfinal_string\u001B[0m\u001B[1;33m,\u001B[0m \u001B[0mpayload\u001B[0m\u001B[1;33m[\u001B[0m\u001B[1;36m0\u001B[0m\u001B[1;33m]\u001B[0m\u001B[1;33m)\u001B[0m\u001B[1;33m\u001B[0m\u001B[1;33m\u001B[0m\u001B[0m\n\u001B[0m\u001B[0;32m    373\u001B[0m \u001B[1;33m\u001B[0m\u001B[0m\n\u001B[0;32m    374\u001B[0m         \u001B[0mresults\u001B[0m \u001B[1;33m=\u001B[0m \u001B[0mlist\u001B[0m\u001B[1;33m(\u001B[0m\u001B[0mmap\u001B[0m\u001B[1;33m(\u001B[0m\u001B[0mwrite_payload\u001B[0m\u001B[1;33m,\u001B[0m \u001B[0mpayloads\u001B[0m\u001B[1;33m.\u001B[0m\u001B[0mitems\u001B[0m\u001B[1;33m(\u001B[0m\u001B[1;33m)\u001B[0m\u001B[1;33m)\u001B[0m\u001B[1;33m)\u001B[0m\u001B[1;33m\u001B[0m\u001B[1;33m\u001B[0m\u001B[0m\n",
      "\u001B[1;32mC:\\ProgramData\\Anaconda3\\lib\\site-packages\\influxdb_client\\client\\write_api.py\u001B[0m in \u001B[0;36m_post_write\u001B[1;34m(self, _async_req, bucket, org, body, precision, **kwargs)\u001B[0m\n\u001B[0;32m    481\u001B[0m     \u001B[1;32mdef\u001B[0m \u001B[0m_post_write\u001B[0m\u001B[1;33m(\u001B[0m\u001B[0mself\u001B[0m\u001B[1;33m,\u001B[0m \u001B[0m_async_req\u001B[0m\u001B[1;33m,\u001B[0m \u001B[0mbucket\u001B[0m\u001B[1;33m,\u001B[0m \u001B[0morg\u001B[0m\u001B[1;33m,\u001B[0m \u001B[0mbody\u001B[0m\u001B[1;33m,\u001B[0m \u001B[0mprecision\u001B[0m\u001B[1;33m,\u001B[0m \u001B[1;33m**\u001B[0m\u001B[0mkwargs\u001B[0m\u001B[1;33m)\u001B[0m\u001B[1;33m:\u001B[0m\u001B[1;33m\u001B[0m\u001B[1;33m\u001B[0m\u001B[0m\n\u001B[0;32m    482\u001B[0m \u001B[1;33m\u001B[0m\u001B[0m\n\u001B[1;32m--> 483\u001B[1;33m         return self._write_service.post_write(org=org, bucket=bucket, body=body, precision=precision,\n\u001B[0m\u001B[0;32m    484\u001B[0m                                               \u001B[0masync_req\u001B[0m\u001B[1;33m=\u001B[0m\u001B[0m_async_req\u001B[0m\u001B[1;33m,\u001B[0m \u001B[0mcontent_encoding\u001B[0m\u001B[1;33m=\u001B[0m\u001B[1;34m\"identity\"\u001B[0m\u001B[1;33m,\u001B[0m\u001B[1;33m\u001B[0m\u001B[1;33m\u001B[0m\u001B[0m\n\u001B[0;32m    485\u001B[0m                                               \u001B[0mcontent_type\u001B[0m\u001B[1;33m=\u001B[0m\u001B[1;34m\"text/plain; charset=utf-8\"\u001B[0m\u001B[1;33m,\u001B[0m\u001B[1;33m\u001B[0m\u001B[1;33m\u001B[0m\u001B[0m\n",
      "\u001B[1;32mC:\\ProgramData\\Anaconda3\\lib\\site-packages\\influxdb_client\\service\\write_service.py\u001B[0m in \u001B[0;36mpost_write\u001B[1;34m(self, org, bucket, body, **kwargs)\u001B[0m\n\u001B[0;32m     58\u001B[0m             \u001B[1;32mreturn\u001B[0m \u001B[0mself\u001B[0m\u001B[1;33m.\u001B[0m\u001B[0mpost_write_with_http_info\u001B[0m\u001B[1;33m(\u001B[0m\u001B[0morg\u001B[0m\u001B[1;33m,\u001B[0m \u001B[0mbucket\u001B[0m\u001B[1;33m,\u001B[0m \u001B[0mbody\u001B[0m\u001B[1;33m,\u001B[0m \u001B[1;33m**\u001B[0m\u001B[0mkwargs\u001B[0m\u001B[1;33m)\u001B[0m  \u001B[1;31m# noqa: E501\u001B[0m\u001B[1;33m\u001B[0m\u001B[1;33m\u001B[0m\u001B[0m\n\u001B[0;32m     59\u001B[0m         \u001B[1;32melse\u001B[0m\u001B[1;33m:\u001B[0m\u001B[1;33m\u001B[0m\u001B[1;33m\u001B[0m\u001B[0m\n\u001B[1;32m---> 60\u001B[1;33m             \u001B[1;33m(\u001B[0m\u001B[0mdata\u001B[0m\u001B[1;33m)\u001B[0m \u001B[1;33m=\u001B[0m \u001B[0mself\u001B[0m\u001B[1;33m.\u001B[0m\u001B[0mpost_write_with_http_info\u001B[0m\u001B[1;33m(\u001B[0m\u001B[0morg\u001B[0m\u001B[1;33m,\u001B[0m \u001B[0mbucket\u001B[0m\u001B[1;33m,\u001B[0m \u001B[0mbody\u001B[0m\u001B[1;33m,\u001B[0m \u001B[1;33m**\u001B[0m\u001B[0mkwargs\u001B[0m\u001B[1;33m)\u001B[0m  \u001B[1;31m# noqa: E501\u001B[0m\u001B[1;33m\u001B[0m\u001B[1;33m\u001B[0m\u001B[0m\n\u001B[0m\u001B[0;32m     61\u001B[0m             \u001B[1;32mreturn\u001B[0m \u001B[0mdata\u001B[0m\u001B[1;33m\u001B[0m\u001B[1;33m\u001B[0m\u001B[0m\n\u001B[0;32m     62\u001B[0m \u001B[1;33m\u001B[0m\u001B[0m\n",
      "\u001B[1;32mC:\\ProgramData\\Anaconda3\\lib\\site-packages\\influxdb_client\\service\\write_service.py\u001B[0m in \u001B[0;36mpost_write_with_http_info\u001B[1;34m(self, org, bucket, body, **kwargs)\u001B[0m\n\u001B[0;32m     88\u001B[0m             \u001B[0mself\u001B[0m\u001B[1;33m.\u001B[0m\u001B[0m_post_write_prepare\u001B[0m\u001B[1;33m(\u001B[0m\u001B[0morg\u001B[0m\u001B[1;33m,\u001B[0m \u001B[0mbucket\u001B[0m\u001B[1;33m,\u001B[0m \u001B[0mbody\u001B[0m\u001B[1;33m,\u001B[0m \u001B[1;33m**\u001B[0m\u001B[0mkwargs\u001B[0m\u001B[1;33m)\u001B[0m\u001B[1;33m\u001B[0m\u001B[1;33m\u001B[0m\u001B[0m\n\u001B[0;32m     89\u001B[0m \u001B[1;33m\u001B[0m\u001B[0m\n\u001B[1;32m---> 90\u001B[1;33m         return self.api_client.call_api(\n\u001B[0m\u001B[0;32m     91\u001B[0m             \u001B[1;34m'/api/v2/write'\u001B[0m\u001B[1;33m,\u001B[0m \u001B[1;34m'POST'\u001B[0m\u001B[1;33m,\u001B[0m\u001B[1;33m\u001B[0m\u001B[1;33m\u001B[0m\u001B[0m\n\u001B[0;32m     92\u001B[0m             \u001B[0mpath_params\u001B[0m\u001B[1;33m,\u001B[0m\u001B[1;33m\u001B[0m\u001B[1;33m\u001B[0m\u001B[0m\n",
      "\u001B[1;32mC:\\ProgramData\\Anaconda3\\lib\\site-packages\\influxdb_client\\_sync\\api_client.py\u001B[0m in \u001B[0;36mcall_api\u001B[1;34m(self, resource_path, method, path_params, query_params, header_params, body, post_params, files, response_type, auth_settings, async_req, _return_http_data_only, collection_formats, _preload_content, _request_timeout, urlopen_kw)\u001B[0m\n\u001B[0;32m    341\u001B[0m         \"\"\"\n\u001B[0;32m    342\u001B[0m         \u001B[1;32mif\u001B[0m \u001B[1;32mnot\u001B[0m \u001B[0masync_req\u001B[0m\u001B[1;33m:\u001B[0m\u001B[1;33m\u001B[0m\u001B[1;33m\u001B[0m\u001B[0m\n\u001B[1;32m--> 343\u001B[1;33m             return self.__call_api(resource_path, method,\n\u001B[0m\u001B[0;32m    344\u001B[0m                                    \u001B[0mpath_params\u001B[0m\u001B[1;33m,\u001B[0m \u001B[0mquery_params\u001B[0m\u001B[1;33m,\u001B[0m \u001B[0mheader_params\u001B[0m\u001B[1;33m,\u001B[0m\u001B[1;33m\u001B[0m\u001B[1;33m\u001B[0m\u001B[0m\n\u001B[0;32m    345\u001B[0m                                    \u001B[0mbody\u001B[0m\u001B[1;33m,\u001B[0m \u001B[0mpost_params\u001B[0m\u001B[1;33m,\u001B[0m \u001B[0mfiles\u001B[0m\u001B[1;33m,\u001B[0m\u001B[1;33m\u001B[0m\u001B[1;33m\u001B[0m\u001B[0m\n",
      "\u001B[1;32mC:\\ProgramData\\Anaconda3\\lib\\site-packages\\influxdb_client\\_sync\\api_client.py\u001B[0m in \u001B[0;36m__call_api\u001B[1;34m(self, resource_path, method, path_params, query_params, header_params, body, post_params, files, response_type, auth_settings, _return_http_data_only, collection_formats, _preload_content, _request_timeout, urlopen_kw)\u001B[0m\n\u001B[0;32m    171\u001B[0m \u001B[1;33m\u001B[0m\u001B[0m\n\u001B[0;32m    172\u001B[0m         \u001B[1;31m# perform request and return response\u001B[0m\u001B[1;33m\u001B[0m\u001B[1;33m\u001B[0m\u001B[1;33m\u001B[0m\u001B[0m\n\u001B[1;32m--> 173\u001B[1;33m         response_data = self.request(\n\u001B[0m\u001B[0;32m    174\u001B[0m             \u001B[0mmethod\u001B[0m\u001B[1;33m,\u001B[0m \u001B[0murl\u001B[0m\u001B[1;33m,\u001B[0m \u001B[0mquery_params\u001B[0m\u001B[1;33m=\u001B[0m\u001B[0mquery_params\u001B[0m\u001B[1;33m,\u001B[0m \u001B[0mheaders\u001B[0m\u001B[1;33m=\u001B[0m\u001B[0mheader_params\u001B[0m\u001B[1;33m,\u001B[0m\u001B[1;33m\u001B[0m\u001B[1;33m\u001B[0m\u001B[0m\n\u001B[0;32m    175\u001B[0m             \u001B[0mpost_params\u001B[0m\u001B[1;33m=\u001B[0m\u001B[0mpost_params\u001B[0m\u001B[1;33m,\u001B[0m \u001B[0mbody\u001B[0m\u001B[1;33m=\u001B[0m\u001B[0mbody\u001B[0m\u001B[1;33m,\u001B[0m\u001B[1;33m\u001B[0m\u001B[1;33m\u001B[0m\u001B[0m\n",
      "\u001B[1;32mC:\\ProgramData\\Anaconda3\\lib\\site-packages\\influxdb_client\\_sync\\api_client.py\u001B[0m in \u001B[0;36mrequest\u001B[1;34m(self, method, url, query_params, headers, post_params, body, _preload_content, _request_timeout, **urlopen_kw)\u001B[0m\n\u001B[0;32m    386\u001B[0m                                             **urlopen_kw)\n\u001B[0;32m    387\u001B[0m         \u001B[1;32melif\u001B[0m \u001B[0mmethod\u001B[0m \u001B[1;33m==\u001B[0m \u001B[1;34m\"POST\"\u001B[0m\u001B[1;33m:\u001B[0m\u001B[1;33m\u001B[0m\u001B[1;33m\u001B[0m\u001B[0m\n\u001B[1;32m--> 388\u001B[1;33m             return self.rest_client.POST(url,\n\u001B[0m\u001B[0;32m    389\u001B[0m                                          \u001B[0mquery_params\u001B[0m\u001B[1;33m=\u001B[0m\u001B[0mquery_params\u001B[0m\u001B[1;33m,\u001B[0m\u001B[1;33m\u001B[0m\u001B[1;33m\u001B[0m\u001B[0m\n\u001B[0;32m    390\u001B[0m                                          \u001B[0mheaders\u001B[0m\u001B[1;33m=\u001B[0m\u001B[0mheaders\u001B[0m\u001B[1;33m,\u001B[0m\u001B[1;33m\u001B[0m\u001B[1;33m\u001B[0m\u001B[0m\n",
      "\u001B[1;32mC:\\ProgramData\\Anaconda3\\lib\\site-packages\\influxdb_client\\_sync\\rest.py\u001B[0m in \u001B[0;36mPOST\u001B[1;34m(self, url, headers, query_params, post_params, body, _preload_content, _request_timeout, **urlopen_kw)\u001B[0m\n\u001B[0;32m    309\u001B[0m              body=None, _preload_content=True, _request_timeout=None, **urlopen_kw):\n\u001B[0;32m    310\u001B[0m         \u001B[1;34m\"\"\"Perform POST HTTP request.\"\"\"\u001B[0m\u001B[1;33m\u001B[0m\u001B[1;33m\u001B[0m\u001B[0m\n\u001B[1;32m--> 311\u001B[1;33m         return self.request(\"POST\", url,\n\u001B[0m\u001B[0;32m    312\u001B[0m                             \u001B[0mheaders\u001B[0m\u001B[1;33m=\u001B[0m\u001B[0mheaders\u001B[0m\u001B[1;33m,\u001B[0m\u001B[1;33m\u001B[0m\u001B[1;33m\u001B[0m\u001B[0m\n\u001B[0;32m    313\u001B[0m                             \u001B[0mquery_params\u001B[0m\u001B[1;33m=\u001B[0m\u001B[0mquery_params\u001B[0m\u001B[1;33m,\u001B[0m\u001B[1;33m\u001B[0m\u001B[1;33m\u001B[0m\u001B[0m\n",
      "\u001B[1;32mC:\\ProgramData\\Anaconda3\\lib\\site-packages\\influxdb_client\\_sync\\rest.py\u001B[0m in \u001B[0;36mrequest\u001B[1;34m(self, method, url, query_params, headers, body, post_params, _preload_content, _request_timeout, **urlopen_kw)\u001B[0m\n\u001B[0;32m    259\u001B[0m \u001B[1;33m\u001B[0m\u001B[0m\n\u001B[0;32m    260\u001B[0m         \u001B[1;32mif\u001B[0m \u001B[1;32mnot\u001B[0m \u001B[1;36m200\u001B[0m \u001B[1;33m<=\u001B[0m \u001B[0mr\u001B[0m\u001B[1;33m.\u001B[0m\u001B[0mstatus\u001B[0m \u001B[1;33m<=\u001B[0m \u001B[1;36m299\u001B[0m\u001B[1;33m:\u001B[0m\u001B[1;33m\u001B[0m\u001B[1;33m\u001B[0m\u001B[0m\n\u001B[1;32m--> 261\u001B[1;33m             \u001B[1;32mraise\u001B[0m \u001B[0mApiException\u001B[0m\u001B[1;33m(\u001B[0m\u001B[0mhttp_resp\u001B[0m\u001B[1;33m=\u001B[0m\u001B[0mr\u001B[0m\u001B[1;33m)\u001B[0m\u001B[1;33m\u001B[0m\u001B[1;33m\u001B[0m\u001B[0m\n\u001B[0m\u001B[0;32m    262\u001B[0m \u001B[1;33m\u001B[0m\u001B[0m\n\u001B[0;32m    263\u001B[0m         \u001B[1;32mreturn\u001B[0m \u001B[0mr\u001B[0m\u001B[1;33m\u001B[0m\u001B[1;33m\u001B[0m\u001B[0m\n",
      "\u001B[1;31mApiException\u001B[0m: (401)\nReason: Unauthorized\nHTTP response headers: HTTPHeaderDict({'Date': 'Wed, 07 Dec 2022 15:50:32 GMT', 'Content-Type': 'application/json; charset=utf-8', 'Content-Length': '55', 'Connection': 'keep-alive', 'trace-id': '705bc4d2d803dd40', 'trace-sampled': 'false', 'x-platform-error-code': 'unauthorized', 'Strict-Transport-Security': 'max-age=15724800; includeSubDomains', 'X-Influxdb-Request-ID': '5b3d7be590590baac9919011799df770', 'X-Influxdb-Build': 'Cloud'})\nHTTP response body: {\"code\":\"unauthorized\",\"message\":\"unauthorized access\"}\n"
     ]
    }
   ],
   "source": [
    "bucket=\"Amer\"\n",
    "\n",
    "write_api = client.write_api(write_options=SYNCHRONOUS)\n",
    "\n",
    "for value in range(5):\n",
    "  point = (\n",
    "    Point(\"measurement1\")\n",
    "    .tag(\"tagname1\", \"tagvalue1\")\n",
    "    .field(\"field1\", value)\n",
    "  )\n",
    "  write_api.write(bucket=bucket, org=\"amer.altizini@gmail.com\", record=point)\n",
    "  time.sleep(1) # separate points by 1 second"
   ],
   "metadata": {
    "collapsed": false
   }
  },
  {
   "cell_type": "code",
   "execution_count": null,
   "outputs": [],
   "source": [
    "\n",
    "\n"
   ],
   "metadata": {
    "collapsed": false
   }
  },
  {
   "cell_type": "code",
   "execution_count": null,
   "outputs": [],
   "source": [
    "# HTTP write listener for sensorlogger\n",
    "# https://github.com/influxdata/telegraf/blob/release-1.23/plugins/inputs/http_listener_v2/README.md\n",
    "[[inputs.http_listener_v2]]\n",
    "http_header_tags = { \"HTTP_HEADER\" = \"TAG_NAME\" }\n",
    "paths = [\"/sensorlogger\"]\n",
    "service_address = \":4711\"\n",
    "# do not save path as http_listener_v2_path tag\n",
    "path_tag = false\n",
    "data_source = \"body\"\n",
    "data_format = \"json_v2\"\n",
    "\n",
    "# massage the JSON with https://github.com/influxdata/telegraf/tree/master/plugins/parsers/json_v2\n",
    "[[inputs.http_listener_v2.json_v2]]\n",
    "measurement_name = \"sensorlogger\"\n",
    "timestamp_format = \"unix_ns\"\n",
    "timestamp_path = \"payload.#.time\"\n",
    "\n",
    "[[inputs.http_listener_v2.json_v2.tag]]\n",
    "path = \"sessionId\"           # A string with valid GJSON path syntax to a non-array/non-object value\n",
    "rename = \"session\" # A string with a new name for the tag key\n",
    "## Setting optional to true will suppress errors if the configured Path doesn't match the JSON\n",
    "optional = false\n",
    "\n",
    "[[inputs.http_listener_v2.json_v2.tag]]\n",
    "path = \"deviceId\"           # A string with valid GJSON path syntax to a non-array/non-object value\n",
    "rename = \"device\" # A string with a new name for the tag key\n",
    "## Setting optional to true will suppress errors if the configured Path doesn't match the JSON\n",
    "optional = false\n",
    "\n",
    "[[inputs.http_listener_v2.json_v2.object]]\n",
    "disable_prepend_keys = true\n",
    "excluded_keys = [\"time\"]\n",
    "path = \"payload\"\n",
    "tags = [\"name\"]\n",
    "\n",
    "# InfluxDB V2 writer\n",
    "# https://github.com/influxdata/telegraf/blob/release-1.23/plugins/outputs/influxdb_v2/README.md\n",
    "[[outputs.influxdb_v2]]\n",
    "bucket = \"Amer\"\n",
    "organization = \"mah\"\n",
    "token = \"ExOgC_Cjgv4XOHnQrJqHeFlUqy7bVXmlSSbDc4bAPpDZm62U2b3aETl4IfIgSwug-VHlyc7BFaJWMbKo932l2w==\"\n",
    "urls = [\"http://127.0.0.1:8086\"]\n",
    "\n",
    "# only for debugging\n",
    "# show line protocol output in telegraf stdout\n",
    "\n",
    "[[outputs.file]]\n",
    "files = [\"stdout\"]"
   ],
   "metadata": {
    "collapsed": false
   }
  }
 ],
 "metadata": {
  "kernelspec": {
   "display_name": "Python 3",
   "language": "python",
   "name": "python3"
  },
  "language_info": {
   "codemirror_mode": {
    "name": "ipython",
    "version": 2
   },
   "file_extension": ".py",
   "mimetype": "text/x-python",
   "name": "python",
   "nbconvert_exporter": "python",
   "pygments_lexer": "ipython2",
   "version": "2.7.6"
  }
 },
 "nbformat": 4,
 "nbformat_minor": 0
}
