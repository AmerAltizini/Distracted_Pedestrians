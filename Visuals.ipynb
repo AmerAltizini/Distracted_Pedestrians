{
 "cells": [
  {
   "cell_type": "code",
   "execution_count": null,
   "metadata": {
    "collapsed": true
   },
   "outputs": [],
   "source": [
    "import pandas as pd\n",
    "import numpy as np\n",
    "import plotly.graph_objects as go\n",
    "import folium\n",
    "import os\n",
    "import glob\n",
    "from pandas.errors import EmptyDataError\n",
    "import matplotlib.pyplot as plt\n",
    "from functions import smooth\n",
    "import plotly.subplots as sp\n",
    "import plotly.graph_objs as go\n",
    "import seaborn as sns\n",
    "import plotly.io as pio\n",
    "from scipy.signal import find_peaks"
   ]
  },
  {
   "cell_type": "code",
   "execution_count": null,
   "outputs": [],
   "source": [
    "# Path\n",
    "filepath_sensors = './Data/input/'\n",
    "output_filepath = './Data/output/'\n",
    "path_img = './images/'\n",
    "path_viz = './Visualization/'\n",
    "\n",
    "if not os.path.exists(output_filepath):\n",
    "    os.makedirs(output_filepath)"
   ],
   "metadata": {
    "collapsed": false
   }
  },
  {
   "cell_type": "code",
   "execution_count": null,
   "outputs": [],
   "source": [
    "\n",
    "overview = pd.read_csv('./Data/overview.csv')\n",
    "fig, ax = plt.subplots(figsize = (12,5))\n",
    "# Load the example tips dataset\n",
    "# tips = sns.load_dataset(\"tips\")\n",
    "#\n",
    "# Draw a nested boxplot to show bills by day and time\n",
    "sns.boxplot(x=\"scenario\", y=\"age\", hue=\"sex\", palette=[\"r\", \"b\"],data=overview[(overview.sex==\"female\" ) | (overview.sex==\"male\")])\n",
    "\n",
    "sns.set_theme(style=\"whitegrid\")\n",
    "\n",
    "sns.despine(offset=10, trim=True)\n",
    "# plt.savefig(path_img + 'Manipulation vs sex(BoxPlot).pdf',bbox_inches='tight')"
   ],
   "metadata": {
    "collapsed": false
   }
  },
  {
   "cell_type": "code",
   "execution_count": null,
   "outputs": [],
   "source": [],
   "metadata": {
    "collapsed": false
   }
  },
  {
   "cell_type": "code",
   "execution_count": null,
   "outputs": [],
   "source": [
    "# path_E4 = \"./data/output/\"\n",
    "participant_filepath_output = \"./data/output/\"\n",
    "for participant_filepath in glob.glob(participant_filepath_output + 'amer4/', recursive=True):\n",
    "    accelerometer = pd.read_csv('{}Accelerometer_annotated.csv'.format(participant_filepath))\n",
    "    # extract participants id\n",
    "    components = os.path.dirname(participant_filepath)\n",
    "    components = components.split(os.path.sep)\n",
    "    participant = components[-1]\n",
    "    display(participant)\n",
    "    # df = pd.read_csv('./Data/2022-12-06_17-32-02/Accelerometer.csv')\n",
    "    accelerometer.index = pd.to_datetime(accelerometer['time'], unit = 'ns')\n",
    "\n",
    "    fig = go.Figure()\n",
    "\n",
    "    for axis in ['x', 'y', 'z']:\n",
    "        fig.add_trace(go.Scatter(x = accelerometer.index, y = accelerometer[axis], name = axis))\n",
    "    fig.update_layout(legend_title_text = \"ACC (m/s^2)\", autosize=True)\n",
    "    fig.update_xaxes(title_text=\"Timestamp_\" + participant)\n",
    "    fig.update_yaxes(title_text=\"ACC\")\n",
    "        # matplotlib.rcParams['figure.figsize'] = [40, 10]\n",
    "    fig.show()"
   ],
   "metadata": {
    "collapsed": false
   }
  },
  {
   "cell_type": "code",
   "execution_count": null,
   "outputs": [],
   "source": [
    "path_viz = './Visualization/Specific_activity/'"
   ],
   "metadata": {
    "collapsed": false
   }
  },
  {
   "cell_type": "code",
   "execution_count": null,
   "outputs": [],
   "source": [
    "# Define the category to visualize\n",
    "# category = 'walking'\n",
    "# Define the start and end indices for the data range to plot\n",
    "start_index = 6300\n",
    "end_index = 7000\n",
    "i = -1\n",
    "j = -1\n",
    "# Define a list of sensor data files to process\n",
    "sensor_files = ['Accelerometer_annotated.csv', 'Gyroscope_annotated.csv', 'Magnetometer_annotated.csv']\n",
    "# Define a list of categories to visualize\n",
    "categories = ['walking', 'standing']\n",
    "# , 'PtTX', 'WWTX', 'SWTX', 'TXtP', 'TXtTL', 'WWTL', 'SWTL'\n",
    "# Loop through all sensor data files\n",
    "for sensor_file in sensor_files:\n",
    "    # Loop through all participant files for the current sensor data file\n",
    "    for participant_filepath in glob.glob(participant_filepath_output + 'amer2/', recursive=True):\n",
    "        i+=i+1\n",
    "        # read in the accelerometer data\n",
    "        # accelerometer = pd.read_csv('{}Accelerometer_annotated.csv'.format(participant_filepath))\n",
    "        # read in the sensor data\n",
    "        sensor_data = pd.read_csv('{}{}'.format(participant_filepath, sensor_file))\n",
    "\n",
    "        # extract the participant ID from the file path\n",
    "        components = os.path.dirname(participant_filepath)\n",
    "        components = components.split(os.path.sep)\n",
    "        participant = components[-1]\n",
    "        # Loop through all categories to plot\n",
    "        for category in categories:\n",
    "            j = j+1\n",
    "            # filter the sensor data to include only the rows that correspond to the category\n",
    "            category_data = sensor_data[sensor_data['text'] == category]\n",
    "            # plot the specified range of x-, y-, and z-axis data for the sensor\n",
    "            fig, ax = plt.subplots(figsize=(10,5))\n",
    "            ax.plot(category_data['x'][start_index:end_index], label='x-axis')\n",
    "            ax.plot(category_data['y'][start_index:end_index], label='y-axis')\n",
    "            ax.plot(category_data['z'][start_index:end_index], label='z-axis')\n",
    "            ax.set_title('{} Data for {}'.format(sensor_file.replace('_annotated.csv', ''), category))\n",
    "            ax.set_xlabel('Sample')\n",
    "            ax.set_ylabel('Value')\n",
    "            ax.legend()\n",
    "            # plt.savefig(path_viz + sensor_files[i] + category[j] + '.pdf',bbox_inches='tight')\n",
    "            plt.savefig(path_viz + '{}_{}.pdf'.format(i, j), bbox_inches='tight')\n",
    "            # ax.set_xlim(0, end_index - start_index)\n",
    "            plt.show()"
   ],
   "metadata": {
    "collapsed": false
   }
  },
  {
   "cell_type": "code",
   "execution_count": null,
   "outputs": [],
   "source": [
    "# path_E4 = \"./data/output/\"\n",
    "participant_filepath_output = \"./Data/output/\"\n",
    "for participant_filepath in glob.glob(participant_filepath_output + '2/', recursive=True):\n",
    "    accelerometer = pd.read_csv('{}Orientation_annotated.csv'.format(participant_filepath))\n",
    "    # extract participants id\n",
    "    components = os.path.dirname(participant_filepath)\n",
    "    components = components.split(os.path.sep)\n",
    "    participant = components[-1]\n",
    "    display(participant)\n",
    "    # df = pd.read_csv('./Data/2022-12-06_17-32-02/Accelerometer.csv')\n",
    "    accelerometer.index = pd.to_datetime(accelerometer['Timestamp'], unit = 'ns')\n",
    "    accelerometer = accelerometer.dropna(subset=['Label'])\n",
    "    #\n",
    "    # # Create a figure with 3 subplots using the subplots function\n",
    "    fig = sp.make_subplots(rows=3, cols=1)\n",
    "\n",
    "    # Add a trace for each axis, using the Scatter function\n",
    "    fig.add_trace(go.Scatter(x=accelerometer.index, y=accelerometer[\"roll\"], text = accelerometer[\"Label\"], name='X-axis'), row=1, col=1)\n",
    "    fig.add_trace(go.Scatter(x=accelerometer.index, y=accelerometer[\"pitch\"], text = accelerometer[\"Label\"], name='Y-axis'), row=2, col=1)\n",
    "    fig.add_trace(go.Scatter(x=accelerometer.index, y=accelerometer[\"yaw\"], text = accelerometer[\"Label\"], name='Z-axis'), row=3, col=1)\n",
    "    # Initialize a list to hold the annotations\n",
    "    annotations = []\n",
    "\n",
    "    # Iterate through the data and add an annotation when the label changes\n",
    "    # for i in range(3):\n",
    "    #     prev_label = ''\n",
    "    #     for j, point in enumerate(fig.data[0].text):\n",
    "    #         if point != prev_label:\n",
    "    #             annotations.append({\n",
    "    #                 'x': fig.data[0].x[j],\n",
    "    #                 'y': fig.data[0].y[j],\n",
    "    #                 'text': point,\n",
    "    #                 'xref': 'x',\n",
    "    #                 'yref': 'y'\n",
    "    #             })\n",
    "    #         prev_label = point\n",
    "\n",
    "        # Add the annotations to the layout\n",
    "        # fig.update_layout(annotations=annotations)\n",
    "\n",
    "    # Customize the layout\n",
    "    fig.update_layout(title='3-Axis Orientation Data (rad)')\n",
    "\n",
    "    # Set the height and width of the subplots\n",
    "    # fig.update_layout(autosize=True)\n",
    "\n",
    "    # Set the name of each axis\n",
    "    fig.update_layout(yaxis1=dict(title='roll'),\n",
    "                      yaxis2=dict(title='pitch'),\n",
    "                      yaxis3=dict(title='yaw'),\n",
    "                      xaxis1=dict(title=''),\n",
    "                      xaxis2=dict(title=''),\n",
    "                      xaxis3=dict(title='Timestamp'))\n",
    "    # Show the figure\n",
    "    fig.show()\n",
    "    pio.write_image(fig, path_viz+'ORI.pdf')"
   ],
   "metadata": {
    "collapsed": false
   }
  },
  {
   "cell_type": "code",
   "execution_count": null,
   "outputs": [],
   "source": [
    "participant_filepath_output = \"./data/output/\"\n",
    "for participant_filepath in glob.glob(participant_filepath_output + '*/', recursive=True):\n",
    "    accelerometer = pd.read_csv('{}Accelerometer_annotated.csv'.format(participant_filepath))\n",
    "    # extract participants id\n",
    "    components = os.path.dirname(participant_filepath)\n",
    "    components = components.split(os.path.sep)\n",
    "    participant = components[-1]\n",
    "    display(participant)\n",
    "    # df = pd.read_csv('./Data/2022-12-06_17-32-02/Accelerometer.csv')\n",
    "    accelerometer.index = pd.to_datetime(accelerometer['Timestamp'], unit = 'ns')\n",
    "    accelerometer = accelerometer.dropna(subset=['Label'])\n",
    "    # Select only the 'x', 'y', and 'z' columns\n",
    "    data = accelerometer[['x', 'y', 'z']]\n",
    "\n",
    "    # Group the data by 'Category'\n",
    "    grouped_data = data.groupby(accelerometer['Label'])\n",
    "\n",
    "    # Calculate the statistics for each group\n",
    "    stats = grouped_data.apply(lambda x: pd.Series({\"x_min\":x.x.min(),\"y_min\":x.y.min(),\"z_min\":x.z.min(),\"x_max\":x.x.max(),\"y_max\":x.y.max(),\"z_max\":x.z.max(),\"x_mean\":x.x.mean(),\"y_mean\":x.y.mean(),\"z_mean\":x.z.mean(),\"x_std\":x.x.std(),\"y_std\":x.y.std(),\"z_std\":x.z.std()}))\n",
    "\n",
    "    display(stats)"
   ],
   "metadata": {
    "collapsed": false
   }
  },
  {
   "cell_type": "code",
   "execution_count": null,
   "outputs": [],
   "source": [
    "participant_filepath_output = \"./data/output/\"\n",
    "all_stats = pd.DataFrame()\n",
    "for participant_filepath in glob.glob(participant_filepath_output + '*/', recursive=True):\n",
    "    accelerometer = pd.read_csv('{}Accelerometer_annotated.csv'.format(participant_filepath))\n",
    "    # extract participants id\n",
    "    components = os.path.dirname(participant_filepath)\n",
    "    components = components.split(os.path.sep)\n",
    "    participant = components[-1]\n",
    "    accelerometer.index = pd.to_datetime(accelerometer['Timestamp'], unit = 'ns')\n",
    "    accelerometer = accelerometer.dropna(subset=['Label'])\n",
    "    # Select only the 'x', 'y', and 'z' columns\n",
    "    data = accelerometer[['x', 'y', 'z']]\n",
    "    # Group the data by 'Category'\n",
    "    grouped_data = data.groupby(accelerometer['Label'])\n",
    "    # Calculate the statistics for each group\n",
    "    stats = grouped_data.agg([\"min\", \"max\", \"mean\", \"std\"])\n",
    "    stats['participant'] = participant\n",
    "    all_stats = all_stats.append(stats)\n",
    "max_stats = all_stats.groupby(level=0).max().round(2)\n",
    "display(max_stats)\n",
    "max_stats.to_csv ('./data/max_ACC.csv')"
   ],
   "metadata": {
    "collapsed": false
   }
  },
  {
   "cell_type": "code",
   "execution_count": null,
   "outputs": [],
   "source": [
    "participant_filepath_output = \"./data/output/\"\n",
    "all_stats = pd.DataFrame()\n",
    "for participant_filepath in glob.glob(participant_filepath_output + '*/', recursive=True):\n",
    "    accelerometer = pd.read_csv('{}Orientation_annotated.csv'.format(participant_filepath))\n",
    "    # extract participants id\n",
    "    components = os.path.dirname(participant_filepath)\n",
    "    components = components.split(os.path.sep)\n",
    "    participant = components[-1]\n",
    "    accelerometer.index = pd.to_datetime(accelerometer['Timestamp'], unit = 'ns')\n",
    "    accelerometer = accelerometer.dropna(subset=['Label'])\n",
    "    # Select only the 'x', 'y', and 'z' columns\n",
    "    data = accelerometer[['roll', 'pitch', 'yaw']]\n",
    "    # Group the data by 'Category'\n",
    "    grouped_data = data.groupby(accelerometer['Label'])\n",
    "    # Calculate the statistics for each group\n",
    "    stats = grouped_data.agg([\"min\", \"max\", \"mean\", \"std\"])\n",
    "    stats['participant'] = participant\n",
    "    all_stats = all_stats.append(stats)\n",
    "max_stats = all_stats.groupby(level=0).max().round(2)\n",
    "display(max_stats)\n",
    "max_stats.to_csv ('./data/max_Orient.csv')"
   ],
   "metadata": {
    "collapsed": false
   }
  },
  {
   "cell_type": "code",
   "execution_count": null,
   "outputs": [],
   "source": [
    "participant_filepath_output = \"./data/output/\"\n",
    "all_stats = pd.DataFrame()\n",
    "for participant_filepath in glob.glob(participant_filepath_output + '*/', recursive=True):\n",
    "    accelerometer = pd.read_csv('{}Gyroscope_annotated.csv'.format(participant_filepath))\n",
    "    # extract participants id\n",
    "    components = os.path.dirname(participant_filepath)\n",
    "    components = components.split(os.path.sep)\n",
    "    participant = components[-1]\n",
    "    accelerometer.index = pd.to_datetime(accelerometer['Timestamp'], unit = 'ns')\n",
    "    accelerometer = accelerometer.dropna(subset=['Label'])\n",
    "    # Select only the 'x', 'y', and 'z' columns\n",
    "    data = accelerometer[['x', 'y', 'z']]\n",
    "    # Group the data by 'Category'\n",
    "    grouped_data = data.groupby(accelerometer['Label'])\n",
    "    # Calculate the statistics for each group\n",
    "    stats = grouped_data.agg([\"min\", \"max\", \"mean\", \"std\"])\n",
    "    stats['participant'] = participant\n",
    "    all_stats = all_stats.append(stats)\n",
    "max_stats = all_stats.groupby(level=0).max().round(2)\n",
    "display(max_stats)\n",
    "max_stats.to_csv ('./data/max_Gyro.csv')"
   ],
   "metadata": {
    "collapsed": false
   }
  },
  {
   "cell_type": "code",
   "execution_count": null,
   "outputs": [],
   "source": [
    "participant_filepath_output = \"./data/output/\"\n",
    "all_stats = pd.DataFrame()\n",
    "for participant_filepath in glob.glob(participant_filepath_output + '*/', recursive=True):\n",
    "    accelerometer = pd.read_csv('{}Magnetometer_annotated.csv'.format(participant_filepath))\n",
    "    # extract participants id\n",
    "    components = os.path.dirname(participant_filepath)\n",
    "    components = components.split(os.path.sep)\n",
    "    participant = components[-1]\n",
    "    accelerometer.index = pd.to_datetime(accelerometer['Timestamp'], unit = 'ns')\n",
    "    accelerometer = accelerometer.dropna(subset=['Label'])\n",
    "    # Select only the 'x', 'y', and 'z' columns\n",
    "    data = accelerometer[['x', 'y', 'z']]\n",
    "    # Group the data by 'Category'\n",
    "    grouped_data = data.groupby(accelerometer['Label'])\n",
    "    # Calculate the statistics for each group\n",
    "    stats = grouped_data.agg([\"min\", \"max\", \"mean\", \"std\"])\n",
    "    stats['participant'] = participant\n",
    "    all_stats = all_stats.append(stats)\n",
    "max_stats = all_stats.groupby(level=0).max().round(2)\n",
    "display(max_stats)\n",
    "max_stats.to_csv ('./data/max_Magno.csv')"
   ],
   "metadata": {
    "collapsed": false
   }
  },
  {
   "cell_type": "code",
   "execution_count": null,
   "outputs": [],
   "source": [
    "participant_filepath_output = \"./data/output/\"\n",
    "all_stats = pd.DataFrame()\n",
    "for participant_filepath in glob.glob(participant_filepath_output + '*/', recursive=True):\n",
    "    accelerometer = pd.read_csv('{}Light_annotated.csv'.format(participant_filepath))\n",
    "    # extract participants id\n",
    "    components = os.path.dirname(participant_filepath)\n",
    "    components = components.split(os.path.sep)\n",
    "    participant = components[-1]\n",
    "    accelerometer.index = pd.to_datetime(accelerometer['Timestamp'], unit = 'ns')\n",
    "    accelerometer = accelerometer.dropna(subset=['Label'])\n",
    "    # Select only the 'x', 'y', and 'z' columns\n",
    "    data = accelerometer['lux']\n",
    "    # Group the data by 'Category'\n",
    "    grouped_data = data.groupby(accelerometer['Label'])\n",
    "    # Calculate the statistics for each group\n",
    "    stats = grouped_data.agg([\"min\", \"max\", \"mean\", \"std\"])\n",
    "    stats['participant'] = participant\n",
    "    all_stats = all_stats.append(stats)\n",
    "max_stats = all_stats.groupby(level=0).max().round(2)\n",
    "display(max_stats)\n",
    "max_stats.to_csv ('./data/max_Light.csv')"
   ],
   "metadata": {
    "collapsed": false
   }
  },
  {
   "cell_type": "code",
   "execution_count": null,
   "outputs": [],
   "source": [
    "# path_E4 = \"./data/output/\"\n",
    "participant_filepath_output = \"./data/output/\"\n",
    "for participant_filepath in glob.glob(participant_filepath_output + 'amer3/', recursive=True):\n",
    "    gyroscope = pd.read_csv('{}Light_annotated.csv'.format(participant_filepath))\n",
    "    # extract participants id\n",
    "    components = os.path.dirname(participant_filepath)\n",
    "    components = components.split(os.path.sep)\n",
    "    participant = components[-1]\n",
    "    display(participant)\n",
    "    # df = pd.read_csv('./Data/2022-12-06_17-32-02/Accelerometer.csv')\n",
    "    gyroscope.index = pd.to_datetime(gyroscope['Timestamp'], unit = 'ns')\n",
    "    gyroscope = gyroscope.dropna(subset=['text'])\n",
    "\n",
    "    # Create a figure with 3 subplots using the subplots function\n",
    "    fig = sp.make_subplots(rows=3, cols=1)\n",
    "\n",
    "    # Add a trace for each axis, using the Scatter function\n",
    "    fig.add_trace(go.Scatter(x=gyroscope.index, y=gyroscope[\"x\"], text = gyroscope[\"text\"], name='X-axis'), row=1, col=1)\n",
    "    fig.add_trace(go.Scatter(x=gyroscope.index, y=gyroscope[\"y\"], text = gyroscope[\"text\"], name='Y-axis'), row=2, col=1)\n",
    "    fig.add_trace(go.Scatter(x=gyroscope.index, y=gyroscope[\"z\"], text = gyroscope[\"text\"], name='Z-axis'), row=3, col=1)\n",
    "    # Initialize a list to hold the annotations\n",
    "    annotations = []\n",
    "\n",
    "    # Iterate through the data and add an annotation when the label changes\n",
    "    prev_label = ''\n",
    "    for i, point in enumerate(fig.data[0].text):\n",
    "        if point != prev_label:\n",
    "            annotations.append({\n",
    "                'x': fig.data[0].x[i],\n",
    "                'y': fig.data[0].y[i],\n",
    "                'text': point,\n",
    "                'xref': 'x',\n",
    "                'yref': 'y'\n",
    "            })\n",
    "        prev_label = point\n",
    "\n",
    "    # Add the annotations to the layout\n",
    "    # fig.update_layout(annotations=annotations)\n",
    "\n",
    "    # Customize the layout\n",
    "    fig.update_layout(title='3-Axis Gyroscope Data (rad/s)')\n",
    "\n",
    "    # Set the height and width of the subplots\n",
    "    fig.update_layout(height=800, width=1600)\n",
    "\n",
    "    # Set the name of each axis\n",
    "    fig.update_layout(yaxis1=dict(title='x'),\n",
    "                      yaxis2=dict(title='y'),\n",
    "                      yaxis3=dict(title='z'),\n",
    "                      xaxis1=dict(title=''),\n",
    "                      xaxis2=dict(title=''),\n",
    "                      xaxis3=dict(title='Time'))\n",
    "    # Show the figure\n",
    "    fig.show()\n",
    "    pio.write_image(fig, path_viz+'GYRO.pdf')\n",
    "    # for i, trace in enumerate(fig.data):\n",
    "    #     color = trace.marker.color\n",
    "    #     subfig = go.Figure(trace)\n",
    "    #     subfig.update_traces(marker=dict(color=color))\n",
    "    #     pio.write_image(subfig, path_viz + f'figure{i}.png')"
   ],
   "metadata": {
    "collapsed": false
   }
  },
  {
   "cell_type": "code",
   "execution_count": null,
   "outputs": [],
   "source": [
    "# Calculate the derivative of the value column for a time interval of 1 second\n",
    "df_derivative = aaa.diff(periods=1)\n",
    "# display(df_derivative)\n",
    "# df_derivative = df_derivative.dropna()\n",
    "\n",
    "fig = go.Figure()\n",
    "\n",
    "for axis in ['x', 'y', 'z']:\n",
    "    fig.add_trace(go.Scatter(x = df_derivative.index, y = df_derivative[axis], name = axis))\n",
    "\n",
    "fig.show()"
   ],
   "metadata": {
    "collapsed": false
   }
  },
  {
   "cell_type": "code",
   "execution_count": null,
   "outputs": [],
   "source": [
    "df.index = pd.to_datetime(df['time'], unit = 'ns')\n",
    "fig = go.Figure()\n",
    "\n",
    "for axis in ['x', 'y', 'z']:\n",
    "    fig.add_trace(go.Scatter(x = df_derivative.index, y = df_derivative[axis], name = axis))\n",
    "\n",
    "fig.show()"
   ],
   "metadata": {
    "collapsed": false
   }
  },
  {
   "cell_type": "code",
   "execution_count": null,
   "outputs": [],
   "source": [
    "# path_E4 = \"./data/output/\"\n",
    "import plotly.express as px\n",
    "\n",
    "participant_filepath_output = \"./data/output/\"\n",
    "for participant_filepath in glob.glob(participant_filepath_output + '*/', recursive=True):\n",
    "    light = pd.read_csv('{}Light_annotated.csv'.format(participant_filepath))\n",
    "    # extract participants id\n",
    "    components = os.path.dirname(participant_filepath)\n",
    "    components = components.split(os.path.sep)\n",
    "    participant = components[-1]\n",
    "    display(participant)\n",
    "    # df = pd.read_csv('./Data/2022-12-06_17-32-02/Accelerometer.csv')\n",
    "    light.index = pd.to_datetime(light['time'], unit = 'ns')\n",
    "    light = light.dropna(subset=['text'])\n",
    "\n",
    "    # Create a figure with 3 subplots using the subplots function\n",
    "    fig = sp.make_subplots(rows=3, cols=1)\n",
    "\n",
    "   # Use plotly to create the line plot\n",
    "    fig = px.line(light, x='time', y='lux', color='text', labels={'light_sensor':'Light Sensor Data'})\n",
    "    fig.update_layout(xaxis=dict(tickvals=[], showticklabels=False))\n",
    "\n",
    "    # Show the plot\n",
    "    fig.show()"
   ],
   "metadata": {
    "collapsed": false
   }
  },
  {
   "cell_type": "code",
   "execution_count": null,
   "outputs": [],
   "source": [],
   "metadata": {
    "collapsed": false
   }
  }
 ],
 "metadata": {
  "kernelspec": {
   "display_name": "Python 3",
   "language": "python",
   "name": "python3"
  },
  "language_info": {
   "codemirror_mode": {
    "name": "ipython",
    "version": 2
   },
   "file_extension": ".py",
   "mimetype": "text/x-python",
   "name": "python",
   "nbconvert_exporter": "python",
   "pygments_lexer": "ipython2",
   "version": "2.7.6"
  }
 },
 "nbformat": 4,
 "nbformat_minor": 0
}
