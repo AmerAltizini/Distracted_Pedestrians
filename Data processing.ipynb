{
 "cells": [
  {
   "cell_type": "code",
   "execution_count": 13,
   "metadata": {
    "collapsed": true
   },
   "outputs": [],
   "source": [
    "import pandas as pd\n",
    "import numpy as np\n",
    "import os\n",
    "import glob\n",
    "from pandas.errors import EmptyDataError"
   ]
  },
  {
   "cell_type": "code",
   "execution_count": 27,
   "outputs": [],
   "source": [
    "# Path\"\n",
    "filepath_sensors = './Data/input/'\n",
    "output_filepath = './Data/output/'\n",
    "middle_filepath = './Data/middle/'\n",
    "path_img = './images/'\n",
    "\n",
    "if not os.path.exists(output_filepath):\n",
    "    os.makedirs(output_filepath)"
   ],
   "metadata": {
    "collapsed": false
   }
  },
  {
   "cell_type": "code",
   "execution_count": 68,
   "outputs": [],
   "source": [
    "# Change the format of columns to pass through manual data annotation\n",
    "\n",
    "for participant_filepath in glob.iglob(filepath_sensors + \"8/\", recursive=True):\n",
    "    components = os.path.normpath(participant_filepath)\n",
    "    components = components.split(os.path.sep)\n",
    "    participant = components[-1]\n",
    "    # Load original dataframe\n",
    "    # df = pd.read_csv('./Data/input/amer/Accelerometer.csv')\n",
    "    df = pd.read_csv('{}Accelerometer.csv'.format(participant_filepath))\n",
    "    # overview = pd.read_csv('./Data/overview.csv')\n",
    "    # Convert timestamp column to datetime format\n",
    "    df['timestamp'] = pd.to_datetime(df['time'], unit='ns')\n",
    "    # Format datetime column to string format\n",
    "    df['timestamp'] = df['timestamp'].dt.strftime('%m/%d/%Y %I:%M:%S %p')\n",
    "    # Create new dataframe with formatted timestamp column\n",
    "    new_df = pd.DataFrame({'Timestamp': df['timestamp'],'ACC-X': df['x'], 'ACC-Y': df['y'],'ACC-Z': df['z']})\n",
    "    participant_filepath_middle = middle_filepath + participant + '/'\n",
    "    if not os.path.exists(participant_filepath_middle):\n",
    "        os.makedirs(participant_filepath_middle)\n",
    "    new_df.to_csv(participant_filepath_middle + \"data.csv\", index=False)"
   ],
   "metadata": {
    "collapsed": false
   }
  },
  {
   "cell_type": "code",
   "execution_count": null,
   "outputs": [],
   "source": [
    "#pause"
   ],
   "metadata": {
    "collapsed": false
   }
  },
  {
   "cell_type": "code",
   "execution_count": 69,
   "outputs": [],
   "source": [
    "for participant_filepath in glob.iglob(filepath_sensors + \"8/\", recursive=True):\n",
    "    components = os.path.normpath(participant_filepath)\n",
    "    components = components.split(os.path.sep)\n",
    "    participant = components[-1]\n",
    "    # Load original dataframe\n",
    "    # df = pd.read_csv('./Data/input/amer/Accelerometer.csv')\n",
    "    df = pd.read_csv('{}Accelerometer.csv'.format(participant_filepath))\n",
    "    # overview = pd.read_csv('./Data/overview.csv')\n",
    "    # Convert timestamp column to datetime format\n",
    "    # df['timestamp'] = pd.to_datetime(df['time'], unit='ns')\n",
    "    # Format datetime column to string format\n",
    "    # df['timestamp'] = df['timestamp'].dt.strftime('%m/%d/%Y %I:%M:%S %p')\n",
    "    # Create new dataframe with formatted timestamp column\n",
    "    new_df = pd.DataFrame({'Timestamp': df['time'],'x': df['x'], 'y': df['y'],'z': df['z']})\n",
    "    participant_filepath_middle = middle_filepath + participant + '/'\n",
    "    if not os.path.exists(participant_filepath_middle):\n",
    "        os.makedirs(participant_filepath_middle)\n",
    "\n",
    "    # Load original dataframe\n",
    "    # annotation = pd.read_csv('{}Annotation.csv'.format(participant_filepath))\n",
    "    # overview = pd.read_csv('./Data/overview.csv')\n",
    "    # Convert timestamp column to datetime format\n",
    "    # annotation['timestamp'] = pd.to_datetime(annotation['time'], unit='ns')\n",
    "\n",
    "    # Format datetime column to string format\n",
    "    # annotation['timestamp'] = annotation['timestamp'].dt.strftime('%m/%d/%Y %I:%M:%S %p')\n",
    "\n",
    "    # Create new dataframe with formatted timestamp column\n",
    "    # new_an = pd.DataFrame({'Timestamp': annotation['time'],'Label': annotation['text']})\n",
    "\n",
    "    # Save new dataframe to CSV file\n",
    "    # new_an.to_csv(participant_filepath_middle + 'labels.csv', index=False)\n",
    "    new_df.to_csv(participant_filepath_middle + \"Accelerometer.csv\", index=False)\n",
    "    # Load original dataframe for magnetometer sensor\n",
    "    df = pd.read_csv('{}Magnetometer.csv'.format(participant_filepath))\n",
    "\n",
    "    # Convert timestamp column to datetime format\n",
    "    # df['timestamp'] = pd.to_datetime(df['time'], unit='ns')\n",
    "\n",
    "    # Format datetime column to string format\n",
    "    # df['timestamp'] = df['timestamp'].dt.strftime('%m/%d/%Y %I:%M:%S %p')\n",
    "\n",
    "    # Create new dataframe with formatted timestamp column\n",
    "    new_df = pd.DataFrame({'Timestamp': df['time'],'x': df['x'], 'y': df['y'],'z': df['z']})\n",
    "\n",
    "    # Save new dataframe to CSV file\n",
    "    new_df.to_csv(participant_filepath_middle + \"Magnetometer.csv\", index=False)\n",
    "\n",
    "    # Load original dataframe for gyroscope sensor\n",
    "    df = pd.read_csv('{}Gyroscope.csv'.format(participant_filepath))\n",
    "\n",
    "    # Convert timestamp column to datetime format\n",
    "    # df['timestamp'] = pd.to_datetime(df['time'], unit='ns')\n",
    "\n",
    "    # Format datetime column to string format\n",
    "    # df['timestamp'] = df['timestamp'].dt.strftime('%m/%d/%Y %I:%M:%S %p')\n",
    "\n",
    "    # Create new dataframe with formatted timestamp column\n",
    "    new_df = pd.DataFrame({'Timestamp': df['time'],'x': df['x'], 'y': df['y'],'z': df['z']})\n",
    "#### time small cuz we deactiviate timestamp conversion\n",
    "    # Save new dataframe to CSV file\n",
    "    new_df.to_csv(participant_filepath_middle + \"Gyroscope.csv\", index=False)"
   ],
   "metadata": {
    "collapsed": false
   }
  },
  {
   "cell_type": "code",
   "execution_count": 70,
   "outputs": [],
   "source": [
    "for participant_filepath in glob.iglob(filepath_sensors + \"8/\", recursive=True):\n",
    "    components = os.path.normpath(participant_filepath)\n",
    "    components = components.split(os.path.sep)\n",
    "    participant = components[-1]\n",
    "    # Load original dataframe\n",
    "    # df = pd.read_csv('./Data/input/amer/Accelerometer.csv')\n",
    "    df = pd.read_csv('{}Orientation.csv'.format(participant_filepath))\n",
    "    # overview = pd.read_csv('./Data/overview.csv')\n",
    "    # Convert timestamp column to datetime format\n",
    "    # df['timestamp'] = pd.to_datetime(df['time'], unit='ns')\n",
    "    # Format datetime column to string format\n",
    "    # df['timestamp'] = df['timestamp'].dt.strftime('%m/%d/%Y %I:%M:%S %p')\n",
    "    # Create new dataframe with formatted timestamp column\n",
    "    new_df = pd.DataFrame({'Timestamp': df['time'],'roll': df['roll'], 'pitch': df['pitch'],'yaw': df['yaw']})\n",
    "    participant_filepath_middle = middle_filepath + participant + '/'\n",
    "    if not os.path.exists(participant_filepath_middle):\n",
    "        os.makedirs(participant_filepath_middle)\n",
    "    new_df.to_csv(participant_filepath_middle + \"Orientation.csv\", index=False)"
   ],
   "metadata": {
    "collapsed": false
   }
  },
  {
   "cell_type": "code",
   "execution_count": 71,
   "outputs": [],
   "source": [
    "for participant_filepath in glob.iglob(filepath_sensors + \"8/\", recursive=True):\n",
    "    components = os.path.normpath(participant_filepath)\n",
    "    components = components.split(os.path.sep)\n",
    "    participant = components[-1]\n",
    "    # Load original dataframe\n",
    "    # df = pd.read_csv('./Data/input/amer/Accelerometer.csv')\n",
    "    df = pd.read_csv('{}Light.csv'.format(participant_filepath))\n",
    "    # overview = pd.read_csv('./Data/overview.csv')\n",
    "    # Convert timestamp column to datetime format\n",
    "    # df['timestamp'] = pd.to_datetime(df['time'], unit='ns')\n",
    "    # Format datetime column to string format\n",
    "    # df['timestamp'] = df['timestamp'].dt.strftime('%m/%d/%Y %I:%M:%S %p')\n",
    "    # Create new dataframe with formatted timestamp column\n",
    "    new_df = pd.DataFrame({'Timestamp': df['time'],'lux': df['lux']})\n",
    "    participant_filepath_middle = middle_filepath + participant + '/'\n",
    "    if not os.path.exists(participant_filepath_middle):\n",
    "        os.makedirs(participant_filepath_middle)\n",
    "    new_df.to_csv(participant_filepath_middle + \"Light.csv\", index=False)"
   ],
   "metadata": {
    "collapsed": false
   }
  },
  {
   "cell_type": "code",
   "execution_count": 72,
   "outputs": [],
   "source": [
    "for participant_filepath in glob.iglob(filepath_sensors + \"8/\", recursive=True):\n",
    "    components = os.path.normpath(participant_filepath)\n",
    "    components = components.split(os.path.sep)\n",
    "    participant = components[-1]\n",
    "    # Load original dataframe\n",
    "    # df = pd.read_csv('./Data/input/amer/Accelerometer.csv')\n",
    "    df = pd.read_csv('{}Location.csv'.format(participant_filepath))\n",
    "    # overview = pd.read_csv('./Data/overview.csv')\n",
    "    # Convert timestamp column to datetime format\n",
    "    # df['timestamp'] = pd.to_datetime(df['time'], unit='ns')\n",
    "    # Format datetime column to string format\n",
    "    # df['timestamp'] = df['timestamp'].dt.strftime('%m/%d/%Y %I:%M:%S %p')\n",
    "    # Create new dataframe with formatted timestamp column\n",
    "    new_df = pd.DataFrame({'Timestamp': df['time'],'altitude': df['altitude'], 'longitude': df['longitude'],'latitude': df['latitude']})\n",
    "    participant_filepath_middle = middle_filepath + participant + '/'\n",
    "    if not os.path.exists(participant_filepath_middle):\n",
    "        os.makedirs(participant_filepath_middle)\n",
    "    new_df.to_csv(participant_filepath_middle + \"Location.csv\", index=False)"
   ],
   "metadata": {
    "collapsed": false
   }
  },
  {
   "cell_type": "code",
   "execution_count": 73,
   "outputs": [],
   "source": [
    "# convert label time after manual annotation to the nansecond\n",
    "for participant_filepath in glob.iglob(middle_filepath + \"8/\", recursive=True):\n",
    "    components = os.path.normpath(participant_filepath)\n",
    "    components = components.split(os.path.sep)\n",
    "    participant = components[-1]\n",
    "    # Load original dataframe\n",
    "    # df = pd.read_csv('./Data/input/amer/Accelerometer.csv')\n",
    "    df = pd.read_csv('{}labels (2).csv'.format(participant_filepath))\n",
    "    # convert the \"date_time\" column to a datetime object\n",
    "    df['Timestamp'] = pd.to_datetime(df['Timestamp'])\n",
    "\n",
    "    # convert the datetime objects to nanosecond timestamps\n",
    "    df['Timestamp'] = df['Timestamp'].apply(lambda x: x.timestamp() * 1e9)\n",
    "    new_df = pd.DataFrame({'Timestamp': df['Timestamp'], 'Label': df['Label']})\n",
    "    participant_filepath_middle = middle_filepath + participant + '/'\n",
    "    if not os.path.exists(participant_filepath_middle):\n",
    "        os.makedirs(participant_filepath_middle)\n",
    "    new_df.to_csv(participant_filepath_middle + \"labels.csv\", index=False)"
   ],
   "metadata": {
    "collapsed": false
   }
  },
  {
   "cell_type": "code",
   "execution_count": 45,
   "outputs": [],
   "source": [],
   "metadata": {
    "collapsed": false
   }
  },
  {
   "cell_type": "code",
   "execution_count": 74,
   "outputs": [
    {
     "data": {
      "text/plain": "          Timestamp      roll     pitch       yaw       Label\n0      1.676641e+18 -0.123631 -0.341519 -1.295010  transition\n1      1.676641e+18 -0.114268 -0.344321 -1.306007  transition\n2      1.676641e+18 -0.105638 -0.346640 -1.318059  transition\n3      1.676641e+18 -0.097399 -0.349128 -1.328611  transition\n4      1.676641e+18 -0.089122 -0.352172 -1.335578  transition\n...             ...       ...       ...       ...         ...\n72830  1.676641e+18 -0.053430 -0.052853  0.075364         NaN\n72831  1.676641e+18 -0.057752 -0.050750  0.077476         NaN\n72832  1.676641e+18 -0.060430 -0.047536  0.079600         NaN\n72833  1.676641e+18 -0.060757 -0.043781  0.081084         NaN\n72834  1.676641e+18 -0.059347 -0.039936  0.081757         NaN\n\n[72835 rows x 5 columns]",
      "text/html": "<div>\n<style scoped>\n    .dataframe tbody tr th:only-of-type {\n        vertical-align: middle;\n    }\n\n    .dataframe tbody tr th {\n        vertical-align: top;\n    }\n\n    .dataframe thead th {\n        text-align: right;\n    }\n</style>\n<table border=\"1\" class=\"dataframe\">\n  <thead>\n    <tr style=\"text-align: right;\">\n      <th></th>\n      <th>Timestamp</th>\n      <th>roll</th>\n      <th>pitch</th>\n      <th>yaw</th>\n      <th>Label</th>\n    </tr>\n  </thead>\n  <tbody>\n    <tr>\n      <th>0</th>\n      <td>1.676641e+18</td>\n      <td>-0.123631</td>\n      <td>-0.341519</td>\n      <td>-1.295010</td>\n      <td>transition</td>\n    </tr>\n    <tr>\n      <th>1</th>\n      <td>1.676641e+18</td>\n      <td>-0.114268</td>\n      <td>-0.344321</td>\n      <td>-1.306007</td>\n      <td>transition</td>\n    </tr>\n    <tr>\n      <th>2</th>\n      <td>1.676641e+18</td>\n      <td>-0.105638</td>\n      <td>-0.346640</td>\n      <td>-1.318059</td>\n      <td>transition</td>\n    </tr>\n    <tr>\n      <th>3</th>\n      <td>1.676641e+18</td>\n      <td>-0.097399</td>\n      <td>-0.349128</td>\n      <td>-1.328611</td>\n      <td>transition</td>\n    </tr>\n    <tr>\n      <th>4</th>\n      <td>1.676641e+18</td>\n      <td>-0.089122</td>\n      <td>-0.352172</td>\n      <td>-1.335578</td>\n      <td>transition</td>\n    </tr>\n    <tr>\n      <th>...</th>\n      <td>...</td>\n      <td>...</td>\n      <td>...</td>\n      <td>...</td>\n      <td>...</td>\n    </tr>\n    <tr>\n      <th>72830</th>\n      <td>1.676641e+18</td>\n      <td>-0.053430</td>\n      <td>-0.052853</td>\n      <td>0.075364</td>\n      <td>NaN</td>\n    </tr>\n    <tr>\n      <th>72831</th>\n      <td>1.676641e+18</td>\n      <td>-0.057752</td>\n      <td>-0.050750</td>\n      <td>0.077476</td>\n      <td>NaN</td>\n    </tr>\n    <tr>\n      <th>72832</th>\n      <td>1.676641e+18</td>\n      <td>-0.060430</td>\n      <td>-0.047536</td>\n      <td>0.079600</td>\n      <td>NaN</td>\n    </tr>\n    <tr>\n      <th>72833</th>\n      <td>1.676641e+18</td>\n      <td>-0.060757</td>\n      <td>-0.043781</td>\n      <td>0.081084</td>\n      <td>NaN</td>\n    </tr>\n    <tr>\n      <th>72834</th>\n      <td>1.676641e+18</td>\n      <td>-0.059347</td>\n      <td>-0.039936</td>\n      <td>0.081757</td>\n      <td>NaN</td>\n    </tr>\n  </tbody>\n</table>\n<p>72835 rows × 5 columns</p>\n</div>"
     },
     "metadata": {},
     "output_type": "display_data"
    },
    {
     "data": {
      "text/plain": "        Timestamp          lux       Label\n0    1.676641e+18  2901.949951  transition\n1    1.676641e+18  2107.187500  transition\n2    1.676641e+18  2841.025146  transition\n3    1.676641e+18  3417.725098  transition\n4    1.676641e+18  4357.812500  transition\n..            ...          ...         ...\n334  1.676641e+18    13.987500        SWTL\n335  1.676641e+18    11.000000        SWTL\n336  1.676641e+18          NaN        SWTL\n337  1.676641e+18    13.362500  transition\n338  1.676641e+18          NaN  transition\n\n[339 rows x 3 columns]",
      "text/html": "<div>\n<style scoped>\n    .dataframe tbody tr th:only-of-type {\n        vertical-align: middle;\n    }\n\n    .dataframe tbody tr th {\n        vertical-align: top;\n    }\n\n    .dataframe thead th {\n        text-align: right;\n    }\n</style>\n<table border=\"1\" class=\"dataframe\">\n  <thead>\n    <tr style=\"text-align: right;\">\n      <th></th>\n      <th>Timestamp</th>\n      <th>lux</th>\n      <th>Label</th>\n    </tr>\n  </thead>\n  <tbody>\n    <tr>\n      <th>0</th>\n      <td>1.676641e+18</td>\n      <td>2901.949951</td>\n      <td>transition</td>\n    </tr>\n    <tr>\n      <th>1</th>\n      <td>1.676641e+18</td>\n      <td>2107.187500</td>\n      <td>transition</td>\n    </tr>\n    <tr>\n      <th>2</th>\n      <td>1.676641e+18</td>\n      <td>2841.025146</td>\n      <td>transition</td>\n    </tr>\n    <tr>\n      <th>3</th>\n      <td>1.676641e+18</td>\n      <td>3417.725098</td>\n      <td>transition</td>\n    </tr>\n    <tr>\n      <th>4</th>\n      <td>1.676641e+18</td>\n      <td>4357.812500</td>\n      <td>transition</td>\n    </tr>\n    <tr>\n      <th>...</th>\n      <td>...</td>\n      <td>...</td>\n      <td>...</td>\n    </tr>\n    <tr>\n      <th>334</th>\n      <td>1.676641e+18</td>\n      <td>13.987500</td>\n      <td>SWTL</td>\n    </tr>\n    <tr>\n      <th>335</th>\n      <td>1.676641e+18</td>\n      <td>11.000000</td>\n      <td>SWTL</td>\n    </tr>\n    <tr>\n      <th>336</th>\n      <td>1.676641e+18</td>\n      <td>NaN</td>\n      <td>SWTL</td>\n    </tr>\n    <tr>\n      <th>337</th>\n      <td>1.676641e+18</td>\n      <td>13.362500</td>\n      <td>transition</td>\n    </tr>\n    <tr>\n      <th>338</th>\n      <td>1.676641e+18</td>\n      <td>NaN</td>\n      <td>transition</td>\n    </tr>\n  </tbody>\n</table>\n<p>339 rows × 3 columns</p>\n</div>"
     },
     "metadata": {},
     "output_type": "display_data"
    },
    {
     "data": {
      "text/plain": "          Timestamp         x         y         z       Label\n0      1.676641e+18  0.000000  0.000000  0.000000  transition\n1      1.676641e+18  0.171679  0.034768  0.108542  transition\n2      1.676641e+18  0.265029  0.145721  0.274899  transition\n3      1.676641e+18  0.155259  0.279230  0.722435  transition\n4      1.676641e+18 -0.774002  0.354585  1.511992  transition\n...             ...       ...       ...       ...         ...\n72830  1.676641e+18 -1.004999 -1.239097  3.882800         NaN\n72831  1.676641e+18 -1.735284 -1.634899  3.808851         NaN\n72832  1.676641e+18 -2.349042 -1.954444  3.487796         NaN\n72833  1.676641e+18 -2.526170 -2.180021  2.952081         NaN\n72834  1.676641e+18 -1.761616 -2.072400  2.039467         NaN\n\n[72835 rows x 5 columns]",
      "text/html": "<div>\n<style scoped>\n    .dataframe tbody tr th:only-of-type {\n        vertical-align: middle;\n    }\n\n    .dataframe tbody tr th {\n        vertical-align: top;\n    }\n\n    .dataframe thead th {\n        text-align: right;\n    }\n</style>\n<table border=\"1\" class=\"dataframe\">\n  <thead>\n    <tr style=\"text-align: right;\">\n      <th></th>\n      <th>Timestamp</th>\n      <th>x</th>\n      <th>y</th>\n      <th>z</th>\n      <th>Label</th>\n    </tr>\n  </thead>\n  <tbody>\n    <tr>\n      <th>0</th>\n      <td>1.676641e+18</td>\n      <td>0.000000</td>\n      <td>0.000000</td>\n      <td>0.000000</td>\n      <td>transition</td>\n    </tr>\n    <tr>\n      <th>1</th>\n      <td>1.676641e+18</td>\n      <td>0.171679</td>\n      <td>0.034768</td>\n      <td>0.108542</td>\n      <td>transition</td>\n    </tr>\n    <tr>\n      <th>2</th>\n      <td>1.676641e+18</td>\n      <td>0.265029</td>\n      <td>0.145721</td>\n      <td>0.274899</td>\n      <td>transition</td>\n    </tr>\n    <tr>\n      <th>3</th>\n      <td>1.676641e+18</td>\n      <td>0.155259</td>\n      <td>0.279230</td>\n      <td>0.722435</td>\n      <td>transition</td>\n    </tr>\n    <tr>\n      <th>4</th>\n      <td>1.676641e+18</td>\n      <td>-0.774002</td>\n      <td>0.354585</td>\n      <td>1.511992</td>\n      <td>transition</td>\n    </tr>\n    <tr>\n      <th>...</th>\n      <td>...</td>\n      <td>...</td>\n      <td>...</td>\n      <td>...</td>\n      <td>...</td>\n    </tr>\n    <tr>\n      <th>72830</th>\n      <td>1.676641e+18</td>\n      <td>-1.004999</td>\n      <td>-1.239097</td>\n      <td>3.882800</td>\n      <td>NaN</td>\n    </tr>\n    <tr>\n      <th>72831</th>\n      <td>1.676641e+18</td>\n      <td>-1.735284</td>\n      <td>-1.634899</td>\n      <td>3.808851</td>\n      <td>NaN</td>\n    </tr>\n    <tr>\n      <th>72832</th>\n      <td>1.676641e+18</td>\n      <td>-2.349042</td>\n      <td>-1.954444</td>\n      <td>3.487796</td>\n      <td>NaN</td>\n    </tr>\n    <tr>\n      <th>72833</th>\n      <td>1.676641e+18</td>\n      <td>-2.526170</td>\n      <td>-2.180021</td>\n      <td>2.952081</td>\n      <td>NaN</td>\n    </tr>\n    <tr>\n      <th>72834</th>\n      <td>1.676641e+18</td>\n      <td>-1.761616</td>\n      <td>-2.072400</td>\n      <td>2.039467</td>\n      <td>NaN</td>\n    </tr>\n  </tbody>\n</table>\n<p>72835 rows × 5 columns</p>\n</div>"
     },
     "metadata": {},
     "output_type": "display_data"
    },
    {
     "data": {
      "text/plain": "          Timestamp         x         y         z       Label\n0      1.676641e+18  1.629540 -0.192807  0.192141  transition\n1      1.676641e+18  1.331275  0.187481  0.393470  transition\n2      1.676641e+18  1.020227  0.507051  0.511711  transition\n3      1.676641e+18  0.748592  0.766968  0.601191  transition\n4      1.676641e+18  0.580286  1.007710  0.690670  transition\n...             ...       ...       ...       ...         ...\n72830  1.676641e+18 -0.024634 -0.179359 -0.219172         NaN\n72831  1.676641e+18  0.001997 -0.237946 -0.172301         NaN\n72832  1.676641e+18 -0.028894 -0.334883 -0.179758         NaN\n72833  1.676641e+18 -0.108787 -0.439275 -0.201063         NaN\n72834  1.676641e+18 -0.213180 -0.437145 -0.197867         NaN\n\n[72835 rows x 5 columns]",
      "text/html": "<div>\n<style scoped>\n    .dataframe tbody tr th:only-of-type {\n        vertical-align: middle;\n    }\n\n    .dataframe tbody tr th {\n        vertical-align: top;\n    }\n\n    .dataframe thead th {\n        text-align: right;\n    }\n</style>\n<table border=\"1\" class=\"dataframe\">\n  <thead>\n    <tr style=\"text-align: right;\">\n      <th></th>\n      <th>Timestamp</th>\n      <th>x</th>\n      <th>y</th>\n      <th>z</th>\n      <th>Label</th>\n    </tr>\n  </thead>\n  <tbody>\n    <tr>\n      <th>0</th>\n      <td>1.676641e+18</td>\n      <td>1.629540</td>\n      <td>-0.192807</td>\n      <td>0.192141</td>\n      <td>transition</td>\n    </tr>\n    <tr>\n      <th>1</th>\n      <td>1.676641e+18</td>\n      <td>1.331275</td>\n      <td>0.187481</td>\n      <td>0.393470</td>\n      <td>transition</td>\n    </tr>\n    <tr>\n      <th>2</th>\n      <td>1.676641e+18</td>\n      <td>1.020227</td>\n      <td>0.507051</td>\n      <td>0.511711</td>\n      <td>transition</td>\n    </tr>\n    <tr>\n      <th>3</th>\n      <td>1.676641e+18</td>\n      <td>0.748592</td>\n      <td>0.766968</td>\n      <td>0.601191</td>\n      <td>transition</td>\n    </tr>\n    <tr>\n      <th>4</th>\n      <td>1.676641e+18</td>\n      <td>0.580286</td>\n      <td>1.007710</td>\n      <td>0.690670</td>\n      <td>transition</td>\n    </tr>\n    <tr>\n      <th>...</th>\n      <td>...</td>\n      <td>...</td>\n      <td>...</td>\n      <td>...</td>\n      <td>...</td>\n    </tr>\n    <tr>\n      <th>72830</th>\n      <td>1.676641e+18</td>\n      <td>-0.024634</td>\n      <td>-0.179359</td>\n      <td>-0.219172</td>\n      <td>NaN</td>\n    </tr>\n    <tr>\n      <th>72831</th>\n      <td>1.676641e+18</td>\n      <td>0.001997</td>\n      <td>-0.237946</td>\n      <td>-0.172301</td>\n      <td>NaN</td>\n    </tr>\n    <tr>\n      <th>72832</th>\n      <td>1.676641e+18</td>\n      <td>-0.028894</td>\n      <td>-0.334883</td>\n      <td>-0.179758</td>\n      <td>NaN</td>\n    </tr>\n    <tr>\n      <th>72833</th>\n      <td>1.676641e+18</td>\n      <td>-0.108787</td>\n      <td>-0.439275</td>\n      <td>-0.201063</td>\n      <td>NaN</td>\n    </tr>\n    <tr>\n      <th>72834</th>\n      <td>1.676641e+18</td>\n      <td>-0.213180</td>\n      <td>-0.437145</td>\n      <td>-0.197867</td>\n      <td>NaN</td>\n    </tr>\n  </tbody>\n</table>\n<p>72835 rows × 5 columns</p>\n</div>"
     },
     "metadata": {},
     "output_type": "display_data"
    },
    {
     "data": {
      "text/plain": "          Timestamp          x        y          z       Label\n0      1.676641e+18  12.187799  -8.7230 -41.394600  transition\n1      1.676641e+18  12.236600  -9.0890 -41.333599  transition\n2      1.676641e+18  11.943800  -9.4306 -41.284798  transition\n3      1.676641e+18  11.870600  -9.7234 -41.028599  transition\n4      1.676641e+18  12.126800  -9.8210 -40.967598  transition\n...             ...        ...      ...        ...         ...\n72311  1.676641e+18  -2.049600  13.4566 -46.420998         NaN\n72312  1.676641e+18  -2.086200  13.4688 -46.506397         NaN\n72313  1.676641e+18  -2.171600  13.5176 -46.506397         NaN\n72314  1.676641e+18  -2.220400  13.5176 -46.518600         NaN\n72315  1.676641e+18  -2.281400  13.5420 -46.481998         NaN\n\n[72316 rows x 5 columns]",
      "text/html": "<div>\n<style scoped>\n    .dataframe tbody tr th:only-of-type {\n        vertical-align: middle;\n    }\n\n    .dataframe tbody tr th {\n        vertical-align: top;\n    }\n\n    .dataframe thead th {\n        text-align: right;\n    }\n</style>\n<table border=\"1\" class=\"dataframe\">\n  <thead>\n    <tr style=\"text-align: right;\">\n      <th></th>\n      <th>Timestamp</th>\n      <th>x</th>\n      <th>y</th>\n      <th>z</th>\n      <th>Label</th>\n    </tr>\n  </thead>\n  <tbody>\n    <tr>\n      <th>0</th>\n      <td>1.676641e+18</td>\n      <td>12.187799</td>\n      <td>-8.7230</td>\n      <td>-41.394600</td>\n      <td>transition</td>\n    </tr>\n    <tr>\n      <th>1</th>\n      <td>1.676641e+18</td>\n      <td>12.236600</td>\n      <td>-9.0890</td>\n      <td>-41.333599</td>\n      <td>transition</td>\n    </tr>\n    <tr>\n      <th>2</th>\n      <td>1.676641e+18</td>\n      <td>11.943800</td>\n      <td>-9.4306</td>\n      <td>-41.284798</td>\n      <td>transition</td>\n    </tr>\n    <tr>\n      <th>3</th>\n      <td>1.676641e+18</td>\n      <td>11.870600</td>\n      <td>-9.7234</td>\n      <td>-41.028599</td>\n      <td>transition</td>\n    </tr>\n    <tr>\n      <th>4</th>\n      <td>1.676641e+18</td>\n      <td>12.126800</td>\n      <td>-9.8210</td>\n      <td>-40.967598</td>\n      <td>transition</td>\n    </tr>\n    <tr>\n      <th>...</th>\n      <td>...</td>\n      <td>...</td>\n      <td>...</td>\n      <td>...</td>\n      <td>...</td>\n    </tr>\n    <tr>\n      <th>72311</th>\n      <td>1.676641e+18</td>\n      <td>-2.049600</td>\n      <td>13.4566</td>\n      <td>-46.420998</td>\n      <td>NaN</td>\n    </tr>\n    <tr>\n      <th>72312</th>\n      <td>1.676641e+18</td>\n      <td>-2.086200</td>\n      <td>13.4688</td>\n      <td>-46.506397</td>\n      <td>NaN</td>\n    </tr>\n    <tr>\n      <th>72313</th>\n      <td>1.676641e+18</td>\n      <td>-2.171600</td>\n      <td>13.5176</td>\n      <td>-46.506397</td>\n      <td>NaN</td>\n    </tr>\n    <tr>\n      <th>72314</th>\n      <td>1.676641e+18</td>\n      <td>-2.220400</td>\n      <td>13.5176</td>\n      <td>-46.518600</td>\n      <td>NaN</td>\n    </tr>\n    <tr>\n      <th>72315</th>\n      <td>1.676641e+18</td>\n      <td>-2.281400</td>\n      <td>13.5420</td>\n      <td>-46.481998</td>\n      <td>NaN</td>\n    </tr>\n  </tbody>\n</table>\n<p>72316 rows × 5 columns</p>\n</div>"
     },
     "metadata": {},
     "output_type": "display_data"
    },
    {
     "data": {
      "text/plain": "          Timestamp      roll     pitch       yaw       Label\n0      1.676641e+18 -0.123631 -0.341519 -1.295010  transition\n1      1.676641e+18 -0.114268 -0.344321 -1.306007  transition\n2      1.676641e+18 -0.105638 -0.346640 -1.318059  transition\n3      1.676641e+18 -0.097399 -0.349128 -1.328611  transition\n4      1.676641e+18 -0.089122 -0.352172 -1.335578  transition\n...             ...       ...       ...       ...         ...\n72830  1.676641e+18 -0.053430 -0.052853  0.075364         NaN\n72831  1.676641e+18 -0.057752 -0.050750  0.077476         NaN\n72832  1.676641e+18 -0.060430 -0.047536  0.079600         NaN\n72833  1.676641e+18 -0.060757 -0.043781  0.081084         NaN\n72834  1.676641e+18 -0.059347 -0.039936  0.081757         NaN\n\n[72835 rows x 5 columns]",
      "text/html": "<div>\n<style scoped>\n    .dataframe tbody tr th:only-of-type {\n        vertical-align: middle;\n    }\n\n    .dataframe tbody tr th {\n        vertical-align: top;\n    }\n\n    .dataframe thead th {\n        text-align: right;\n    }\n</style>\n<table border=\"1\" class=\"dataframe\">\n  <thead>\n    <tr style=\"text-align: right;\">\n      <th></th>\n      <th>Timestamp</th>\n      <th>roll</th>\n      <th>pitch</th>\n      <th>yaw</th>\n      <th>Label</th>\n    </tr>\n  </thead>\n  <tbody>\n    <tr>\n      <th>0</th>\n      <td>1.676641e+18</td>\n      <td>-0.123631</td>\n      <td>-0.341519</td>\n      <td>-1.295010</td>\n      <td>transition</td>\n    </tr>\n    <tr>\n      <th>1</th>\n      <td>1.676641e+18</td>\n      <td>-0.114268</td>\n      <td>-0.344321</td>\n      <td>-1.306007</td>\n      <td>transition</td>\n    </tr>\n    <tr>\n      <th>2</th>\n      <td>1.676641e+18</td>\n      <td>-0.105638</td>\n      <td>-0.346640</td>\n      <td>-1.318059</td>\n      <td>transition</td>\n    </tr>\n    <tr>\n      <th>3</th>\n      <td>1.676641e+18</td>\n      <td>-0.097399</td>\n      <td>-0.349128</td>\n      <td>-1.328611</td>\n      <td>transition</td>\n    </tr>\n    <tr>\n      <th>4</th>\n      <td>1.676641e+18</td>\n      <td>-0.089122</td>\n      <td>-0.352172</td>\n      <td>-1.335578</td>\n      <td>transition</td>\n    </tr>\n    <tr>\n      <th>...</th>\n      <td>...</td>\n      <td>...</td>\n      <td>...</td>\n      <td>...</td>\n      <td>...</td>\n    </tr>\n    <tr>\n      <th>72830</th>\n      <td>1.676641e+18</td>\n      <td>-0.053430</td>\n      <td>-0.052853</td>\n      <td>0.075364</td>\n      <td>NaN</td>\n    </tr>\n    <tr>\n      <th>72831</th>\n      <td>1.676641e+18</td>\n      <td>-0.057752</td>\n      <td>-0.050750</td>\n      <td>0.077476</td>\n      <td>NaN</td>\n    </tr>\n    <tr>\n      <th>72832</th>\n      <td>1.676641e+18</td>\n      <td>-0.060430</td>\n      <td>-0.047536</td>\n      <td>0.079600</td>\n      <td>NaN</td>\n    </tr>\n    <tr>\n      <th>72833</th>\n      <td>1.676641e+18</td>\n      <td>-0.060757</td>\n      <td>-0.043781</td>\n      <td>0.081084</td>\n      <td>NaN</td>\n    </tr>\n    <tr>\n      <th>72834</th>\n      <td>1.676641e+18</td>\n      <td>-0.059347</td>\n      <td>-0.039936</td>\n      <td>0.081757</td>\n      <td>NaN</td>\n    </tr>\n  </tbody>\n</table>\n<p>72835 rows × 5 columns</p>\n</div>"
     },
     "metadata": {},
     "output_type": "display_data"
    },
    {
     "data": {
      "text/plain": "        Timestamp    altitude  longitude   latitude       Label\n0    1.676641e+18  217.599991   9.478229  51.312045  transition\n1    1.676641e+18  217.599991   9.478230  51.312045  transition\n2    1.676641e+18  217.599991   9.478230  51.312044  transition\n3    1.676641e+18  217.599991   9.478230  51.312043  transition\n4    1.676641e+18  217.599991   9.478229  51.312041  transition\n..            ...         ...        ...        ...         ...\n967  1.676641e+18  216.099991   9.472815  51.311962  transition\n968  1.676641e+18  216.099991   9.472815  51.311961  transition\n969  1.676641e+18  216.099991   9.472816  51.311963  transition\n970  1.676641e+18         NaN        NaN        NaN  transition\n971  1.676641e+18  216.099991   9.472817  51.311964         NaN\n\n[972 rows x 5 columns]",
      "text/html": "<div>\n<style scoped>\n    .dataframe tbody tr th:only-of-type {\n        vertical-align: middle;\n    }\n\n    .dataframe tbody tr th {\n        vertical-align: top;\n    }\n\n    .dataframe thead th {\n        text-align: right;\n    }\n</style>\n<table border=\"1\" class=\"dataframe\">\n  <thead>\n    <tr style=\"text-align: right;\">\n      <th></th>\n      <th>Timestamp</th>\n      <th>altitude</th>\n      <th>longitude</th>\n      <th>latitude</th>\n      <th>Label</th>\n    </tr>\n  </thead>\n  <tbody>\n    <tr>\n      <th>0</th>\n      <td>1.676641e+18</td>\n      <td>217.599991</td>\n      <td>9.478229</td>\n      <td>51.312045</td>\n      <td>transition</td>\n    </tr>\n    <tr>\n      <th>1</th>\n      <td>1.676641e+18</td>\n      <td>217.599991</td>\n      <td>9.478230</td>\n      <td>51.312045</td>\n      <td>transition</td>\n    </tr>\n    <tr>\n      <th>2</th>\n      <td>1.676641e+18</td>\n      <td>217.599991</td>\n      <td>9.478230</td>\n      <td>51.312044</td>\n      <td>transition</td>\n    </tr>\n    <tr>\n      <th>3</th>\n      <td>1.676641e+18</td>\n      <td>217.599991</td>\n      <td>9.478230</td>\n      <td>51.312043</td>\n      <td>transition</td>\n    </tr>\n    <tr>\n      <th>4</th>\n      <td>1.676641e+18</td>\n      <td>217.599991</td>\n      <td>9.478229</td>\n      <td>51.312041</td>\n      <td>transition</td>\n    </tr>\n    <tr>\n      <th>...</th>\n      <td>...</td>\n      <td>...</td>\n      <td>...</td>\n      <td>...</td>\n      <td>...</td>\n    </tr>\n    <tr>\n      <th>967</th>\n      <td>1.676641e+18</td>\n      <td>216.099991</td>\n      <td>9.472815</td>\n      <td>51.311962</td>\n      <td>transition</td>\n    </tr>\n    <tr>\n      <th>968</th>\n      <td>1.676641e+18</td>\n      <td>216.099991</td>\n      <td>9.472815</td>\n      <td>51.311961</td>\n      <td>transition</td>\n    </tr>\n    <tr>\n      <th>969</th>\n      <td>1.676641e+18</td>\n      <td>216.099991</td>\n      <td>9.472816</td>\n      <td>51.311963</td>\n      <td>transition</td>\n    </tr>\n    <tr>\n      <th>970</th>\n      <td>1.676641e+18</td>\n      <td>NaN</td>\n      <td>NaN</td>\n      <td>NaN</td>\n      <td>transition</td>\n    </tr>\n    <tr>\n      <th>971</th>\n      <td>1.676641e+18</td>\n      <td>216.099991</td>\n      <td>9.472817</td>\n      <td>51.311964</td>\n      <td>NaN</td>\n    </tr>\n  </tbody>\n</table>\n<p>972 rows × 5 columns</p>\n</div>"
     },
     "metadata": {},
     "output_type": "display_data"
    }
   ],
   "source": [
    "middle_filepath = './Data/middle/'\n",
    "sensors = ['Orientation', 'Light', 'Accelerometer','Gyroscope','Magnetometer', 'Orientation', 'Location']\n",
    "# 'Light', 'Accelerometer','Gyroscope','Magnetometer', 'Orientation', 'Location'\n",
    "participantlist = []\n",
    "\n",
    "for sensor in sensors:\n",
    "    # run through all participants here\n",
    "    for participant_filepath in glob.iglob(middle_filepath + \"8/\", recursive=True):\n",
    "        components = os.path.normpath(participant_filepath)\n",
    "        components = components.split(os.path.sep)\n",
    "        participant = components[-1]\n",
    "        try:\n",
    "            labels = pd.read_csv('{}labels.csv'.format(participant_filepath))\n",
    "        except EmptyDataError:\n",
    "            labels = pd.DataFrame()\n",
    "        # annotation['time'] = annotation['time'].astype('float64')\n",
    "        sen = pd.read_csv(participant_filepath + sensor + \".csv\")\n",
    "        # e4_data['time'] = e4_data['time'].astype('float64')\n",
    "        participant_filepath_output = output_filepath + participant + '/'\n",
    "        if not os.path.exists(participant_filepath_output):\n",
    "            os.makedirs(participant_filepath_output)\n",
    "        merged = pd.merge_ordered(sen, labels, on=[\"Timestamp\"])\n",
    "        # display(merged)\n",
    "        merged.Label.bfill(inplace=True)\n",
    "        display(merged)\n",
    "        merged.to_csv(participant_filepath_output + sensor + \"_annotated.csv\", index=False)"
   ],
   "metadata": {
    "collapsed": false
   }
  },
  {
   "cell_type": "code",
   "execution_count": null,
   "outputs": [],
   "source": [],
   "metadata": {
    "collapsed": false
   }
  }
 ],
 "metadata": {
  "kernelspec": {
   "display_name": "Python 3",
   "language": "python",
   "name": "python3"
  },
  "language_info": {
   "codemirror_mode": {
    "name": "ipython",
    "version": 2
   },
   "file_extension": ".py",
   "mimetype": "text/x-python",
   "name": "python",
   "nbconvert_exporter": "python",
   "pygments_lexer": "ipython2",
   "version": "2.7.6"
  }
 },
 "nbformat": 4,
 "nbformat_minor": 0
}
