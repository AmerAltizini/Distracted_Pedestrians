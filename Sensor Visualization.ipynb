{
 "cells": [
  {
   "cell_type": "markdown",
   "source": [
    "***\n",
    "### Sensor data visualization for all participants\n",
    "Per Scenario\n",
    "***"
   ],
   "metadata": {
    "collapsed": false
   }
  },
  {
   "cell_type": "code",
   "execution_count": 15,
   "outputs": [],
   "source": [
    "import matplotlib\n",
    "import pandas as pd\n",
    "import matplotlib.pyplot as plt\n",
    "import numpy as np\n",
    "import seaborn as sns\n",
    "import os\n",
    "import glob\n",
    "from matplotlib.lines import Line2D\n",
    "from os.path import exists\n",
    "from functions import show_values\n",
    "\n",
    "import functions"
   ],
   "metadata": {
    "collapsed": false
   }
  },
  {
   "cell_type": "code",
   "execution_count": 16,
   "outputs": [
    {
     "data": {
      "text/plain": "                     time  seconds_elapsed_x     ACC_Z     ACC_Y     ACC_X  \\\n0     1670358941526095000           0.237095 -0.051105 -0.008579  0.004120   \n1     1670358941536018400           0.247018 -0.039528  0.005057  0.005821   \n2     1670358941545941800           0.256942 -0.038113  0.017600  0.022669   \n3     1670358941555864800           0.266865 -0.030545  0.011678  0.020639   \n4     1670358941565788200           0.276788 -0.034830  0.006293  0.019006   \n...                   ...                ...       ...       ...       ...   \n2928  1670358970551983000          29.262983  0.024566 -0.003135 -0.007701   \n2929  1670358970561906400          29.272906  0.002955 -0.010218 -0.000554   \n2930  1670358970571829800          29.282830  0.000550 -0.010013 -0.002948   \n2931  1670358970581753300          29.292753 -0.006525 -0.019336 -0.000592   \n2932  1670358970591676700          29.302677  0.007717 -0.026046  0.008792   \n\n      seconds_elapsed_y    GYRO_Z    GYRO_Y    GYRO_X  seconds_elapsed text  \n0              0.237095 -0.001198 -0.001598  0.000666              NaN  NaN  \n1              0.247018 -0.000133 -0.000533  0.001731              NaN  NaN  \n2              0.256942 -0.000133 -0.000533  0.000666              NaN  NaN  \n3              0.266865 -0.001198 -0.001598  0.000666              NaN  NaN  \n4              0.276788 -0.001198 -0.000533  0.000666              NaN  NaN  \n...                 ...       ...       ...       ...              ...  ...  \n2928          29.262983 -0.001198 -0.000533  0.000666              NaN  Yyy  \n2929          29.272906 -0.001198 -0.000533  0.000666              NaN  Yyy  \n2930          29.282830 -0.001198 -0.000533 -0.000399              NaN  Yyy  \n2931          29.292753 -0.001198 -0.000533  0.000666              NaN  Yyy  \n2932          29.302677 -0.001198 -0.000533 -0.000399              NaN  Yyy  \n\n[2933 rows x 11 columns]",
      "text/html": "<div>\n<style scoped>\n    .dataframe tbody tr th:only-of-type {\n        vertical-align: middle;\n    }\n\n    .dataframe tbody tr th {\n        vertical-align: top;\n    }\n\n    .dataframe thead th {\n        text-align: right;\n    }\n</style>\n<table border=\"1\" class=\"dataframe\">\n  <thead>\n    <tr style=\"text-align: right;\">\n      <th></th>\n      <th>time</th>\n      <th>seconds_elapsed_x</th>\n      <th>ACC_Z</th>\n      <th>ACC_Y</th>\n      <th>ACC_X</th>\n      <th>seconds_elapsed_y</th>\n      <th>GYRO_Z</th>\n      <th>GYRO_Y</th>\n      <th>GYRO_X</th>\n      <th>seconds_elapsed</th>\n      <th>text</th>\n    </tr>\n  </thead>\n  <tbody>\n    <tr>\n      <th>0</th>\n      <td>1670358941526095000</td>\n      <td>0.237095</td>\n      <td>-0.051105</td>\n      <td>-0.008579</td>\n      <td>0.004120</td>\n      <td>0.237095</td>\n      <td>-0.001198</td>\n      <td>-0.001598</td>\n      <td>0.000666</td>\n      <td>NaN</td>\n      <td>NaN</td>\n    </tr>\n    <tr>\n      <th>1</th>\n      <td>1670358941536018400</td>\n      <td>0.247018</td>\n      <td>-0.039528</td>\n      <td>0.005057</td>\n      <td>0.005821</td>\n      <td>0.247018</td>\n      <td>-0.000133</td>\n      <td>-0.000533</td>\n      <td>0.001731</td>\n      <td>NaN</td>\n      <td>NaN</td>\n    </tr>\n    <tr>\n      <th>2</th>\n      <td>1670358941545941800</td>\n      <td>0.256942</td>\n      <td>-0.038113</td>\n      <td>0.017600</td>\n      <td>0.022669</td>\n      <td>0.256942</td>\n      <td>-0.000133</td>\n      <td>-0.000533</td>\n      <td>0.000666</td>\n      <td>NaN</td>\n      <td>NaN</td>\n    </tr>\n    <tr>\n      <th>3</th>\n      <td>1670358941555864800</td>\n      <td>0.266865</td>\n      <td>-0.030545</td>\n      <td>0.011678</td>\n      <td>0.020639</td>\n      <td>0.266865</td>\n      <td>-0.001198</td>\n      <td>-0.001598</td>\n      <td>0.000666</td>\n      <td>NaN</td>\n      <td>NaN</td>\n    </tr>\n    <tr>\n      <th>4</th>\n      <td>1670358941565788200</td>\n      <td>0.276788</td>\n      <td>-0.034830</td>\n      <td>0.006293</td>\n      <td>0.019006</td>\n      <td>0.276788</td>\n      <td>-0.001198</td>\n      <td>-0.000533</td>\n      <td>0.000666</td>\n      <td>NaN</td>\n      <td>NaN</td>\n    </tr>\n    <tr>\n      <th>...</th>\n      <td>...</td>\n      <td>...</td>\n      <td>...</td>\n      <td>...</td>\n      <td>...</td>\n      <td>...</td>\n      <td>...</td>\n      <td>...</td>\n      <td>...</td>\n      <td>...</td>\n      <td>...</td>\n    </tr>\n    <tr>\n      <th>2928</th>\n      <td>1670358970551983000</td>\n      <td>29.262983</td>\n      <td>0.024566</td>\n      <td>-0.003135</td>\n      <td>-0.007701</td>\n      <td>29.262983</td>\n      <td>-0.001198</td>\n      <td>-0.000533</td>\n      <td>0.000666</td>\n      <td>NaN</td>\n      <td>Yyy</td>\n    </tr>\n    <tr>\n      <th>2929</th>\n      <td>1670358970561906400</td>\n      <td>29.272906</td>\n      <td>0.002955</td>\n      <td>-0.010218</td>\n      <td>-0.000554</td>\n      <td>29.272906</td>\n      <td>-0.001198</td>\n      <td>-0.000533</td>\n      <td>0.000666</td>\n      <td>NaN</td>\n      <td>Yyy</td>\n    </tr>\n    <tr>\n      <th>2930</th>\n      <td>1670358970571829800</td>\n      <td>29.282830</td>\n      <td>0.000550</td>\n      <td>-0.010013</td>\n      <td>-0.002948</td>\n      <td>29.282830</td>\n      <td>-0.001198</td>\n      <td>-0.000533</td>\n      <td>-0.000399</td>\n      <td>NaN</td>\n      <td>Yyy</td>\n    </tr>\n    <tr>\n      <th>2931</th>\n      <td>1670358970581753300</td>\n      <td>29.292753</td>\n      <td>-0.006525</td>\n      <td>-0.019336</td>\n      <td>-0.000592</td>\n      <td>29.292753</td>\n      <td>-0.001198</td>\n      <td>-0.000533</td>\n      <td>0.000666</td>\n      <td>NaN</td>\n      <td>Yyy</td>\n    </tr>\n    <tr>\n      <th>2932</th>\n      <td>1670358970591676700</td>\n      <td>29.302677</td>\n      <td>0.007717</td>\n      <td>-0.026046</td>\n      <td>0.008792</td>\n      <td>29.302677</td>\n      <td>-0.001198</td>\n      <td>-0.000533</td>\n      <td>-0.000399</td>\n      <td>NaN</td>\n      <td>Yyy</td>\n    </tr>\n  </tbody>\n</table>\n<p>2933 rows × 11 columns</p>\n</div>"
     },
     "execution_count": 16,
     "metadata": {},
     "output_type": "execute_result"
    }
   ],
   "source": [
    "df = pd.read_csv('./Data/output\\\\2022-12-06_20-35-41/ACC_GYRO_annot.csv')\n",
    "df"
   ],
   "metadata": {
    "collapsed": false
   }
  },
  {
   "cell_type": "code",
   "execution_count": 17,
   "outputs": [
    {
     "data": {
      "text/plain": "<Figure size 432x288 with 1 Axes>",
      "image/png": "[encoded data removed]"
     },
     "metadata": {},
     "output_type": "display_data"
    }
   ],
   "source": [
    "ax = sns.countplot(x=\"text\", data=df, palette=\"husl\", order=df['text'].value_counts().index)\n",
    "show_values(ax)"
   ],
   "metadata": {
    "collapsed": false
   }
  },
  {
   "cell_type": "code",
   "execution_count": null,
   "outputs": [],
   "source": [],
   "metadata": {
    "collapsed": false,
    "pycharm": {
     "is_executing": true
    }
   }
  },
  {
   "cell_type": "code",
   "execution_count": 17,
   "outputs": [],
   "source": [],
   "metadata": {
    "collapsed": false
   }
  }
 ],
 "metadata": {
  "kernelspec": {
   "display_name": "Python 3",
   "language": "python",
   "name": "python3"
  },
  "language_info": {
   "codemirror_mode": {
    "name": "ipython",
    "version": 2
   },
   "file_extension": ".py",
   "mimetype": "text/x-python",
   "name": "python",
   "nbconvert_exporter": "python",
   "pygments_lexer": "ipython2",
   "version": "2.7.6"
  }
 },
 "nbformat": 4,
 "nbformat_minor": 0
}
