{
 "cells": [
  {
   "cell_type": "markdown",
   "source": [
    "***\n",
    "### Sensor data visualization for all participants\n",
    "Per Scenario\n",
    "***"
   ],
   "metadata": {
    "collapsed": false
   }
  },
  {
   "cell_type": "code",
   "execution_count": null,
   "outputs": [],
   "source": [
    "import matplotlib\n",
    "import pandas as pd\n",
    "import matplotlib.pyplot as plt\n",
    "import numpy as np\n",
    "import seaborn as sns\n",
    "import os\n",
    "import glob\n",
    "from matplotlib.lines import Line2D\n",
    "from os.path import exists\n",
    "from functions import show_values\n",
    "\n",
    "import functions\n",
    "# Increase image size\n",
    "matplotlib.rcParams['figure.figsize'] = [40, 10]\n",
    "# Increase font size\n",
    "matplotlib.rcParams['font.size'] = 40\n",
    "# Path\n",
    "path_viz = './Visualization/'"
   ],
   "metadata": {
    "collapsed": false
   }
  },
  {
   "cell_type": "code",
   "execution_count": null,
   "outputs": [],
   "source": [
    "df = pd.read_csv('./Data/output\\\\amer2/Accelerometer_annotated.csv')\n",
    "df"
   ],
   "metadata": {
    "collapsed": false
   }
  },
  {
   "cell_type": "code",
   "execution_count": null,
   "outputs": [],
   "source": [
    "ax = sns.countplot(x=\"text\", data=df, palette=\"husl\", order=df['text'].value_counts().index)\n",
    "show_values(ax)"
   ],
   "metadata": {
    "collapsed": false
   }
  },
  {
   "cell_type": "code",
   "execution_count": null,
   "outputs": [],
   "source": [
    "filepath_sensors = './Data/input/'\n",
    "sensors = ['Accelerometer','Gyroscope','Magnetometer', 'Light']\n",
    "\n",
    "standing_data = pd.DataFrame()\n",
    "walking_data = pd.DataFrame()\n",
    "w_texting_data = pd.DataFrame()\n",
    "s_texting_data = pd.DataFrame()\n",
    "w_telephoning_data = pd.DataFrame()\n",
    "s_telephoning_data = pd.DataFrame()\n",
    "transition_data = pd.DataFrame()\n",
    "\n",
    "participantlist = []\n",
    "\n",
    "for sensor in sensors:\n",
    "    # run through all participants here\n",
    "    for participant_filepath in glob.iglob(filepath_sensors + \"*/\", recursive=True):\n",
    "        components = os.path.normpath(participant_filepath)\n",
    "        components = components.split(os.path.sep)\n",
    "        participant = components[-1]\n",
    "\n",
    "        # read in labels\n",
    "        Annotation = pd.read_csv('{}Annotation.csv'.format(participant_filepath))\n",
    "        Annotation['time'] = Annotation['time'].astype('float64')\n",
    "        Annotation.set_index('time', inplace=True)\n",
    "\n",
    "        e4_data = pd.read_csv(participant_filepath + sensor + \".csv\")\n",
    "        e4_data['time'] = e4_data['time'].astype('float64')\n",
    "        # use only E4 data needed\n",
    "        if e4_data.empty:\n",
    "            continue\n",
    "        e4_data = pd.merge_ordered(e4_data,Annotation,on=\"time\")\n",
    "        e4_data.text.ffill(inplace=True)\n",
    "        e4_data['participant'] = participant\n",
    "        participantlist = np.append(participantlist,participant)\n",
    "        standing=e4_data.loc[e4_data['text'] == 'standing']\n",
    "        walking=e4_data.loc[e4_data['text'] == 'walking']\n",
    "        w_texting=e4_data.loc[e4_data['text'] == 'w_texting']\n",
    "        s_texting=e4_data.loc[e4_data['text'] == 's_texting']\n",
    "        w_telephoning=e4_data.loc[e4_data['text'] == 'w_telephoning']\n",
    "        s_telephoning=e4_data.loc[e4_data['text'] == 's_telephoning']\n",
    "        transition=e4_data.loc[e4_data['text'] == 'transition']\n",
    "\n",
    "        standing['Timing'] = np.arange(standing.shape[0])\n",
    "        walking['Timing'] = np.arange(walking.shape[0])\n",
    "        w_texting['Timing'] = np.arange(w_texting.shape[0])\n",
    "        s_texting['Timing'] = np.arange(s_texting.shape[0])\n",
    "        w_telephoning['Timing'] = np.arange(w_telephoning.shape[0])\n",
    "        s_telephoning['Timing'] = np.arange(s_telephoning.shape[0])\n",
    "        transition['Timing'] = np.arange(transition.shape[0])\n",
    "\n",
    "        standing_data = pd.concat([standing_data, standing], ignore_index=True)\n",
    "        walking_data = pd.concat([walking_data, walking], ignore_index=True)\n",
    "        w_texting_data = pd.concat([w_texting_data, w_texting], ignore_index=True)\n",
    "        s_texting_data = pd.concat([s_texting_data, s_texting], ignore_index=True)\n",
    "        w_telephoning_data = pd.concat([w_telephoning_data, w_telephoning], ignore_index=True)\n",
    "        s_telephoning_data = pd.concat([s_telephoning_data, s_telephoning], ignore_index=True)\n",
    "        transition_data = pd.concat([transition_data, transition], ignore_index=True)\n",
    "\n",
    "        standing_data.to_csv(\"./data/sensor_visualization/\" + sensor + \"_standing_all.csv\", index=False)\n",
    "        walking_data.to_csv(\"./data/sensor_visualization/\" + sensor + \"_walking_all.csv\", index=False)\n",
    "        w_texting_data.to_csv(\"./data/sensor_visualization/\" + sensor + \"_w_texting_all.csv\", index=False)\n",
    "        s_texting_data.to_csv(\"./data/sensor_visualization/\" + sensor + \"_s_texting_all.csv\", index=False)\n",
    "        w_telephoning_data.to_csv(\"./data/sensor_visualization/\" + sensor + \"_w_telephoning_all.csv\", index=False)\n",
    "        s_telephoning_data.to_csv(\"./data/sensor_visualization/\" + sensor + \"_s_telephoning_all.csv\", index=False)\n",
    "        transition_data.to_csv(\"./data/sensor_visualization/\" + sensor + \"_transition_all.csv\", index=False)"
   ],
   "metadata": {
    "collapsed": false
   }
  },
  {
   "cell_type": "code",
   "execution_count": null,
   "outputs": [],
   "source": [
    "# Accelerometer Import\n",
    "standing_data = pd.read_csv(\"./data/sensor_visualization/Accelerometer_standing_all.csv\")\n",
    "walking_data = pd.read_csv(\"./data/sensor_visualization/Accelerometer_walking_all.csv\")\n",
    "w_texting_data = pd.read_csv(\"./data/sensor_visualization/Accelerometer_w_texting_all.csv\")\n",
    "s_texting_data = pd.read_csv(\"./data/sensor_visualization/Accelerometer_s_texting_all.csv\")\n",
    "w_telephoning_data = pd.read_csv(\"./data/sensor_visualization/Accelerometer_w_telephoning_all.csv\")\n",
    "s_telephoning_data = pd.read_csv(\"./data/sensor_visualization/Accelerometer_s_telephoning_all.csv\")\n",
    "transition_data = pd.read_csv(\"./data/sensor_visualization/Accelerometer_transition_all.csv\")"
   ],
   "metadata": {
    "collapsed": false
   }
  },
  {
   "cell_type": "code",
   "execution_count": null,
   "outputs": [],
   "source": [
    "# using loc\n",
    "x = walking_data.loc[:, ['x','Timing', 'text']]\n",
    "x = x[(x['Timing'] >= 0) & (x['Timing'] <= 200)]\n",
    "x.loc[:,'text'] = 'x'\n",
    "y = walking_data.loc[:, ['y','Timing', 'text']]\n",
    "y = y[(y['Timing'] >= 0) & (y['Timing'] <= 200)]\n",
    "y.loc[:,'text'] = 'y'\n",
    "y = y.rename(columns={'y': 'x'})\n",
    "z = walking_data.loc[:, ['z','Timing', 'text']]\n",
    "z = z[(z['Timing'] >= 0) & (z['Timing'] <= 200)]\n",
    "z.loc[:,'text'] = 'z'\n",
    "z = z.rename(columns={'z': 'x'})\n",
    "df = pd.concat([x, y, z], ignore_index=True)\n",
    "ax = sns.lineplot(x=\"Timing\", y=\"x\", hue=\"text\", data=df).set(title=\"walking\", ylabel=\"3-axes ACC (m/s^2)\")\n",
    "plt.savefig(path_viz + 'walking ACC.png',bbox_inches='tight')"
   ],
   "metadata": {
    "collapsed": false
   }
  },
  {
   "cell_type": "code",
   "execution_count": null,
   "outputs": [],
   "source": [
    "# using loc\n",
    "x = standing_data.loc[:, ['x','Timing', 'text']]\n",
    "x = x[(x['Timing'] >= 0) & (x['Timing'] <= 200)]\n",
    "x.loc[:,'text'] = 'x'\n",
    "y = standing_data.loc[:, ['y','Timing', 'text']]\n",
    "y = y[(y['Timing'] >= 0) & (y['Timing'] <= 200)]\n",
    "y.loc[:,'text'] = 'y'\n",
    "y = y.rename(columns={'y': 'x'})\n",
    "z = standing_data.loc[:, ['z','Timing', 'text']]\n",
    "z = z[(z['Timing'] >= 0) & (z['Timing'] <= 200)]\n",
    "z.loc[:,'text'] = 'z'\n",
    "z = z.rename(columns={'z': 'x'})\n",
    "df = pd.concat([x, y, z], ignore_index=True)\n",
    "sns.lineplot(x=\"Timing\", y=\"x\", hue=\"text\", data=df).set(title=\"standing_data\", ylabel=\"3-axes ACC (m/s^2)\")\n",
    "plt.savefig(path_viz + 'standing ACC.png',bbox_inches='tight')"
   ],
   "metadata": {
    "collapsed": false
   }
  },
  {
   "cell_type": "code",
   "execution_count": null,
   "outputs": [],
   "source": [
    "# using loc\n",
    "x = w_texting_data.loc[:, ['x','Timing', 'text']]\n",
    "x = x[(x['Timing'] >= 100) & (x['Timing'] <= 300)]\n",
    "x.loc[:,'text'] = 'x'\n",
    "y = w_texting_data.loc[:, ['y','Timing', 'text']]\n",
    "y = y[(y['Timing'] >= 100) & (y['Timing'] <= 300)]\n",
    "y.loc[:,'text'] = 'y'\n",
    "y = y.rename(columns={'y': 'x'})\n",
    "z = w_texting_data.loc[:, ['z','Timing', 'text']]\n",
    "z = z[(z['Timing'] >= 100) & (z['Timing'] <= 300)]\n",
    "z.loc[:,'text'] = 'z'\n",
    "z = z.rename(columns={'z': 'x'})\n",
    "df = pd.concat([x, y, z], ignore_index=True)\n",
    "sns.lineplot(x=\"Timing\", y=\"x\", hue=\"text\", data=df).set(title=\"w_texting_data\", ylabel=\"3-axes ACC (m/s^2)\")\n",
    "plt.savefig(path_viz + 'w_text ACC.png',bbox_inches='tight')"
   ],
   "metadata": {
    "collapsed": false
   }
  },
  {
   "cell_type": "code",
   "execution_count": null,
   "outputs": [],
   "source": [
    "# using loc\n",
    "x = s_texting_data.loc[:, ['x','Timing', 'text']]\n",
    "x = x[(x['Timing'] >= 100) & (x['Timing'] <= 300)]\n",
    "x.loc[:,'text'] = 'x'\n",
    "y = s_texting_data.loc[:, ['y','Timing', 'text']]\n",
    "y = y[(y['Timing'] >= 100) & (y['Timing'] <= 300)]\n",
    "y.loc[:,'text'] = 'y'\n",
    "y = y.rename(columns={'y': 'x'})\n",
    "z = s_texting_data.loc[:, ['z','Timing', 'text']]\n",
    "z = z[(z['Timing'] >= 100) & (z['Timing'] <= 300)]\n",
    "z.loc[:,'text'] = 'z'\n",
    "z = z.rename(columns={'z': 'x'})\n",
    "df = pd.concat([x, y, z], ignore_index=True)\n",
    "sns.lineplot(x=\"Timing\", y=\"x\", hue=\"text\", data=df).set(title=\"s_texting_data\", ylabel=\"3-axes ACC (m/s^2)\")\n",
    "plt.savefig(path_viz + 's_text ACC.png',bbox_inches='tight')"
   ],
   "metadata": {
    "collapsed": false
   }
  },
  {
   "cell_type": "code",
   "execution_count": null,
   "outputs": [],
   "source": [
    "# using loc\n",
    "x = s_telephoning_data.loc[:, ['x','Timing', 'text']]\n",
    "x = x[(x['Timing'] >= 100) & (x['Timing'] <= 300)]\n",
    "x.loc[:,'text'] = 'x'\n",
    "y = s_telephoning_data.loc[:, ['y','Timing', 'text']]\n",
    "y = y[(y['Timing'] >= 100) & (y['Timing'] <= 300)]\n",
    "y.loc[:,'text'] = 'y'\n",
    "y = y.rename(columns={'y': 'x'})\n",
    "z = s_telephoning_data.loc[:, ['z','Timing', 'text']]\n",
    "z = z[(z['Timing'] >= 100) & (z['Timing'] <= 300)]\n",
    "z.loc[:,'text'] = 'z'\n",
    "z = z.rename(columns={'z': 'x'})\n",
    "df = pd.concat([x, y, z], ignore_index=True)\n",
    "sns.lineplot(x=\"Timing\", y=\"x\", hue=\"text\", data=df).set(title=\"s_telephoning_data\", ylabel=\"3-axes ACC (m/s^2)\")\n",
    "plt.savefig(path_viz + 's_telephon ACC.png',bbox_inches='tight')"
   ],
   "metadata": {
    "collapsed": false
   }
  },
  {
   "cell_type": "code",
   "execution_count": null,
   "outputs": [],
   "source": [
    "# using loc\n",
    "x = w_telephoning_data.loc[:, ['x','Timing', 'text']]\n",
    "x = x[(x['Timing'] >= 100) & (x['Timing'] <= 300)]\n",
    "x.loc[:,'text'] = 'x'\n",
    "y = w_telephoning_data.loc[:, ['y','Timing', 'text']]\n",
    "y = y[(y['Timing'] >= 100) & (y['Timing'] <= 300)]\n",
    "y.loc[:,'text'] = 'y'\n",
    "y = y.rename(columns={'y': 'x'})\n",
    "z = w_telephoning_data.loc[:, ['z','Timing', 'text']]\n",
    "z = z[(z['Timing'] >= 100) & (z['Timing'] <= 300)]\n",
    "z.loc[:,'text'] = 'z'\n",
    "z = z.rename(columns={'z': 'x'})\n",
    "df = pd.concat([x, y, z], ignore_index=True)\n",
    "sns.lineplot(x=\"Timing\", y=\"x\", hue=\"text\", data=df).set(title=\"w_telephoning_data\", ylabel=\"3-axes ACC (m/s^2)\")\n",
    "plt.savefig(path_viz + 'w_telephon ACC.png',bbox_inches='tight')"
   ],
   "metadata": {
    "collapsed": false
   }
  },
  {
   "cell_type": "code",
   "execution_count": null,
   "outputs": [],
   "source": [
    "# using loc\n",
    "x = transition_data.loc[:, ['x', 'Timing', 'text']]\n",
    "x = x[(x['Timing'] >= 0) & (x['Timing'] <= 300)]\n",
    "x.loc[:, 'text'] = 'x'\n",
    "y = transition_data.loc[:, ['y', 'Timing', 'text']]\n",
    "y = y[(y['Timing'] >= 0) & (y['Timing'] <= 300)]\n",
    "y.loc[:, 'text'] = 'y'\n",
    "y = y.rename(columns={'y': 'x'})\n",
    "z = transition_data.loc[:, ['z', 'Timing', 'text']]\n",
    "z = z[(z['Timing'] >= 0) & (z['Timing'] <= 300)]\n",
    "z.loc[:, 'text'] = 'z'\n",
    "z = z.rename(columns={'z': 'x'})\n",
    "df = pd.concat([x, y, z], ignore_index=True)\n",
    "sns.lineplot(x=\"Timing\", y=\"x\", hue=\"text\", data=df).set(title=\"transition_data\", ylabel=\"3-axes ACC (m/s^2)\")\n",
    "plt.savefig(path_viz + 'transition ACC.png',bbox_inches='tight')"
   ],
   "metadata": {
    "collapsed": false
   }
  },
  {
   "cell_type": "markdown",
   "source": [
    "### Gyroscope"
   ],
   "metadata": {
    "collapsed": false
   }
  },
  {
   "cell_type": "code",
   "execution_count": null,
   "outputs": [],
   "source": [
    "# Gyroscope Import\n",
    "standing_data = pd.read_csv(\"./data/sensor_visualization/Gyroscope_standing_all.csv\")\n",
    "walking_data = pd.read_csv(\"./data/sensor_visualization/Gyroscope_walking_all.csv\")\n",
    "w_texting_data = pd.read_csv(\"./data/sensor_visualization/Gyroscope_w_texting_all.csv\")\n",
    "s_texting_data = pd.read_csv(\"./data/sensor_visualization/Gyroscope_s_texting_all.csv\")\n",
    "w_telephoning_data = pd.read_csv(\"./data/sensor_visualization/Gyroscope_w_telephoning_all.csv\")\n",
    "s_telephoning_data = pd.read_csv(\"./data/sensor_visualization/Gyroscope_s_telephoning_all.csv\")\n",
    "transition_data = pd.read_csv(\"./data/sensor_visualization/Gyroscope_transition_all.csv\")"
   ],
   "metadata": {
    "collapsed": false
   }
  },
  {
   "cell_type": "code",
   "execution_count": null,
   "outputs": [],
   "source": [
    "# using loc\n",
    "x = walking_data.loc[:, ['x', 'Timing', 'text']]\n",
    "x = x[(x['Timing'] >= 0) & (x['Timing'] <= 200)]\n",
    "x.loc[:, 'text'] = 'x'\n",
    "y = walking_data.loc[:, ['y', 'Timing', 'text']]\n",
    "y = y[(y['Timing'] >= 0) & (y['Timing'] <= 200)]\n",
    "y.loc[:, 'text'] = 'y'\n",
    "y = y.rename(columns={'y': 'x'})\n",
    "z = walking_data.loc[:, ['z', 'Timing', 'text']]\n",
    "z = z[(z['Timing'] >= 0) & (z['Timing'] <= 200)]\n",
    "z.loc[:, 'text'] = 'z'\n",
    "z = z.rename(columns={'z': 'x'})\n",
    "df = pd.concat([x, y, z], ignore_index=True)\n",
    "sns.lineplot(x=\"Timing\", y=\"x\", hue=\"text\", data=df).set(title=\"walking\", ylabel=\"3-axes GYRO (rad/s)\")\n",
    "plt.savefig(path_viz + 'walking GYRO.png',bbox_inches='tight')"
   ],
   "metadata": {
    "collapsed": false
   }
  },
  {
   "cell_type": "code",
   "execution_count": null,
   "outputs": [],
   "source": [
    "# using loc\n",
    "x = standing_data.loc[:, ['x', 'Timing', 'text']]\n",
    "x = x[(x['Timing'] >= 0) & (x['Timing'] <= 200)]\n",
    "x.loc[:, 'text'] = 'x'\n",
    "y = standing_data.loc[:, ['y', 'Timing', 'text']]\n",
    "y = y[(y['Timing'] >= 0) & (y['Timing'] <= 200)]\n",
    "y.loc[:, 'text'] = 'y'\n",
    "y = y.rename(columns={'y': 'x'})\n",
    "z = standing_data.loc[:, ['z', 'Timing', 'text']]\n",
    "z = z[(z['Timing'] >= 0) & (z['Timing'] <= 200)]\n",
    "z.loc[:, 'text'] = 'z'\n",
    "z = z.rename(columns={'z': 'x'})\n",
    "df = pd.concat([x, y, z], ignore_index=True)\n",
    "sns.lineplot(x=\"Timing\", y=\"x\", hue=\"text\", data=df).set(title=\"standing_data\", ylabel=\"3-axes GYRO (rad/s)\")\n",
    "plt.savefig(path_viz + 'standing GYRO.png',bbox_inches='tight')"
   ],
   "metadata": {
    "collapsed": false
   }
  },
  {
   "cell_type": "code",
   "execution_count": null,
   "outputs": [],
   "source": [
    "# using loc\n",
    "x = w_texting_data.loc[:, ['x', 'Timing', 'text']]\n",
    "x = x[(x['Timing'] >= 100) & (x['Timing'] <= 300)]\n",
    "x.loc[:, 'text'] = 'x'\n",
    "y = w_texting_data.loc[:, ['y', 'Timing', 'text']]\n",
    "y = y[(y['Timing'] >= 100) & (y['Timing'] <= 300)]\n",
    "y.loc[:, 'text'] = 'y'\n",
    "y = y.rename(columns={'y': 'x'})\n",
    "z = w_texting_data.loc[:, ['z', 'Timing', 'text']]\n",
    "z = z[(z['Timing'] >= 100) & (z['Timing'] <= 300)]\n",
    "z.loc[:, 'text'] = 'z'\n",
    "z = z.rename(columns={'z': 'x'})\n",
    "df = pd.concat([x, y, z], ignore_index=True)\n",
    "sns.lineplot(x=\"Timing\", y=\"x\", hue=\"text\", data=df).set(title=\"w_texting_data\", ylabel=\"3-axes GYRO (rad/s)\")\n",
    "plt.savefig(path_viz + 'w_text GYRO.png',bbox_inches='tight')"
   ],
   "metadata": {
    "collapsed": false
   }
  },
  {
   "cell_type": "code",
   "execution_count": null,
   "outputs": [],
   "source": [
    "# using loc\n",
    "x = s_texting_data.loc[:, ['x', 'Timing', 'text']]\n",
    "x = x[(x['Timing'] >= 100) & (x['Timing'] <= 300)]\n",
    "x.loc[:, 'text'] = 'x'\n",
    "y = s_texting_data.loc[:, ['y', 'Timing', 'text']]\n",
    "y = y[(y['Timing'] >= 100) & (y['Timing'] <= 300)]\n",
    "y.loc[:, 'text'] = 'y'\n",
    "y = y.rename(columns={'y': 'x'})\n",
    "z = s_texting_data.loc[:, ['z', 'Timing', 'text']]\n",
    "z = z[(z['Timing'] >= 100) & (z['Timing'] <= 300)]\n",
    "z.loc[:, 'text'] = 'z'\n",
    "z = z.rename(columns={'z': 'x'})\n",
    "df = pd.concat([x, y, z], ignore_index=True)\n",
    "sns.lineplot(x=\"Timing\", y=\"x\", hue=\"text\", data=df).set(title=\"s_texting_data\", ylabel=\"3-axes GYRO (rad/s)\")\n",
    "plt.savefig(path_viz + 's_text GYRO.png',bbox_inches='tight')"
   ],
   "metadata": {
    "collapsed": false
   }
  },
  {
   "cell_type": "code",
   "execution_count": null,
   "outputs": [],
   "source": [
    "# using loc\n",
    "x = s_telephoning_data.loc[:, ['x', 'Timing', 'text']]\n",
    "x = x[(x['Timing'] >= 100) & (x['Timing'] <= 300)]\n",
    "x.loc[:, 'text'] = 'x'\n",
    "y = s_telephoning_data.loc[:, ['y', 'Timing', 'text']]\n",
    "y = y[(y['Timing'] >= 100) & (y['Timing'] <= 300)]\n",
    "y.loc[:, 'text'] = 'y'\n",
    "y = y.rename(columns={'y': 'x'})\n",
    "z = s_telephoning_data.loc[:, ['z', 'Timing', 'text']]\n",
    "z = z[(z['Timing'] >= 100) & (z['Timing'] <= 300)]\n",
    "z.loc[:, 'text'] = 'z'\n",
    "z = z.rename(columns={'z': 'x'})\n",
    "df = pd.concat([x, y, z], ignore_index=True)\n",
    "sns.lineplot(x=\"Timing\", y=\"x\", hue=\"text\", data=df).set(title=\"s_telephoning_data\", ylabel=\"3-axes GYRO (rad/s)\")\n",
    "plt.savefig(path_viz + 's_telephon GYRO.png',bbox_inches='tight')"
   ],
   "metadata": {
    "collapsed": false
   }
  },
  {
   "cell_type": "code",
   "execution_count": null,
   "outputs": [],
   "source": [
    "# using loc\n",
    "x = w_telephoning_data.loc[:, ['x', 'Timing', 'text']]\n",
    "x = x[(x['Timing'] >= 100) & (x['Timing'] <= 300)]\n",
    "x.loc[:, 'text'] = 'x'\n",
    "y = w_telephoning_data.loc[:, ['y', 'Timing', 'text']]\n",
    "y = y[(y['Timing'] >= 100) & (y['Timing'] <= 300)]\n",
    "y.loc[:, 'text'] = 'y'\n",
    "y = y.rename(columns={'y': 'x'})\n",
    "z = w_telephoning_data.loc[:, ['z', 'Timing', 'text']]\n",
    "z = z[(z['Timing'] >= 100) & (z['Timing'] <= 300)]\n",
    "z.loc[:, 'text'] = 'z'\n",
    "z = z.rename(columns={'z': 'x'})\n",
    "df = pd.concat([x, y, z], ignore_index=True)\n",
    "sns.lineplot(x=\"Timing\", y=\"x\", hue=\"text\", data=df).set(title=\"w_telephoning_data\", ylabel=\"3-axes GYRO (rad/s)\")\n",
    "plt.savefig(path_viz + 'w_telephon GYRO.png',bbox_inches='tight')"
   ],
   "metadata": {
    "collapsed": false
   }
  },
  {
   "cell_type": "code",
   "execution_count": null,
   "outputs": [],
   "source": [
    "# using loc\n",
    "x = transition_data.loc[:, ['x', 'Timing', 'text']]\n",
    "x = x[(x['Timing'] >= 0) & (x['Timing'] <= 300)]\n",
    "x.loc[:, 'text'] = 'x'\n",
    "y = transition_data.loc[:, ['y', 'Timing', 'text']]\n",
    "y = y[(y['Timing'] >= 0) & (y['Timing'] <= 300)]\n",
    "y.loc[:, 'text'] = 'y'\n",
    "y = y.rename(columns={'y': 'x'})\n",
    "z = transition_data.loc[:, ['z', 'Timing', 'text']]\n",
    "z = z[(z['Timing'] >= 0) & (z['Timing'] <= 300)]\n",
    "z.loc[:, 'text'] = 'z'\n",
    "z = z.rename(columns={'z': 'x'})\n",
    "df = pd.concat([x, y, z], ignore_index=True)\n",
    "sns.lineplot(x=\"Timing\", y=\"x\", hue=\"text\", data=df).set(title=\"transition_data\", ylabel=\"3-axes GYRO (rad/s)\")\n",
    "plt.savefig(path_viz + 'transition GYRO.png',bbox_inches='tight')"
   ],
   "metadata": {
    "collapsed": false
   }
  },
  {
   "cell_type": "markdown",
   "source": [
    "### Magnetometer"
   ],
   "metadata": {
    "collapsed": false
   }
  },
  {
   "cell_type": "code",
   "execution_count": null,
   "outputs": [],
   "source": [
    "# Magnetometer Import\n",
    "standing_data = pd.read_csv(\"./data/sensor_visualization/Magnetometer_standing_all.csv\")\n",
    "walking_data = pd.read_csv(\"./data/sensor_visualization/Magnetometer_walking_all.csv\")\n",
    "w_texting_data = pd.read_csv(\"./data/sensor_visualization/Magnetometer_w_texting_all.csv\")\n",
    "s_texting_data = pd.read_csv(\"./data/sensor_visualization/Magnetometer_s_texting_all.csv\")\n",
    "w_telephoning_data = pd.read_csv(\"./data/sensor_visualization/Magnetometer_w_telephoning_all.csv\")\n",
    "s_telephoning_data = pd.read_csv(\"./data/sensor_visualization/Magnetometer_s_telephoning_all.csv\")\n",
    "transition_data = pd.read_csv(\"./data/sensor_visualization/Magnetometer_transition_all.csv\")"
   ],
   "metadata": {
    "collapsed": false
   }
  },
  {
   "cell_type": "code",
   "execution_count": null,
   "outputs": [],
   "source": [
    "# using loc\n",
    "x = walking_data.loc[:, ['x', 'Timing', 'text']]\n",
    "x = x[(x['Timing'] >= 0) & (x['Timing'] <= 500)]\n",
    "x.loc[:, 'text'] = 'x'\n",
    "y = walking_data.loc[:, ['y', 'Timing', 'text']]\n",
    "y = y[(y['Timing'] >= 0) & (y['Timing'] <= 500)]\n",
    "y.loc[:, 'text'] = 'y'\n",
    "y = y.rename(columns={'y': 'x'})\n",
    "z = walking_data.loc[:, ['z', 'Timing', 'text']]\n",
    "z = z[(z['Timing'] >= 0) & (z['Timing'] <= 500)]\n",
    "z.loc[:, 'text'] = 'z'\n",
    "z = z.rename(columns={'z': 'x'})\n",
    "df = pd.concat([x, y, z], ignore_index=True)\n",
    "sns.lineplot(x=\"Timing\", y=\"x\", hue=\"text\", data=df).set(title=\"walking\", ylabel=\"3-axes MAGNO (uT)\")\n",
    "plt.savefig(path_viz + 'walking MAGNO.png',bbox_inches='tight')"
   ],
   "metadata": {
    "collapsed": false
   }
  },
  {
   "cell_type": "code",
   "execution_count": null,
   "outputs": [],
   "source": [
    "# using loc\n",
    "x = standing_data.loc[:, ['x', 'Timing', 'text']]\n",
    "x = x[(x['Timing'] >= 0) & (x['Timing'] <= 200)]\n",
    "x.loc[:, 'text'] = 'x'\n",
    "y = standing_data.loc[:, ['y', 'Timing', 'text']]\n",
    "y = y[(y['Timing'] >= 0) & (y['Timing'] <= 200)]\n",
    "y.loc[:, 'text'] = 'y'\n",
    "y = y.rename(columns={'y': 'x'})\n",
    "z = standing_data.loc[:, ['z', 'Timing', 'text']]\n",
    "z = z[(z['Timing'] >= 0) & (z['Timing'] <= 200)]\n",
    "z.loc[:, 'text'] = 'z'\n",
    "z = z.rename(columns={'z': 'x'})\n",
    "df = pd.concat([x, y, z], ignore_index=True)\n",
    "sns.lineplot(x=\"Timing\", y=\"x\", hue=\"text\", data=df).set(title=\"standing_data\", ylabel=\"3-axes MAGNO (uT)\")\n",
    "plt.savefig(path_viz + 'standing MAGNO.png',bbox_inches='tight')"
   ],
   "metadata": {
    "collapsed": false
   }
  },
  {
   "cell_type": "code",
   "execution_count": null,
   "outputs": [],
   "source": [
    "# using loc\n",
    "x = w_texting_data.loc[:, ['x', 'Timing', 'text']]\n",
    "x = x[(x['Timing'] >= 100) & (x['Timing'] <= 300)]\n",
    "x.loc[:, 'text'] = 'x'\n",
    "y = w_texting_data.loc[:, ['y', 'Timing', 'text']]\n",
    "y = y[(y['Timing'] >= 100) & (y['Timing'] <= 300)]\n",
    "y.loc[:, 'text'] = 'y'\n",
    "y = y.rename(columns={'y': 'x'})\n",
    "z = w_texting_data.loc[:, ['z', 'Timing', 'text']]\n",
    "z = z[(z['Timing'] >= 100) & (z['Timing'] <= 300)]\n",
    "z.loc[:, 'text'] = 'z'\n",
    "z = z.rename(columns={'z': 'x'})\n",
    "df = pd.concat([x, y, z], ignore_index=True)\n",
    "sns.lineplot(x=\"Timing\", y=\"x\", hue=\"text\", data=df).set(title=\"w_texting_data\", ylabel=\"3-axes MAGNO (uT)\")\n",
    "plt.savefig(path_viz + 'w_text MAGNO.png',bbox_inches='tight')"
   ],
   "metadata": {
    "collapsed": false
   }
  },
  {
   "cell_type": "code",
   "execution_count": null,
   "outputs": [],
   "source": [
    "# using loc\n",
    "x = s_texting_data.loc[:, ['x', 'Timing', 'text']]\n",
    "x = x[(x['Timing'] >= 100) & (x['Timing'] <= 300)]\n",
    "x.loc[:, 'text'] = 'x'\n",
    "y = s_texting_data.loc[:, ['y', 'Timing', 'text']]\n",
    "y = y[(y['Timing'] >= 100) & (y['Timing'] <= 300)]\n",
    "y.loc[:, 'text'] = 'y'\n",
    "y = y.rename(columns={'y': 'x'})\n",
    "z = s_texting_data.loc[:, ['z', 'Timing', 'text']]\n",
    "z = z[(z['Timing'] >= 100) & (z['Timing'] <= 300)]\n",
    "z.loc[:, 'text'] = 'z'\n",
    "z = z.rename(columns={'z': 'x'})\n",
    "df = pd.concat([x, y, z], ignore_index=True)\n",
    "sns.lineplot(x=\"Timing\", y=\"x\", hue=\"text\", data=df).set(title=\"s_texting_data\", ylabel=\"3-axes MAGNO (uT)\")\n",
    "plt.savefig(path_viz + 's_text MAGNO.png',bbox_inches='tight')"
   ],
   "metadata": {
    "collapsed": false
   }
  },
  {
   "cell_type": "code",
   "execution_count": null,
   "outputs": [],
   "source": [
    "# using loc\n",
    "x = s_telephoning_data.loc[:, ['x', 'Timing', 'text']]\n",
    "x = x[(x['Timing'] >= 100) & (x['Timing'] <= 300)]\n",
    "x.loc[:, 'text'] = 'x'\n",
    "y = s_telephoning_data.loc[:, ['y', 'Timing', 'text']]\n",
    "y = y[(y['Timing'] >= 100) & (y['Timing'] <= 300)]\n",
    "y.loc[:, 'text'] = 'y'\n",
    "y = y.rename(columns={'y': 'x'})\n",
    "z = s_telephoning_data.loc[:, ['z', 'Timing', 'text']]\n",
    "z = z[(z['Timing'] >= 100) & (z['Timing'] <= 300)]\n",
    "z.loc[:, 'text'] = 'z'\n",
    "z = z.rename(columns={'z': 'x'})\n",
    "df = pd.concat([x, y, z], ignore_index=True)\n",
    "sns.lineplot(x=\"Timing\", y=\"x\", hue=\"text\", data=df).set(title=\"s_telephoning_data\", ylabel=\"3-axes MAGNO (uT)\")\n",
    "plt.savefig(path_viz + 's_telephon MAGNO.png',bbox_inches='tight')"
   ],
   "metadata": {
    "collapsed": false
   }
  },
  {
   "cell_type": "code",
   "execution_count": null,
   "outputs": [],
   "source": [
    "# using loc\n",
    "x = w_telephoning_data.loc[:, ['x', 'Timing', 'text']]\n",
    "x = x[(x['Timing'] >= 100) & (x['Timing'] <= 300)]\n",
    "x.loc[:, 'text'] = 'x'\n",
    "y = w_telephoning_data.loc[:, ['y', 'Timing', 'text']]\n",
    "y = y[(y['Timing'] >= 100) & (y['Timing'] <= 500)]\n",
    "y.loc[:, 'text'] = 'y'\n",
    "y = y.rename(columns={'y': 'x'})\n",
    "z = w_telephoning_data.loc[:, ['z', 'Timing', 'text']]\n",
    "z = z[(z['Timing'] >= 100) & (z['Timing'] <= 500)]\n",
    "z.loc[:, 'text'] = 'z'\n",
    "z = z.rename(columns={'z': 'x'})\n",
    "df = pd.concat([x, y, z], ignore_index=True)\n",
    "sns.lineplot(x=\"Timing\", y=\"x\", hue=\"text\", data=df).set(title=\"w_telephoning_data\", ylabel=\"3-axes MAGNO (uT)\")\n",
    "plt.savefig(path_viz + 'w_telephon MAGNO.png',bbox_inches='tight')"
   ],
   "metadata": {
    "collapsed": false
   }
  },
  {
   "cell_type": "code",
   "execution_count": null,
   "outputs": [],
   "source": [
    "# using loc\n",
    "x = transition_data.loc[:, ['x', 'Timing', 'text']]\n",
    "x = x[(x['Timing'] >= 100) & (x['Timing'] <= 500)]\n",
    "x.loc[:, 'text'] = 'x'\n",
    "y = transition_data.loc[:, ['y', 'Timing', 'text']]\n",
    "y = y[(y['Timing'] >= 100) & (y['Timing'] <= 500)]\n",
    "y.loc[:, 'text'] = 'y'\n",
    "y = y.rename(columns={'y': 'x'})\n",
    "z = transition_data.loc[:, ['z', 'Timing', 'text']]\n",
    "z = z[(z['Timing'] >= 100) & (z['Timing'] <= 500)]\n",
    "z.loc[:, 'text'] = 'z'\n",
    "z = z.rename(columns={'z': 'x'})\n",
    "df = pd.concat([x, y, z], ignore_index=True)\n",
    "sns.lineplot(x=\"Timing\", y=\"x\", hue=\"text\", data=df).set(title=\"transition_data\", ylabel=\"3-axes MAGNO (uT)\")\n",
    "plt.savefig(path_viz + 'transition MAGNO.png',bbox_inches='tight')"
   ],
   "metadata": {
    "collapsed": false
   }
  },
  {
   "cell_type": "code",
   "execution_count": null,
   "outputs": [],
   "source": [
    "# Light Import\n",
    "standing_data = pd.read_csv(\"./data/sensor_visualization/Light_standing_all.csv\")\n",
    "walking_data = pd.read_csv(\"./data/sensor_visualization/Light_walking_all.csv\")\n",
    "w_texting_data = pd.read_csv(\"./data/sensor_visualization/Light_w_texting_all.csv\")\n",
    "s_texting_data = pd.read_csv(\"./data/sensor_visualization/Light_s_texting_all.csv\")\n",
    "w_telephoning_data = pd.read_csv(\"./data/sensor_visualization/Light_w_telephoning_all.csv\")\n",
    "s_telephoning_data = pd.read_csv(\"./data/sensor_visualization/Light_s_telephoning_all.csv\")\n",
    "transition_data = pd.read_csv(\"./data/sensor_visualization/Light_transition_all.csv\")"
   ],
   "metadata": {
    "collapsed": false
   }
  },
  {
   "cell_type": "code",
   "execution_count": null,
   "outputs": [],
   "source": [
    "df = pd.concat([w_texting_data, w_telephoning_data, walking_data], ignore_index=True)\n",
    "\n",
    "sns.lineplot(x=\"Timing\", y=\"lux\", hue=\"text\", data=df).set(title=\"neutral\")"
   ],
   "metadata": {
    "collapsed": false
   }
  },
  {
   "cell_type": "code",
   "execution_count": null,
   "outputs": [],
   "source": [],
   "metadata": {
    "collapsed": false
   }
  },
  {
   "cell_type": "code",
   "execution_count": null,
   "outputs": [],
   "source": [
    "# plotting average acceleration for first subject\n",
    "library(ggplot2)\n",
    "\n",
    "qplot(data = samsungData, x = subjectID, fill = activityID)"
   ],
   "metadata": {
    "collapsed": false
   }
  }
 ],
 "metadata": {
  "kernelspec": {
   "display_name": "Python 3",
   "language": "python",
   "name": "python3"
  },
  "language_info": {
   "codemirror_mode": {
    "name": "ipython",
    "version": 2
   },
   "file_extension": ".py",
   "mimetype": "text/x-python",
   "name": "python",
   "nbconvert_exporter": "python",
   "pygments_lexer": "ipython2",
   "version": "2.7.6"
  }
 },
 "nbformat": 4,
 "nbformat_minor": 0
}
