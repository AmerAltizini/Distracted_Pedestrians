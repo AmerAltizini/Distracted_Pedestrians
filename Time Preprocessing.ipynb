{
 "cells": [
  {
   "cell_type": "code",
   "execution_count": 1,
   "metadata": {
    "collapsed": true
   },
   "outputs": [],
   "source": [
    "#Organize imports\n",
    "import numpy as np\n",
    "import pandas as pd\n",
    "import os\n",
    "import glob\n",
    "from os.path import exists\n",
    "\n",
    "pd.set_option('display.float_format', '{:.3f}'.format)"
   ]
  },
  {
   "cell_type": "code",
   "execution_count": 2,
   "outputs": [],
   "source": [
    "filepath_sensors = './Data/input/'\n",
    "output_filepath = './Data/output/'\n",
    "path_img = './images/'"
   ],
   "metadata": {
    "collapsed": false
   }
  },
  {
   "cell_type": "markdown",
   "source": [
    "***\n",
    "### Overview for participants measurment duration\n",
    "***"
   ],
   "metadata": {
    "collapsed": false
   }
  },
  {
   "cell_type": "code",
   "execution_count": 8,
   "outputs": [],
   "source": [
    "# Read Data: data for all participants\n",
    "df = pd.DataFrame()\n",
    "for participant_filepath in glob.glob(filepath_sensors + '*/', recursive=True):\n",
    "    try:\n",
    "        accelerometer = pd.read_csv('{}Accelerometer.csv'.format(participant_filepath))\n",
    "        components = os.path.normpath(participant_filepath)\n",
    "        components = components.split(os.path.sep)\n",
    "        participant = components[-1]\n",
    "        # xxx = accelerometer[\"xxx\"].iloc[0]\n",
    "        unix_start = accelerometer[\"time\"].iloc[0]\n",
    "        unix_end = accelerometer[\"time\"].iloc[-1]\n",
    "        measurment_duration = unix_end - unix_start\n",
    "        new_row = [participant, unix_start, unix_end, measurment_duration]\n",
    "        cols = ['participant', 'unix_start', 'unix_end', 'measurment_duration']\n",
    "        new_df = pd.DataFrame([new_row], columns=cols)\n",
    "        df = pd.concat([new_df, df], ignore_index=True)\n",
    "    except:\n",
    "        print(participant_filepath)\n",
    "        continue\n",
    "df['measurment_duration'] = df['measurment_duration']/1000000000\n",
    "df['measurment_duration'] = (df['measurment_duration']).astype('datetime64[s]')\n",
    "df['measurment_duration'] = df['measurment_duration'].dt.time\n",
    "df.to_csv (output_filepath + 'participants_measurment_duration.csv')"
   ],
   "metadata": {
    "collapsed": false
   }
  },
  {
   "cell_type": "code",
   "execution_count": null,
   "outputs": [],
   "source": [],
   "metadata": {
    "collapsed": false
   }
  }
 ],
 "metadata": {
  "kernelspec": {
   "display_name": "Python 3",
   "language": "python",
   "name": "python3"
  },
  "language_info": {
   "codemirror_mode": {
    "name": "ipython",
    "version": 2
   },
   "file_extension": ".py",
   "mimetype": "text/x-python",
   "name": "python",
   "nbconvert_exporter": "python",
   "pygments_lexer": "ipython2",
   "version": "2.7.6"
  }
 },
 "nbformat": 4,
 "nbformat_minor": 0
}
