{
 "cells": [
  {
   "cell_type": "code",
   "execution_count": 1,
   "metadata": {
    "collapsed": true
   },
   "outputs": [],
   "source": [
    "#Organize imports\n",
    "import numpy as np\n",
    "import pandas as pd\n",
    "import os\n",
    "import glob\n",
    "from os.path import exists\n",
    "\n",
    "pd.set_option('display.float_format', '{:.3f}'.format)"
   ]
  },
  {
   "cell_type": "code",
   "execution_count": 2,
   "outputs": [],
   "source": [
    "filepath_sensors = './Data/input/'\n",
    "output_filepath = './Data/output/'\n",
    "path_img = './images/'\n",
    "output_folder = '.\\Data\\output/'"
   ],
   "metadata": {
    "collapsed": false
   }
  },
  {
   "cell_type": "markdown",
   "source": [
    "***\n",
    "### Overview for participants measurment duration\n",
    "***"
   ],
   "metadata": {
    "collapsed": false
   }
  },
  {
   "cell_type": "code",
   "execution_count": 10,
   "outputs": [
    {
     "data": {
      "text/plain": "  code              unix_start                unix_end measurement_duration  \\\n0    8 1676640548603986176.000 1676641271182711296.000             00:12:02   \n1    7 1676639792357710336.000 1676640516932382464.000             00:12:04   \n2    6 1676639037582241280.000 1676639761159838208.000             00:12:03   \n3    5 1676638300621983488.000 1676639023204348928.000             00:12:02   \n4    4 1676634453394588160.000 1676635156894805248.000             00:11:43   \n5    3 1676633722944703488.000 1676634446497630464.000             00:12:03   \n6    2 1676554074033986560.000 1676554798547933696.000             00:12:04   \n7    1 1676475191518429952.000 1676475929026739968.000             00:12:17   \n\n   standing   walking      PtTX      WWTX      SWTX      TXtP     TXtTL  \\\n0  00:02:20  00:01:29  00:00:03  00:02:01  00:01:56  00:00:03  00:00:02   \n1  00:01:58  00:02:03  00:00:06  00:01:57  00:01:56  00:00:03  00:00:03   \n2  00:01:58  00:01:53  00:00:03  00:02:12  00:01:45  00:00:03  00:00:01   \n3  00:01:56  00:01:58  00:00:06  00:01:59  00:01:56  00:00:02  00:00:03   \n4  00:01:56  00:01:34  00:00:06  00:02:00  00:01:59  00:00:00  00:00:02   \n5  00:01:53  00:02:03  00:00:05  00:02:03  00:01:46  00:00:06  00:00:03   \n6  00:02:03  00:01:46  00:00:06  00:01:58  00:01:58  00:00:03  00:00:01   \n7  00:01:52  00:02:07  00:00:04  00:01:58  00:01:59  00:00:04  00:00:03   \n\n       WWTL      SWTL  \n0  00:01:57  00:01:58  \n1  00:01:46  00:02:00  \n2  00:01:57  00:01:53  \n3  00:02:02  00:00:00  \n4  00:01:56  00:01:57  \n5  00:01:51  00:02:00  \n6  00:01:56  00:02:00  \n7  00:01:54  00:01:57  ",
      "text/html": "<div>\n<style scoped>\n    .dataframe tbody tr th:only-of-type {\n        vertical-align: middle;\n    }\n\n    .dataframe tbody tr th {\n        vertical-align: top;\n    }\n\n    .dataframe thead th {\n        text-align: right;\n    }\n</style>\n<table border=\"1\" class=\"dataframe\">\n  <thead>\n    <tr style=\"text-align: right;\">\n      <th></th>\n      <th>code</th>\n      <th>unix_start</th>\n      <th>unix_end</th>\n      <th>measurement_duration</th>\n      <th>standing</th>\n      <th>walking</th>\n      <th>PtTX</th>\n      <th>WWTX</th>\n      <th>SWTX</th>\n      <th>TXtP</th>\n      <th>TXtTL</th>\n      <th>WWTL</th>\n      <th>SWTL</th>\n    </tr>\n  </thead>\n  <tbody>\n    <tr>\n      <th>0</th>\n      <td>8</td>\n      <td>1676640548603986176.000</td>\n      <td>1676641271182711296.000</td>\n      <td>00:12:02</td>\n      <td>00:02:20</td>\n      <td>00:01:29</td>\n      <td>00:00:03</td>\n      <td>00:02:01</td>\n      <td>00:01:56</td>\n      <td>00:00:03</td>\n      <td>00:00:02</td>\n      <td>00:01:57</td>\n      <td>00:01:58</td>\n    </tr>\n    <tr>\n      <th>1</th>\n      <td>7</td>\n      <td>1676639792357710336.000</td>\n      <td>1676640516932382464.000</td>\n      <td>00:12:04</td>\n      <td>00:01:58</td>\n      <td>00:02:03</td>\n      <td>00:00:06</td>\n      <td>00:01:57</td>\n      <td>00:01:56</td>\n      <td>00:00:03</td>\n      <td>00:00:03</td>\n      <td>00:01:46</td>\n      <td>00:02:00</td>\n    </tr>\n    <tr>\n      <th>2</th>\n      <td>6</td>\n      <td>1676639037582241280.000</td>\n      <td>1676639761159838208.000</td>\n      <td>00:12:03</td>\n      <td>00:01:58</td>\n      <td>00:01:53</td>\n      <td>00:00:03</td>\n      <td>00:02:12</td>\n      <td>00:01:45</td>\n      <td>00:00:03</td>\n      <td>00:00:01</td>\n      <td>00:01:57</td>\n      <td>00:01:53</td>\n    </tr>\n    <tr>\n      <th>3</th>\n      <td>5</td>\n      <td>1676638300621983488.000</td>\n      <td>1676639023204348928.000</td>\n      <td>00:12:02</td>\n      <td>00:01:56</td>\n      <td>00:01:58</td>\n      <td>00:00:06</td>\n      <td>00:01:59</td>\n      <td>00:01:56</td>\n      <td>00:00:02</td>\n      <td>00:00:03</td>\n      <td>00:02:02</td>\n      <td>00:00:00</td>\n    </tr>\n    <tr>\n      <th>4</th>\n      <td>4</td>\n      <td>1676634453394588160.000</td>\n      <td>1676635156894805248.000</td>\n      <td>00:11:43</td>\n      <td>00:01:56</td>\n      <td>00:01:34</td>\n      <td>00:00:06</td>\n      <td>00:02:00</td>\n      <td>00:01:59</td>\n      <td>00:00:00</td>\n      <td>00:00:02</td>\n      <td>00:01:56</td>\n      <td>00:01:57</td>\n    </tr>\n    <tr>\n      <th>5</th>\n      <td>3</td>\n      <td>1676633722944703488.000</td>\n      <td>1676634446497630464.000</td>\n      <td>00:12:03</td>\n      <td>00:01:53</td>\n      <td>00:02:03</td>\n      <td>00:00:05</td>\n      <td>00:02:03</td>\n      <td>00:01:46</td>\n      <td>00:00:06</td>\n      <td>00:00:03</td>\n      <td>00:01:51</td>\n      <td>00:02:00</td>\n    </tr>\n    <tr>\n      <th>6</th>\n      <td>2</td>\n      <td>1676554074033986560.000</td>\n      <td>1676554798547933696.000</td>\n      <td>00:12:04</td>\n      <td>00:02:03</td>\n      <td>00:01:46</td>\n      <td>00:00:06</td>\n      <td>00:01:58</td>\n      <td>00:01:58</td>\n      <td>00:00:03</td>\n      <td>00:00:01</td>\n      <td>00:01:56</td>\n      <td>00:02:00</td>\n    </tr>\n    <tr>\n      <th>7</th>\n      <td>1</td>\n      <td>1676475191518429952.000</td>\n      <td>1676475929026739968.000</td>\n      <td>00:12:17</td>\n      <td>00:01:52</td>\n      <td>00:02:07</td>\n      <td>00:00:04</td>\n      <td>00:01:58</td>\n      <td>00:01:59</td>\n      <td>00:00:04</td>\n      <td>00:00:03</td>\n      <td>00:01:54</td>\n      <td>00:01:57</td>\n    </tr>\n  </tbody>\n</table>\n</div>"
     },
     "metadata": {},
     "output_type": "display_data"
    }
   ],
   "source": [
    "def get_change_indices(df, column):\n",
    "    # Create a boolean series indicating where the values in the column change\n",
    "    changes = df[column].ne(df[column].shift())\n",
    "    # Count the number of changes\n",
    "    change_counts = changes.cumsum()\n",
    "    # Return the indices where the values change\n",
    "    return change_counts[changes].index\n",
    "df = pd.DataFrame()\n",
    "for participant_filepath in glob.glob(output_folder + '*/', recursive=True):\n",
    "    Accelerometer = pd.read_csv('{}Accelerometer_annotated.csv'.format(participant_filepath))\n",
    "    Annotation = pd.read_csv('{}labels.csv'.format(participant_filepath))\n",
    "    # display(Accelerometer)\n",
    "    components = os.path.normpath(participant_filepath)\n",
    "    components = components.split(os.path.sep)\n",
    "    code = components[-1]\n",
    "    # manipulation = ground_truth[\"manipulation\"].iloc[5]\n",
    "    # scenario = Annotation[\"scenario\"].iloc[0]\n",
    "    unix_start = Accelerometer[\"Timestamp\"].iloc[0]\n",
    "    unix_end = Accelerometer[\"Timestamp\"].iloc[-1]\n",
    "    # start_wel_i = ground_truth[ground_truth.scenario == 'welcoming'].first_valid_index()\n",
    "    # start_wel = ground_truth.iloc[start_wel_i]['NTPTime']\n",
    "    # end_good_bye_i = ground_truth[ground_truth.scenario == 'good-bye'].last_valid_index()\n",
    "    # end_good_bye = ground_truth.iloc[end_good_bye_i]['NTPTime']\n",
    "    # measurement_duration = end_good_bye - start_wel\n",
    "    measurement_duration = unix_end - unix_start\n",
    "    # # Get the indices where the values in the \"category\" column change\n",
    "    indices = get_change_indices(Accelerometer[Accelerometer['Label'].notna()], \"Label\")\n",
    "    # # Display the rows where the values change\n",
    "    # # display(ground_truth.loc[indices])\n",
    "    Accelerometer[\"difference\"] = Accelerometer.loc[indices][\"Timestamp\"].shift(-1) - Accelerometer.loc[indices][\"Timestamp\"]\n",
    "    # display(ground_truth)\n",
    "    # ground_truth = ground_truth.assign(sum=0)\n",
    "    # Create a variable to store the sum of the differences\n",
    "    standing=0\n",
    "    walking=0\n",
    "    PtTX=0\n",
    "    PtTX=0\n",
    "    WWTX=0\n",
    "    SWTX=0\n",
    "    TXtP=0\n",
    "    TXtTL=0\n",
    "    WWTL=0\n",
    "    SWTL=0\n",
    "    # Iterate over the rows of the DataFrame\n",
    "    for index, row in Accelerometer.iterrows():\n",
    "        # Check if there is a value in the \"difference\" column\n",
    "        if not pd.isnull(row[\"difference\"]):\n",
    "            # Check the categorical value of column \"B\"\n",
    "            if row[\"Label\"] == \"standing\":\n",
    "                standing += row[\"difference\"]\n",
    "            if row[\"Label\"] == \"walking\":\n",
    "                walking += row[\"difference\"]\n",
    "            if row[\"Label\"] == \"PtTX\":\n",
    "                PtTX += row[\"difference\"]\n",
    "            if row[\"Label\"] == \"WWTX\":\n",
    "                WWTX += row[\"difference\"]\n",
    "            if row[\"Label\"] == \"SWTX\":\n",
    "                SWTX += row[\"difference\"]\n",
    "            if row[\"Label\"] == \"TXtP\":\n",
    "                TXtP += row[\"difference\"]\n",
    "            if row[\"Label\"] == \"TXtTL\":\n",
    "                TXtTL += row[\"difference\"]\n",
    "            if row[\"Label\"] == \"WWTL\":\n",
    "                WWTL += row[\"difference\"]\n",
    "            if row[\"Label\"] == \"SWTL\":\n",
    "                SWTL += row[\"difference\"]\n",
    "    # good bye\n",
    "    # start_texting_i = Accelerometer[Accelerometer.text == 'walking'].first_valid_index()\n",
    "    # start_texting = Accelerometer.iloc[start_texting_i]['Timestamp']\n",
    "    # end_texting_i = Accelerometer[Accelerometer.text == 'walking'].last_valid_index()\n",
    "    # end_texting = Accelerometer.iloc[end_texting_i]['Timestamp']\n",
    "    # good_bye = end_texting - start_texting\n",
    "    new_row = [code, unix_start, unix_end, measurement_duration, standing, walking, PtTX, WWTX, SWTX, TXtP, TXtTL, WWTL, SWTL]\n",
    "    cols = ['code', 'unix_start', 'unix_end', 'measurement_duration', 'standing', 'walking', 'PtTX', 'WWTX', 'SWTX', 'TXtP', 'TXtTL', 'WWTL', 'SWTL']\n",
    "    new_df = pd.DataFrame([new_row], columns=cols)\n",
    "    df = pd.concat([new_df, df], ignore_index=True)\n",
    "\n",
    "df['measurement_duration'] = df['measurement_duration']/1000000000\n",
    "df['measurement_duration'] = (df['measurement_duration']).astype('datetime64[s]')\n",
    "df['measurement_duration'] = df['measurement_duration'].dt.time\n",
    "\n",
    "df['standing'] = df['standing']/1000000000\n",
    "df['standing'] = (df['standing']).astype('datetime64[s]')\n",
    "df['standing'] = df['standing'].dt.time\n",
    "\n",
    "df['walking'] = df['walking']/1000000000\n",
    "df['walking'] = (df['walking']).astype('datetime64[s]')\n",
    "df['walking'] = df['walking'].dt.time\n",
    "\n",
    "df['PtTX'] = df['PtTX']/1000000000\n",
    "df['PtTX'] = (df['PtTX']).astype('datetime64[s]')\n",
    "df['PtTX'] = df['PtTX'].dt.time\n",
    "#\n",
    "df['WWTX'] = df['WWTX']/1000000000\n",
    "df['WWTX'] = (df['WWTX']).astype('datetime64[s]')\n",
    "df['WWTX'] = df['WWTX'].dt.time\n",
    "\n",
    "df['SWTX'] = df['SWTX']/1000000000\n",
    "df['SWTX'] = (df['SWTX']).astype('datetime64[s]')\n",
    "df['SWTX'] = df['SWTX'].dt.time\n",
    "#\n",
    "df['TXtP'] = df['TXtP']/1000000000\n",
    "df['TXtP'] = (df['TXtP']).astype('datetime64[s]')\n",
    "df['TXtP'] = df['TXtP'].dt.time\n",
    "\n",
    "df['TXtTL'] = df['TXtTL']/1000000000\n",
    "df['TXtTL'] = (df['TXtTL']).astype('datetime64[s]')\n",
    "df['TXtTL'] = df['TXtTL'].dt.time\n",
    "\n",
    "df['WWTL'] = df['WWTL']/1000000000\n",
    "df['WWTL'] = (df['WWTL']).astype('datetime64[s]')\n",
    "df['WWTL'] = df['WWTL'].dt.time\n",
    "\n",
    "df['SWTL'] = df['SWTL']/1000000000\n",
    "df['SWTL'] = (df['SWTL']).astype('datetime64[s]')\n",
    "df['SWTL'] = df['SWTL'].dt.time\n",
    "\n",
    "display(df)\n",
    "df.to_csv ('./Data/participants_measurement_duration.csv')"
   ],
   "metadata": {
    "collapsed": false
   }
  },
  {
   "cell_type": "code",
   "execution_count": 12,
   "outputs": [
    {
     "data": {
      "text/plain": "scenario                  pocket\nmean PtTX                  00:04\n     SWTL                  01:43\n     SWTX                  01:54\n     TXtP                  00:03\n     TXtTL                 00:02\n     WWTL                  01:54\n     WWTX                  02:01\n     measurement_duration  12:02\n     standing              01:59\n     walking               01:51\nstd  PtTX                  00:01\n     SWTL                  00:41\n     SWTX                  00:05\n     TXtP                  00:01\n     TXtTL                 00:00\n     WWTL                  00:04\n     WWTX                  00:04\n     measurement_duration  00:09\n     standing              00:08\n     walking               00:14",
      "text/html": "<div>\n<style scoped>\n    .dataframe tbody tr th:only-of-type {\n        vertical-align: middle;\n    }\n\n    .dataframe tbody tr th {\n        vertical-align: top;\n    }\n\n    .dataframe thead th {\n        text-align: right;\n    }\n</style>\n<table border=\"1\" class=\"dataframe\">\n  <thead>\n    <tr style=\"text-align: right;\">\n      <th></th>\n      <th>scenario</th>\n      <th>pocket</th>\n    </tr>\n  </thead>\n  <tbody>\n    <tr>\n      <th rowspan=\"10\" valign=\"top\">mean</th>\n      <th>PtTX</th>\n      <td>00:04</td>\n    </tr>\n    <tr>\n      <th>SWTL</th>\n      <td>01:43</td>\n    </tr>\n    <tr>\n      <th>SWTX</th>\n      <td>01:54</td>\n    </tr>\n    <tr>\n      <th>TXtP</th>\n      <td>00:03</td>\n    </tr>\n    <tr>\n      <th>TXtTL</th>\n      <td>00:02</td>\n    </tr>\n    <tr>\n      <th>WWTL</th>\n      <td>01:54</td>\n    </tr>\n    <tr>\n      <th>WWTX</th>\n      <td>02:01</td>\n    </tr>\n    <tr>\n      <th>measurement_duration</th>\n      <td>12:02</td>\n    </tr>\n    <tr>\n      <th>standing</th>\n      <td>01:59</td>\n    </tr>\n    <tr>\n      <th>walking</th>\n      <td>01:51</td>\n    </tr>\n    <tr>\n      <th rowspan=\"10\" valign=\"top\">std</th>\n      <th>PtTX</th>\n      <td>00:01</td>\n    </tr>\n    <tr>\n      <th>SWTL</th>\n      <td>00:41</td>\n    </tr>\n    <tr>\n      <th>SWTX</th>\n      <td>00:05</td>\n    </tr>\n    <tr>\n      <th>TXtP</th>\n      <td>00:01</td>\n    </tr>\n    <tr>\n      <th>TXtTL</th>\n      <td>00:00</td>\n    </tr>\n    <tr>\n      <th>WWTL</th>\n      <td>00:04</td>\n    </tr>\n    <tr>\n      <th>WWTX</th>\n      <td>00:04</td>\n    </tr>\n    <tr>\n      <th>measurement_duration</th>\n      <td>00:09</td>\n    </tr>\n    <tr>\n      <th>standing</th>\n      <td>00:08</td>\n    </tr>\n    <tr>\n      <th>walking</th>\n      <td>00:14</td>\n    </tr>\n  </tbody>\n</table>\n</div>"
     },
     "metadata": {},
     "output_type": "display_data"
    }
   ],
   "source": [
    "from datetime import datetime, timedelta\n",
    "data = pd.read_csv(\"./Data/participants_measurement_duration.csv\")\n",
    "\n",
    "# Convert the h:mm:ss data to seconds\n",
    "data['measurement_duration'] = data['measurement_duration'].apply(lambda x: datetime.strptime(x, \"%H:%M:%S\").time())\n",
    "data['measurement_duration'] = data['measurement_duration'].apply(lambda x: timedelta(hours=x.hour, minutes=x.minute, seconds=x.second).total_seconds())\n",
    "data['standing'] = data['standing'].apply(lambda x: datetime.strptime(x, \"%H:%M:%S\").time())\n",
    "data['standing'] = data['standing'].apply(lambda x: timedelta(hours=x.hour, minutes=x.minute, seconds=x.second).total_seconds())\n",
    "data['walking'] = data['walking'].apply(lambda x: datetime.strptime(x, \"%H:%M:%S\").time())\n",
    "data['walking'] = data['walking'].apply(lambda x: timedelta(hours=x.hour, minutes=x.minute, seconds=x.second).total_seconds())\n",
    "data['PtTX'] = data['PtTX'].apply(lambda x: datetime.strptime(x, \"%H:%M:%S\").time())\n",
    "data['PtTX'] = data['PtTX'].apply(lambda x: timedelta(hours=x.hour, minutes=x.minute, seconds=x.second).total_seconds())\n",
    "data['WWTX'] = data['WWTX'].apply(lambda x: datetime.strptime(x, \"%H:%M:%S\").time())\n",
    "data['WWTX'] = data['WWTX'].apply(lambda x: timedelta(hours=x.hour, minutes=x.minute, seconds=x.second).total_seconds())\n",
    "data['SWTX'] = data['SWTX'].apply(lambda x: datetime.strptime(x, \"%H:%M:%S\").time())\n",
    "data['SWTX'] = data['SWTX'].apply(lambda x: timedelta(hours=x.hour, minutes=x.minute, seconds=x.second).total_seconds())\n",
    "data['TXtP'] = data['TXtP'].apply(lambda x: datetime.strptime(x, \"%H:%M:%S\").time())\n",
    "data['TXtP'] = data['TXtP'].apply(lambda x: timedelta(hours=x.hour, minutes=x.minute, seconds=x.second).total_seconds())\n",
    "data['TXtTL'] = data['TXtTL'].apply(lambda x: datetime.strptime(x, \"%H:%M:%S\").time())\n",
    "data['TXtTL'] = data['TXtTL'].apply(lambda x: timedelta(hours=x.hour, minutes=x.minute, seconds=x.second).total_seconds())\n",
    "data['WWTL'] = data['WWTL'].apply(lambda x: datetime.strptime(x, \"%H:%M:%S\").time())\n",
    "data['WWTL'] = data['WWTL'].apply(lambda x: timedelta(hours=x.hour, minutes=x.minute, seconds=x.second).total_seconds())\n",
    "data['SWTL'] = data['SWTL'].apply(lambda x: datetime.strptime(x, \"%H:%M:%S\").time())\n",
    "data['SWTL'] = data['SWTL'].apply(lambda x: timedelta(hours=x.hour, minutes=x.minute, seconds=x.second).total_seconds())\n",
    "\n",
    "# Create the pivot table\n",
    "table = pd.pivot_table(data, values=['measurement_duration', 'standing', 'walking', 'PtTX', 'WWTX', 'SWTX', 'TXtP', 'TXtTL', 'WWTL', 'SWTL'], index=['scenario'], aggfunc=[np.mean, np.std])\n",
    "# table = pd.pivot_table(data, values=['measurement_duration', 'standing', 'walking', 'PtTX', 'WWTX', 'SWTX', 'TXtP', 'TXtTL', 'WWTL', 'SWTL'], aggfunc=[np.mean, np.std])\n",
    "\n",
    "\n",
    "# table = pd.pivot_table(data, values=['measurement_duration', 'telephone', 'texting', 'walking'],  index=['robot', 'manipulation'], aggfunc=[np.mean, np.std])\n",
    "\n",
    "# Define a custom function to format the values as mm:ss strings\n",
    "def to_mmss(x):\n",
    "    minutes, seconds = divmod(int(x), 60)\n",
    "    return f\"{minutes:02d}:{seconds:02d}\"\n",
    "# Apply the custom function to the values in the pivot table\n",
    "table = table.applymap(to_mmss)\n",
    "# Transpose the pivot table\n",
    "table_transposed = table.T\n",
    "display(table_transposed)\n",
    "table_transposed.to_csv ('./data/manipulation_vs_scenario_experiment_duration.csv')"
   ],
   "metadata": {
    "collapsed": false
   }
  },
  {
   "cell_type": "code",
   "execution_count": 1,
   "outputs": [
    {
     "ename": "NameError",
     "evalue": "name 'pd' is not defined",
     "output_type": "error",
     "traceback": [
      "\u001B[1;31m---------------------------------------------------------------------------\u001B[0m",
      "\u001B[1;31mNameError\u001B[0m                                 Traceback (most recent call last)",
      "\u001B[1;32m<ipython-input-1-d2ce1979ad0b>\u001B[0m in \u001B[0;36m<module>\u001B[1;34m\u001B[0m\n\u001B[1;32m----> 1\u001B[1;33m \u001B[0mdata\u001B[0m \u001B[1;33m=\u001B[0m \u001B[0mpd\u001B[0m\u001B[1;33m.\u001B[0m\u001B[0mread_csv\u001B[0m\u001B[1;33m(\u001B[0m\u001B[1;34m\"./data/participants_measurement_duration.csv\"\u001B[0m\u001B[1;33m)\u001B[0m\u001B[1;33m\u001B[0m\u001B[1;33m\u001B[0m\u001B[0m\n\u001B[0m\u001B[0;32m      2\u001B[0m \u001B[1;31m# Convert the h:mm:ss data to seconds\u001B[0m\u001B[1;33m\u001B[0m\u001B[1;33m\u001B[0m\u001B[1;33m\u001B[0m\u001B[0m\n\u001B[0;32m      3\u001B[0m \u001B[0mdata\u001B[0m\u001B[1;33m[\u001B[0m\u001B[1;34m'measurement_duration'\u001B[0m\u001B[1;33m]\u001B[0m \u001B[1;33m=\u001B[0m \u001B[0mdata\u001B[0m\u001B[1;33m[\u001B[0m\u001B[1;34m'measurement_duration'\u001B[0m\u001B[1;33m]\u001B[0m\u001B[1;33m.\u001B[0m\u001B[0mapply\u001B[0m\u001B[1;33m(\u001B[0m\u001B[1;32mlambda\u001B[0m \u001B[0mx\u001B[0m\u001B[1;33m:\u001B[0m \u001B[0mdatetime\u001B[0m\u001B[1;33m.\u001B[0m\u001B[0mstrptime\u001B[0m\u001B[1;33m(\u001B[0m\u001B[0mx\u001B[0m\u001B[1;33m,\u001B[0m \u001B[1;34m\"%H:%M:%S\"\u001B[0m\u001B[1;33m)\u001B[0m\u001B[1;33m.\u001B[0m\u001B[0mtime\u001B[0m\u001B[1;33m(\u001B[0m\u001B[1;33m)\u001B[0m\u001B[1;33m)\u001B[0m\u001B[1;33m\u001B[0m\u001B[1;33m\u001B[0m\u001B[0m\n\u001B[0;32m      4\u001B[0m \u001B[0mdata\u001B[0m\u001B[1;33m[\u001B[0m\u001B[1;34m'measurement_duration'\u001B[0m\u001B[1;33m]\u001B[0m \u001B[1;33m=\u001B[0m \u001B[0mdata\u001B[0m\u001B[1;33m[\u001B[0m\u001B[1;34m'measurement_duration'\u001B[0m\u001B[1;33m]\u001B[0m\u001B[1;33m.\u001B[0m\u001B[0mapply\u001B[0m\u001B[1;33m(\u001B[0m\u001B[1;32mlambda\u001B[0m \u001B[0mx\u001B[0m\u001B[1;33m:\u001B[0m \u001B[0mtimedelta\u001B[0m\u001B[1;33m(\u001B[0m\u001B[0mhours\u001B[0m\u001B[1;33m=\u001B[0m\u001B[0mx\u001B[0m\u001B[1;33m.\u001B[0m\u001B[0mhour\u001B[0m\u001B[1;33m,\u001B[0m \u001B[0mminutes\u001B[0m\u001B[1;33m=\u001B[0m\u001B[0mx\u001B[0m\u001B[1;33m.\u001B[0m\u001B[0mminute\u001B[0m\u001B[1;33m,\u001B[0m \u001B[0mseconds\u001B[0m\u001B[1;33m=\u001B[0m\u001B[0mx\u001B[0m\u001B[1;33m.\u001B[0m\u001B[0msecond\u001B[0m\u001B[1;33m)\u001B[0m\u001B[1;33m.\u001B[0m\u001B[0mtotal_seconds\u001B[0m\u001B[1;33m(\u001B[0m\u001B[1;33m)\u001B[0m\u001B[1;33m)\u001B[0m\u001B[1;33m\u001B[0m\u001B[1;33m\u001B[0m\u001B[0m\n\u001B[0;32m      5\u001B[0m \u001B[0mdata\u001B[0m\u001B[1;33m[\u001B[0m\u001B[1;34m'standing'\u001B[0m\u001B[1;33m]\u001B[0m \u001B[1;33m=\u001B[0m \u001B[0mdata\u001B[0m\u001B[1;33m[\u001B[0m\u001B[1;34m'standing'\u001B[0m\u001B[1;33m]\u001B[0m\u001B[1;33m.\u001B[0m\u001B[0mapply\u001B[0m\u001B[1;33m(\u001B[0m\u001B[1;32mlambda\u001B[0m \u001B[0mx\u001B[0m\u001B[1;33m:\u001B[0m \u001B[0mdatetime\u001B[0m\u001B[1;33m.\u001B[0m\u001B[0mstrptime\u001B[0m\u001B[1;33m(\u001B[0m\u001B[0mx\u001B[0m\u001B[1;33m,\u001B[0m \u001B[1;34m\"%H:%M:%S\"\u001B[0m\u001B[1;33m)\u001B[0m\u001B[1;33m.\u001B[0m\u001B[0mtime\u001B[0m\u001B[1;33m(\u001B[0m\u001B[1;33m)\u001B[0m\u001B[1;33m)\u001B[0m\u001B[1;33m\u001B[0m\u001B[1;33m\u001B[0m\u001B[0m\n",
      "\u001B[1;31mNameError\u001B[0m: name 'pd' is not defined"
     ]
    }
   ],
   "source": [
    "data = pd.read_csv(\"./data/participants_measurement_duration.csv\")\n",
    "# Convert the h:mm:ss data to seconds\n",
    "data['measurement_duration'] = data['measurement_duration'].apply(lambda x: datetime.strptime(x, \"%H:%M:%S\").time())\n",
    "data['measurement_duration'] = data['measurement_duration'].apply(lambda x: timedelta(hours=x.hour, minutes=x.minute, seconds=x.second).total_seconds())\n",
    "data['standing'] = data['standing'].apply(lambda x: datetime.strptime(x, \"%H:%M:%S\").time())\n",
    "data['standing'] = data['standing'].apply(lambda x: timedelta(hours=x.hour, minutes=x.minute, seconds=x.second).total_seconds())\n",
    "data['walking'] = data['walking'].apply(lambda x: datetime.strptime(x, \"%H:%M:%S\").time())\n",
    "data['walking'] = data['walking'].apply(lambda x: timedelta(hours=x.hour, minutes=x.minute, seconds=x.second).total_seconds())\n",
    "data['PtTX'] = data['PtTX'].apply(lambda x: datetime.strptime(x, \"%H:%M:%S\").time())\n",
    "data['PtTX'] = data['PtTX'].apply(lambda x: timedelta(hours=x.hour, minutes=x.minute, seconds=x.second).total_seconds())\n",
    "data['WWTX'] = data['WWTX'].apply(lambda x: datetime.strptime(x, \"%H:%M:%S\").time())\n",
    "data['WWTX'] = data['WWTX'].apply(lambda x: timedelta(hours=x.hour, minutes=x.minute, seconds=x.second).total_seconds())\n",
    "data['SWTX'] = data['SWTX'].apply(lambda x: datetime.strptime(x, \"%H:%M:%S\").time())\n",
    "data['SWTX'] = data['SWTX'].apply(lambda x: timedelta(hours=x.hour, minutes=x.minute, seconds=x.second).total_seconds())\n",
    "data['TXtP'] = data['TXtP'].apply(lambda x: datetime.strptime(x, \"%H:%M:%S\").time())\n",
    "data['TXtP'] = data['TXtP'].apply(lambda x: timedelta(hours=x.hour, minutes=x.minute, seconds=x.second).total_seconds())\n",
    "data['TXtTL'] = data['TXtTL'].apply(lambda x: datetime.strptime(x, \"%H:%M:%S\").time())\n",
    "data['TXtTL'] = data['TXtTL'].apply(lambda x: timedelta(hours=x.hour, minutes=x.minute, seconds=x.second).total_seconds())\n",
    "data['WWTL'] = data['WWTL'].apply(lambda x: datetime.strptime(x, \"%H:%M:%S\").time())\n",
    "data['WWTL'] = data['WWTL'].apply(lambda x: timedelta(hours=x.hour, minutes=x.minute, seconds=x.second).total_seconds())\n",
    "data['SWTL'] = data['SWTL'].apply(lambda x: datetime.strptime(x, \"%H:%M:%S\").time())\n",
    "data['SWTL'] = data['SWTL'].apply(lambda x: timedelta(hours=x.hour, minutes=x.minute, seconds=x.second).total_seconds())\n",
    "\n",
    "def to_mmss(x):\n",
    "    minutes = int(x // 60)\n",
    "    seconds = int(x % 60)\n",
    "    return f\"{minutes:02d}:{seconds:02d}\"\n",
    "\n",
    "def mean_std(x):\n",
    "    return f\"{to_mmss(np.mean(x))} (std.={to_mmss(np.std(x))})\"\n",
    "\n",
    "# Create the pivot table\n",
    "table = pd.pivot_table(data, values=['measurement_duration', 'standing', 'walking', 'PtTX', 'WWTX', 'SWTX', 'TXtP', 'TXtTL', 'WWTL', 'SWTL'], index=['scenario'], aggfunc=mean_std)\n",
    "\n",
    "table_transposed = table.T\n",
    "display(table_transposed)\n",
    "table_transposed.to_csv ('./data/manipulation_vs_scenario_experiment_durationkk.csv')"
   ],
   "metadata": {
    "collapsed": false
   }
  },
  {
   "cell_type": "code",
   "execution_count": 25,
   "outputs": [
    {
     "ename": "KeyError",
     "evalue": "'telephone'",
     "output_type": "error",
     "traceback": [
      "\u001B[1;31m---------------------------------------------------------------------------\u001B[0m",
      "\u001B[1;31mKeyError\u001B[0m                                  Traceback (most recent call last)",
      "\u001B[1;32mC:\\ProgramData\\Anaconda3\\lib\\site-packages\\pandas\\core\\indexes\\base.py\u001B[0m in \u001B[0;36mget_loc\u001B[1;34m(self, key, method, tolerance)\u001B[0m\n\u001B[0;32m   3079\u001B[0m             \u001B[1;32mtry\u001B[0m\u001B[1;33m:\u001B[0m\u001B[1;33m\u001B[0m\u001B[1;33m\u001B[0m\u001B[0m\n\u001B[1;32m-> 3080\u001B[1;33m                 \u001B[1;32mreturn\u001B[0m \u001B[0mself\u001B[0m\u001B[1;33m.\u001B[0m\u001B[0m_engine\u001B[0m\u001B[1;33m.\u001B[0m\u001B[0mget_loc\u001B[0m\u001B[1;33m(\u001B[0m\u001B[0mcasted_key\u001B[0m\u001B[1;33m)\u001B[0m\u001B[1;33m\u001B[0m\u001B[1;33m\u001B[0m\u001B[0m\n\u001B[0m\u001B[0;32m   3081\u001B[0m             \u001B[1;32mexcept\u001B[0m \u001B[0mKeyError\u001B[0m \u001B[1;32mas\u001B[0m \u001B[0merr\u001B[0m\u001B[1;33m:\u001B[0m\u001B[1;33m\u001B[0m\u001B[1;33m\u001B[0m\u001B[0m\n",
      "\u001B[1;32mpandas\\_libs\\index.pyx\u001B[0m in \u001B[0;36mpandas._libs.index.IndexEngine.get_loc\u001B[1;34m()\u001B[0m\n",
      "\u001B[1;32mpandas\\_libs\\index.pyx\u001B[0m in \u001B[0;36mpandas._libs.index.IndexEngine.get_loc\u001B[1;34m()\u001B[0m\n",
      "\u001B[1;32mpandas\\_libs\\hashtable_class_helper.pxi\u001B[0m in \u001B[0;36mpandas._libs.hashtable.PyObjectHashTable.get_item\u001B[1;34m()\u001B[0m\n",
      "\u001B[1;32mpandas\\_libs\\hashtable_class_helper.pxi\u001B[0m in \u001B[0;36mpandas._libs.hashtable.PyObjectHashTable.get_item\u001B[1;34m()\u001B[0m\n",
      "\u001B[1;31mKeyError\u001B[0m: 'telephone'",
      "\nThe above exception was the direct cause of the following exception:\n",
      "\u001B[1;31mKeyError\u001B[0m                                  Traceback (most recent call last)",
      "\u001B[1;32m<ipython-input-25-2a6ba167ad15>\u001B[0m in \u001B[0;36m<module>\u001B[1;34m\u001B[0m\n\u001B[0;32m      4\u001B[0m \u001B[0mdata\u001B[0m\u001B[1;33m[\u001B[0m\u001B[1;34m'measurement_duration'\u001B[0m\u001B[1;33m]\u001B[0m \u001B[1;33m=\u001B[0m \u001B[0mdata\u001B[0m\u001B[1;33m[\u001B[0m\u001B[1;34m'measurement_duration'\u001B[0m\u001B[1;33m]\u001B[0m\u001B[1;33m.\u001B[0m\u001B[0mapply\u001B[0m\u001B[1;33m(\u001B[0m\u001B[1;32mlambda\u001B[0m \u001B[0mx\u001B[0m\u001B[1;33m:\u001B[0m \u001B[0mdatetime\u001B[0m\u001B[1;33m.\u001B[0m\u001B[0mstrptime\u001B[0m\u001B[1;33m(\u001B[0m\u001B[0mx\u001B[0m\u001B[1;33m,\u001B[0m \u001B[1;34m\"%H:%M:%S\"\u001B[0m\u001B[1;33m)\u001B[0m\u001B[1;33m.\u001B[0m\u001B[0mtime\u001B[0m\u001B[1;33m(\u001B[0m\u001B[1;33m)\u001B[0m\u001B[1;33m)\u001B[0m\u001B[1;33m\u001B[0m\u001B[1;33m\u001B[0m\u001B[0m\n\u001B[0;32m      5\u001B[0m \u001B[0mdata\u001B[0m\u001B[1;33m[\u001B[0m\u001B[1;34m'measurement_duration'\u001B[0m\u001B[1;33m]\u001B[0m \u001B[1;33m=\u001B[0m \u001B[0mdata\u001B[0m\u001B[1;33m[\u001B[0m\u001B[1;34m'measurement_duration'\u001B[0m\u001B[1;33m]\u001B[0m\u001B[1;33m.\u001B[0m\u001B[0mapply\u001B[0m\u001B[1;33m(\u001B[0m\u001B[1;32mlambda\u001B[0m \u001B[0mx\u001B[0m\u001B[1;33m:\u001B[0m \u001B[0mtimedelta\u001B[0m\u001B[1;33m(\u001B[0m\u001B[0mhours\u001B[0m\u001B[1;33m=\u001B[0m\u001B[0mx\u001B[0m\u001B[1;33m.\u001B[0m\u001B[0mhour\u001B[0m\u001B[1;33m,\u001B[0m \u001B[0mminutes\u001B[0m\u001B[1;33m=\u001B[0m\u001B[0mx\u001B[0m\u001B[1;33m.\u001B[0m\u001B[0mminute\u001B[0m\u001B[1;33m,\u001B[0m \u001B[0mseconds\u001B[0m\u001B[1;33m=\u001B[0m\u001B[0mx\u001B[0m\u001B[1;33m.\u001B[0m\u001B[0msecond\u001B[0m\u001B[1;33m)\u001B[0m\u001B[1;33m.\u001B[0m\u001B[0mtotal_seconds\u001B[0m\u001B[1;33m(\u001B[0m\u001B[1;33m)\u001B[0m\u001B[1;33m)\u001B[0m\u001B[1;33m\u001B[0m\u001B[1;33m\u001B[0m\u001B[0m\n\u001B[1;32m----> 6\u001B[1;33m \u001B[0mdata\u001B[0m\u001B[1;33m[\u001B[0m\u001B[1;34m'telephone'\u001B[0m\u001B[1;33m]\u001B[0m \u001B[1;33m=\u001B[0m \u001B[0mdata\u001B[0m\u001B[1;33m[\u001B[0m\u001B[1;34m'telephone'\u001B[0m\u001B[1;33m]\u001B[0m\u001B[1;33m.\u001B[0m\u001B[0mapply\u001B[0m\u001B[1;33m(\u001B[0m\u001B[1;32mlambda\u001B[0m \u001B[0mx\u001B[0m\u001B[1;33m:\u001B[0m \u001B[0mdatetime\u001B[0m\u001B[1;33m.\u001B[0m\u001B[0mstrptime\u001B[0m\u001B[1;33m(\u001B[0m\u001B[0mx\u001B[0m\u001B[1;33m,\u001B[0m \u001B[1;34m\"%H:%M:%S\"\u001B[0m\u001B[1;33m)\u001B[0m\u001B[1;33m.\u001B[0m\u001B[0mtime\u001B[0m\u001B[1;33m(\u001B[0m\u001B[1;33m)\u001B[0m\u001B[1;33m)\u001B[0m\u001B[1;33m\u001B[0m\u001B[1;33m\u001B[0m\u001B[0m\n\u001B[0m\u001B[0;32m      7\u001B[0m \u001B[0mdata\u001B[0m\u001B[1;33m[\u001B[0m\u001B[1;34m'telephone'\u001B[0m\u001B[1;33m]\u001B[0m \u001B[1;33m=\u001B[0m \u001B[0mdata\u001B[0m\u001B[1;33m[\u001B[0m\u001B[1;34m'telephone'\u001B[0m\u001B[1;33m]\u001B[0m\u001B[1;33m.\u001B[0m\u001B[0mapply\u001B[0m\u001B[1;33m(\u001B[0m\u001B[1;32mlambda\u001B[0m \u001B[0mx\u001B[0m\u001B[1;33m:\u001B[0m \u001B[0mtimedelta\u001B[0m\u001B[1;33m(\u001B[0m\u001B[0mhours\u001B[0m\u001B[1;33m=\u001B[0m\u001B[0mx\u001B[0m\u001B[1;33m.\u001B[0m\u001B[0mhour\u001B[0m\u001B[1;33m,\u001B[0m \u001B[0mminutes\u001B[0m\u001B[1;33m=\u001B[0m\u001B[0mx\u001B[0m\u001B[1;33m.\u001B[0m\u001B[0mminute\u001B[0m\u001B[1;33m,\u001B[0m \u001B[0mseconds\u001B[0m\u001B[1;33m=\u001B[0m\u001B[0mx\u001B[0m\u001B[1;33m.\u001B[0m\u001B[0msecond\u001B[0m\u001B[1;33m)\u001B[0m\u001B[1;33m.\u001B[0m\u001B[0mtotal_seconds\u001B[0m\u001B[1;33m(\u001B[0m\u001B[1;33m)\u001B[0m\u001B[1;33m)\u001B[0m\u001B[1;33m\u001B[0m\u001B[1;33m\u001B[0m\u001B[0m\n\u001B[0;32m      8\u001B[0m \u001B[0mdata\u001B[0m\u001B[1;33m[\u001B[0m\u001B[1;34m'texting'\u001B[0m\u001B[1;33m]\u001B[0m \u001B[1;33m=\u001B[0m \u001B[0mdata\u001B[0m\u001B[1;33m[\u001B[0m\u001B[1;34m'texting'\u001B[0m\u001B[1;33m]\u001B[0m\u001B[1;33m.\u001B[0m\u001B[0mapply\u001B[0m\u001B[1;33m(\u001B[0m\u001B[1;32mlambda\u001B[0m \u001B[0mx\u001B[0m\u001B[1;33m:\u001B[0m \u001B[0mdatetime\u001B[0m\u001B[1;33m.\u001B[0m\u001B[0mstrptime\u001B[0m\u001B[1;33m(\u001B[0m\u001B[0mx\u001B[0m\u001B[1;33m,\u001B[0m \u001B[1;34m\"%H:%M:%S\"\u001B[0m\u001B[1;33m)\u001B[0m\u001B[1;33m.\u001B[0m\u001B[0mtime\u001B[0m\u001B[1;33m(\u001B[0m\u001B[1;33m)\u001B[0m\u001B[1;33m)\u001B[0m\u001B[1;33m\u001B[0m\u001B[1;33m\u001B[0m\u001B[0m\n",
      "\u001B[1;32mC:\\ProgramData\\Anaconda3\\lib\\site-packages\\pandas\\core\\frame.py\u001B[0m in \u001B[0;36m__getitem__\u001B[1;34m(self, key)\u001B[0m\n\u001B[0;32m   3022\u001B[0m             \u001B[1;32mif\u001B[0m \u001B[0mself\u001B[0m\u001B[1;33m.\u001B[0m\u001B[0mcolumns\u001B[0m\u001B[1;33m.\u001B[0m\u001B[0mnlevels\u001B[0m \u001B[1;33m>\u001B[0m \u001B[1;36m1\u001B[0m\u001B[1;33m:\u001B[0m\u001B[1;33m\u001B[0m\u001B[1;33m\u001B[0m\u001B[0m\n\u001B[0;32m   3023\u001B[0m                 \u001B[1;32mreturn\u001B[0m \u001B[0mself\u001B[0m\u001B[1;33m.\u001B[0m\u001B[0m_getitem_multilevel\u001B[0m\u001B[1;33m(\u001B[0m\u001B[0mkey\u001B[0m\u001B[1;33m)\u001B[0m\u001B[1;33m\u001B[0m\u001B[1;33m\u001B[0m\u001B[0m\n\u001B[1;32m-> 3024\u001B[1;33m             \u001B[0mindexer\u001B[0m \u001B[1;33m=\u001B[0m \u001B[0mself\u001B[0m\u001B[1;33m.\u001B[0m\u001B[0mcolumns\u001B[0m\u001B[1;33m.\u001B[0m\u001B[0mget_loc\u001B[0m\u001B[1;33m(\u001B[0m\u001B[0mkey\u001B[0m\u001B[1;33m)\u001B[0m\u001B[1;33m\u001B[0m\u001B[1;33m\u001B[0m\u001B[0m\n\u001B[0m\u001B[0;32m   3025\u001B[0m             \u001B[1;32mif\u001B[0m \u001B[0mis_integer\u001B[0m\u001B[1;33m(\u001B[0m\u001B[0mindexer\u001B[0m\u001B[1;33m)\u001B[0m\u001B[1;33m:\u001B[0m\u001B[1;33m\u001B[0m\u001B[1;33m\u001B[0m\u001B[0m\n\u001B[0;32m   3026\u001B[0m                 \u001B[0mindexer\u001B[0m \u001B[1;33m=\u001B[0m \u001B[1;33m[\u001B[0m\u001B[0mindexer\u001B[0m\u001B[1;33m]\u001B[0m\u001B[1;33m\u001B[0m\u001B[1;33m\u001B[0m\u001B[0m\n",
      "\u001B[1;32mC:\\ProgramData\\Anaconda3\\lib\\site-packages\\pandas\\core\\indexes\\base.py\u001B[0m in \u001B[0;36mget_loc\u001B[1;34m(self, key, method, tolerance)\u001B[0m\n\u001B[0;32m   3080\u001B[0m                 \u001B[1;32mreturn\u001B[0m \u001B[0mself\u001B[0m\u001B[1;33m.\u001B[0m\u001B[0m_engine\u001B[0m\u001B[1;33m.\u001B[0m\u001B[0mget_loc\u001B[0m\u001B[1;33m(\u001B[0m\u001B[0mcasted_key\u001B[0m\u001B[1;33m)\u001B[0m\u001B[1;33m\u001B[0m\u001B[1;33m\u001B[0m\u001B[0m\n\u001B[0;32m   3081\u001B[0m             \u001B[1;32mexcept\u001B[0m \u001B[0mKeyError\u001B[0m \u001B[1;32mas\u001B[0m \u001B[0merr\u001B[0m\u001B[1;33m:\u001B[0m\u001B[1;33m\u001B[0m\u001B[1;33m\u001B[0m\u001B[0m\n\u001B[1;32m-> 3082\u001B[1;33m                 \u001B[1;32mraise\u001B[0m \u001B[0mKeyError\u001B[0m\u001B[1;33m(\u001B[0m\u001B[0mkey\u001B[0m\u001B[1;33m)\u001B[0m \u001B[1;32mfrom\u001B[0m \u001B[0merr\u001B[0m\u001B[1;33m\u001B[0m\u001B[1;33m\u001B[0m\u001B[0m\n\u001B[0m\u001B[0;32m   3083\u001B[0m \u001B[1;33m\u001B[0m\u001B[0m\n\u001B[0;32m   3084\u001B[0m         \u001B[1;32mif\u001B[0m \u001B[0mtolerance\u001B[0m \u001B[1;32mis\u001B[0m \u001B[1;32mnot\u001B[0m \u001B[1;32mNone\u001B[0m\u001B[1;33m:\u001B[0m\u001B[1;33m\u001B[0m\u001B[1;33m\u001B[0m\u001B[0m\n",
      "\u001B[1;31mKeyError\u001B[0m: 'telephone'"
     ]
    }
   ],
   "source": [
    "data = pd.read_csv(\"./Data/participants_measurement_duration.csv\")\n",
    "\n",
    "# Convert the h:mm:ss data to seconds\n",
    "data['measurement_duration'] = data['measurement_duration'].apply(lambda x: datetime.strptime(x, \"%H:%M:%S\").time())\n",
    "data['measurement_duration'] = data['measurement_duration'].apply(lambda x: timedelta(hours=x.hour, minutes=x.minute, seconds=x.second).total_seconds())\n",
    "data['telephone'] = data['telephone'].apply(lambda x: datetime.strptime(x, \"%H:%M:%S\").time())\n",
    "data['telephone'] = data['telephone'].apply(lambda x: timedelta(hours=x.hour, minutes=x.minute, seconds=x.second).total_seconds())\n",
    "data['texting'] = data['texting'].apply(lambda x: datetime.strptime(x, \"%H:%M:%S\").time())\n",
    "data['texting'] = data['texting'].apply(lambda x: timedelta(hours=x.hour, minutes=x.minute, seconds=x.second).total_seconds())\n",
    "data['walking'] = data['walking'].apply(lambda x: datetime.strptime(x, \"%H:%M:%S\").time())\n",
    "data['walking'] = data['walking'].apply(lambda x: timedelta(hours=x.hour, minutes=x.minute, seconds=x.second).total_seconds())\n",
    "\n",
    "def to_mmss(x):\n",
    "    minutes = int(x // 60)\n",
    "    seconds = int(x % 60)\n",
    "    return f\"{minutes:02d}:{seconds:02d}\"\n",
    "\n",
    "def mean_std(x):\n",
    "    return f\"{to_mmss(np.mean(x))} (std.={to_mmss(np.std(x))})\"\n",
    "\n",
    "# Create the pivot table\n",
    "table = pd.pivot_table(data, values=['measurement_duration', 'telephone', 'texting', 'walking'],  index=['scenario'], aggfunc=mean_std)\n",
    "\n",
    "table_transposed = table.T\n",
    "display(table_transposed)\n",
    "table_transposed.to_csv ('./Data/manipulation_vs_scenario_experiment_duration.csv')"
   ],
   "metadata": {
    "collapsed": false
   }
  },
  {
   "cell_type": "code",
   "execution_count": 25,
   "outputs": [
    {
     "data": {
      "text/plain": "scenario             pocket\nmeasurement_duration  03:49\ntelephone             00:40\ntexting               01:30\nwalking               00:29",
      "text/html": "<div>\n<style scoped>\n    .dataframe tbody tr th:only-of-type {\n        vertical-align: middle;\n    }\n\n    .dataframe tbody tr th {\n        vertical-align: top;\n    }\n\n    .dataframe thead th {\n        text-align: right;\n    }\n</style>\n<table border=\"1\" class=\"dataframe\">\n  <thead>\n    <tr style=\"text-align: right;\">\n      <th>scenario</th>\n      <th>pocket</th>\n    </tr>\n  </thead>\n  <tbody>\n    <tr>\n      <th>measurement_duration</th>\n      <td>03:49</td>\n    </tr>\n    <tr>\n      <th>telephone</th>\n      <td>00:40</td>\n    </tr>\n    <tr>\n      <th>texting</th>\n      <td>01:30</td>\n    </tr>\n    <tr>\n      <th>walking</th>\n      <td>00:29</td>\n    </tr>\n  </tbody>\n</table>\n</div>"
     },
     "metadata": {},
     "output_type": "display_data"
    }
   ],
   "source": [
    "# sum of all duration for scenario vs manipulation\n",
    "def sum(x):\n",
    "    return f\"{to_mmss(np.sum(x))}\"\n",
    "\n",
    "# Create the pivot table\n",
    "table = pd.pivot_table(data, values=['measurement_duration', 'telephone', 'texting', 'walking'], index=['scenario'], aggfunc=sum)\n",
    "table_transposed = table.T\n",
    "display(table_transposed)"
   ],
   "metadata": {
    "collapsed": false
   }
  },
  {
   "cell_type": "code",
   "execution_count": null,
   "outputs": [],
   "source": [],
   "metadata": {
    "collapsed": false
   }
  }
 ],
 "metadata": {
  "kernelspec": {
   "display_name": "Python 3",
   "language": "python",
   "name": "python3"
  },
  "language_info": {
   "codemirror_mode": {
    "name": "ipython",
    "version": 2
   },
   "file_extension": ".py",
   "mimetype": "text/x-python",
   "name": "python",
   "nbconvert_exporter": "python",
   "pygments_lexer": "ipython2",
   "version": "2.7.6"
  }
 },
 "nbformat": 4,
 "nbformat_minor": 0
}
